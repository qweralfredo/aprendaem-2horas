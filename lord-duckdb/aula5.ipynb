{
 "cells": [
  {
   "cell_type": "markdown",
   "metadata": {},
   "source": [
    "## Importação de Dados\n",
    "- Visão Geral dos Dados\n",
    "    * Diagrama\n",
    "* Fontes\n",
    "    - Postgres\n",
    "    \n",
    "- Group By\n",
    "- Pivot\n",
    "- Functions\n",
    "- Exclude"
   ]
  },
  {
   "cell_type": "code",
   "execution_count": null,
   "metadata": {},
   "outputs": [],
   "source": [
    "import duckdb\n",
    "con = duckdb.connect() \n",
    "%load_ext sql\n",
    "conn = duckdb.connect()\n",
    "%sql conn --alias duckdb"
   ]
  },
  {
   "cell_type": "code",
   "execution_count": null,
   "metadata": {},
   "outputs": [],
   "source": [
    "%%sql \n",
    "\n",
    "INSTALL postgres;\n",
    "LOAD postgres;\n",
    "ATTACH 'dbname=lord_duckdb_postgres user=lord password=postgres123 host=127.0.0.1' AS db (TYPE POSTGRES);\n",
    "\n",
    "SHOW ALL TABLES;"
   ]
  },
  {
   "cell_type": "code",
   "execution_count": null,
   "metadata": {},
   "outputs": [],
   "source": [
    "%%sql\n",
    "\n",
    "CALL postgres_execute('db', ' CREATE TABLE  RECOMENDACAO (\n",
    "            codigo_ocorrencia4 INTEGER,\n",
    "            recomendacao_numero varchar(2000),\n",
    "            recomendacao_dia_assinatura DATE null,\n",
    "            recomendacao_dia_encaminhamento DATE null,\n",
    "            recomendacao_dia_feedback DATE null,\n",
    "            recomendacao_status VARCHAR(2000),\n",
    "            recomendacao_destinatario_sigla VARCHAR(2000),\n",
    "            recomendacao_destinatario VARCHAR(2000),\n",
    "            recomendacao_conteudo TEXT\n",
    "        );');\n",
    "\n",
    "\n"
   ]
  },
  {
   "cell_type": "code",
   "execution_count": null,
   "metadata": {},
   "outputs": [],
   "source": [
    "!pip install psycopg2 --quiet"
   ]
  },
  {
   "cell_type": "code",
   "execution_count": null,
   "metadata": {},
   "outputs": [],
   "source": [
    "import csv\n",
    "import psycopg2\n",
    "\n",
    "# Connect to PostgreSQL database\n",
    "conn = psycopg2.connect(\n",
    "    dbname=\"lord_duckdb_postgres\", \n",
    "    user=\"lord\", \n",
    "    password=\"postgres123\", \n",
    "    host=\"127.0.0.1\", \n",
    "    port=\"5432\"\n",
    ")\n",
    "cursor = conn.cursor()\n",
    "cursor.execute(\"delete from recomendacao;\")\n",
    "# Open and read the CSV file\n",
    "with open('data/aula5/recomendacao.csv', newline='', encoding='utf-8') as csvfile:\n",
    "    csvreader = csv.reader(csvfile, delimiter=';')\n",
    "    next(csvreader)  # Skip the header row\n",
    "    for row in csvreader:\n",
    "        # Replace \"NULL\" with None for date fields\n",
    "        row = [None if value == \"NULL\" else value for value in row]\n",
    "        #print(row)\n",
    "        # Assuming the CSV columns match the table structure\n",
    "        cursor.execute('''\n",
    "            INSERT INTO recomendacao (\n",
    "                codigo_ocorrencia4, recomendacao_numero, recomendacao_dia_assinatura, \n",
    "                recomendacao_dia_encaminhamento, recomendacao_dia_feedback, recomendacao_status, \n",
    "                recomendacao_destinatario_sigla, recomendacao_destinatario, recomendacao_conteudo\n",
    "            ) VALUES (%s, %s, %s, %s, %s, %s, %s, %s, %s)\n",
    "        ''', row)\n",
    "\n",
    "# Commit and close\n",
    "conn.commit()\n",
    "conn.close()"
   ]
  },
  {
   "cell_type": "code",
   "execution_count": null,
   "metadata": {},
   "outputs": [],
   "source": [
    "%%sql \n",
    "\n",
    "CALL postgres_execute('db', 'drop table OCORRENCIA; CREATE TABLE IF NOT EXISTS OCORRENCIA (\n",
    "            codigo_ocorrencia1 INTEGER,\n",
    "            codigo_ocorrencia4 INTEGER,\n",
    "            codigo_ocorrencia2 INTEGER,\n",
    "            codigo_ocorrencia3 INTEGER,\n",
    "            codigo_ocorrencia INTEGER,\n",
    "            ocorrencia_classificacao VARCHAR(255),\n",
    "            ocorrencia_longitude double precision,\n",
    "            ocorrencia_latitude double precision,\n",
    "            ocorrencia_cidade VARCHAR(255),\n",
    "            ocorrencia_uf VARCHAR(255),\n",
    "            ocorrencia_pais VARCHAR(255),\n",
    "            ocorrencia_aerodromo VARCHAR(255),\n",
    "            ocorrencia_dia DATE,\n",
    "            ocorrencia_hora TIME null,\n",
    "            investigacao_aeronave_liberada varchar(3),\n",
    "            investigacao_status VARCHAR(255),\n",
    "            divulgacao_relatorio_numero varchar(255),\n",
    "            divulgacao_relatorio_publicado varchar(3),\n",
    "            divulgacao_dia_publicacao DATE null,\n",
    "            total_recomendacoes INTEGER,\n",
    "            total_aeronaves_envolvidas varchar(3),\n",
    "            ocorrencia_saida_pista VARCHAR(255)\n",
    "        );');\n",
    "\n"
   ]
  },
  {
   "cell_type": "code",
   "execution_count": null,
   "metadata": {},
   "outputs": [],
   "source": [
    "conn = psycopg2.connect(\n",
    "    dbname=\"lord_duckdb_postgres\", \n",
    "    user=\"lord\", \n",
    "    password=\"postgres123\", \n",
    "    host=\"127.0.0.1\", \n",
    "    port=\"5432\"\n",
    ")\n",
    "\n",
    "import re\n",
    "\n",
    "def replace_dots_after_first(value):\n",
    "    value = value.replace(',', '.')\n",
    "    dots = [m.start() for m in re.finditer('\\.', value)]\n",
    "    \n",
    "    # Se houver mais de um ponto, substitui todos os pontos após o primeiro por uma string vazia\n",
    "    if len(dots) > 1:\n",
    "        return value[:(dots[0]+1)]+value[(dots[0]+1):].replace('.', '')\n",
    "    return value\n",
    "\n",
    "def formatDate(value):\n",
    "    if value == 'NULL':\n",
    "        return None\n",
    "    arr = value.split('/')\n",
    "    return arr[2]+'-'+arr[1]+'-'+arr[0]\n",
    "\n",
    "cursor = conn.cursor()\n",
    "cursor.execute(\"delete from ocorrencia;\")\n",
    "# Open and read the CSV file\n",
    "with open('data/aula5/ocorrencia.csv', newline='', encoding='utf-8') as csvfile:\n",
    "    csvreader = csv.reader(csvfile, delimiter=';')\n",
    "    next(csvreader)  # Skip the header row\n",
    "    for row in csvreader:\n",
    "        # Replace \"NULL\" with None for date fields\n",
    "        #print(row) \n",
    "        if(row[6] != 'NULL' and row[6] != '' and '*' not in row[6]):\n",
    "            row[6] = replace_dots_after_first(row[6]) \n",
    "        if(row[7] != 'NULL' and row[7] != '' and '*' not in row[7]): \n",
    "            row[7] = replace_dots_after_first(row[7]) \n",
    "        else:\n",
    "            row[6] = None\n",
    "            row[7] = None    \n",
    "\n",
    "        row[12] = formatDate(row[12])\n",
    "        row[18] = formatDate(row[18])\n",
    "        row[13] = None if row[13] == 'NULL' else row[13]\n",
    "        row[14] = None if row[14] == 'NULL' else row[14]\n",
    "        try:\n",
    "            cursor.execute('''\n",
    "                INSERT INTO ocorrencia (\n",
    "                    codigo_ocorrencia1, codigo_ocorrencia4, codigo_ocorrencia2, codigo_ocorrencia3, \n",
    "                    codigo_ocorrencia, ocorrencia_classificacao, ocorrencia_longitude, ocorrencia_latitude, \n",
    "                    ocorrencia_cidade, ocorrencia_uf, ocorrencia_pais, ocorrencia_aerodromo, \n",
    "                    ocorrencia_dia, ocorrencia_hora, investigacao_aeronave_liberada, investigacao_status, \n",
    "                    divulgacao_relatorio_numero, divulgacao_relatorio_publicado, divulgacao_dia_publicacao, \n",
    "                    total_recomendacoes, total_aeronaves_envolvidas, ocorrencia_saida_pista\n",
    "                ) VALUES (%s, %s, %s, %s, %s, %s, %s, %s, %s, %s, %s, %s, %s, %s, %s, %s, %s, %s, %s, %s, %s, %s)\n",
    "            ''', row)\n",
    "        except Exception as e:\n",
    "            print(e)\n",
    "            break\n",
    "    \n",
    "# Commit and close\n",
    "conn.commit()\n",
    "conn.close()"
   ]
  },
  {
   "cell_type": "code",
   "execution_count": 62,
   "metadata": {},
   "outputs": [
    {
     "data": {
      "text/html": [
       "<span style=\"None\">Running query in &#x27;duckdb&#x27;</span>"
      ],
      "text/plain": [
       "Running query in 'duckdb'"
      ]
     },
     "metadata": {},
     "output_type": "display_data"
    },
    {
     "data": {
      "text/html": [
       "<table>\n",
       "    <thead>\n",
       "        <tr>\n",
       "            <th>Success</th>\n",
       "        </tr>\n",
       "    </thead>\n",
       "    <tbody>\n",
       "    </tbody>\n",
       "</table>"
      ],
      "text/plain": [
       "+---------+\n",
       "| Success |\n",
       "+---------+\n",
       "+---------+"
      ]
     },
     "execution_count": 62,
     "metadata": {},
     "output_type": "execute_result"
    }
   ],
   "source": [
    "%%sql \n",
    "\n",
    "CALL postgres_execute('db', 'CREATE TABLE IF NOT EXISTS OCORRENCIA_TIPO (\n",
    "            codigo_ocorrencia1 INTEGER,\n",
    "            ocorrencia_tipo VARCHAR(255),\n",
    "            ocorrencia_tipo_categoria VARCHAR(255),\n",
    "            taxonomia_tipo_icao VARCHAR(255)\n",
    "        );');\n",
    "\n"
   ]
  },
  {
   "cell_type": "code",
   "execution_count": 63,
   "metadata": {},
   "outputs": [],
   "source": [
    "import csv\n",
    "import psycopg2\n",
    "\n",
    "# Connect to PostgreSQL database\n",
    "conn = psycopg2.connect(\n",
    "    dbname=\"lord_duckdb_postgres\", \n",
    "    user=\"lord\", \n",
    "    password=\"postgres123\", \n",
    "    host=\"127.0.0.1\", \n",
    "    port=\"5432\"\n",
    ")\n",
    "\n",
    "cursor = conn.cursor()\n",
    "cursor.execute(\"delete from ocorrencia_tipo;\")\n",
    "# Assuming you have a CSV file named 'ocorrencia_tipo.csv' with the appropriate columns\n",
    "with open('data/aula5/ocorrencia_tipo.csv', newline='', encoding='utf-8') as csvfile:\n",
    "    csvreader = csv.reader(csvfile, delimiter=';')  # Adjust delimiter if necessary\n",
    "    next(csvreader)  # Skip the header row if your CSV has one\n",
    "    for row in csvreader:\n",
    "        try:\n",
    "            cursor.execute('''\n",
    "                INSERT INTO OCORRENCIA_TIPO (\n",
    "                    codigo_ocorrencia1, ocorrencia_tipo, ocorrencia_tipo_categoria, taxonomia_tipo_icao\n",
    "                ) VALUES (%s, %s, %s, %s)\n",
    "            ''', row)\n",
    "        except Exception as e:\n",
    "            print(row)\n",
    "            print(e)\n",
    "            break\n",
    "# Commit and close\n",
    "conn.commit()\n",
    "conn.close()"
   ]
  },
  {
   "cell_type": "code",
   "execution_count": 70,
   "metadata": {},
   "outputs": [
    {
     "data": {
      "text/html": [
       "<span style=\"None\">Running query in &#x27;duckdb&#x27;</span>"
      ],
      "text/plain": [
       "Running query in 'duckdb'"
      ]
     },
     "metadata": {},
     "output_type": "display_data"
    },
    {
     "data": {
      "text/html": [
       "<table>\n",
       "    <thead>\n",
       "        <tr>\n",
       "            <th>Success</th>\n",
       "        </tr>\n",
       "    </thead>\n",
       "    <tbody>\n",
       "    </tbody>\n",
       "</table>"
      ],
      "text/plain": [
       "+---------+\n",
       "| Success |\n",
       "+---------+\n",
       "+---------+"
      ]
     },
     "execution_count": 70,
     "metadata": {},
     "output_type": "execute_result"
    }
   ],
   "source": [
    "%%sql \n",
    "\n",
    "CALL postgres_execute('db', 'drop table AERONAVE; CREATE TABLE IF NOT EXISTS AERONAVE (\n",
    "            codigo_ocorrencia2 INTEGER,\n",
    "            aeronave_matricula VARCHAR(255),\n",
    "            aeronave_operador_categoria VARCHAR(255),\n",
    "            aeronave_tipo_veiculo VARCHAR(255),\n",
    "            aeronave_fabricante VARCHAR(255),\n",
    "            aeronave_modelo VARCHAR(255),\n",
    "            aeronave_tipo_icao VARCHAR(255),\n",
    "            aeronave_motor_tipo VARCHAR(255),\n",
    "            aeronave_motor_quantidade varchar(255),\n",
    "            aeronave_pmd VARCHAR(255),\n",
    "            aeronave_pmd_categoria VARCHAR(255),\n",
    "            aeronave_assentos INTEGER null,\n",
    "            aeronave_ano_fabricacao INTEGER null,\n",
    "            aeronave_pais_fabricante VARCHAR(255),\n",
    "            aeronave_pais_registro VARCHAR(255),\n",
    "            aeronave_registro_categoria VARCHAR(255),\n",
    "            aeronave_registro_segmento VARCHAR(255),\n",
    "            aeronave_voo_origem VARCHAR(255),\n",
    "            aeronave_voo_destino VARCHAR(255),\n",
    "            aeronave_fase_operacao VARCHAR(255),\n",
    "            aeronave_tipo_operacao VARCHAR(255),\n",
    "            aeronave_nivel_dano VARCHAR(255),\n",
    "            aeronave_fatalidades_total INTEGER\n",
    "        );');\n",
    "\n"
   ]
  },
  {
   "cell_type": "code",
   "execution_count": 72,
   "metadata": {},
   "outputs": [
    {
     "ename": "InvalidTextRepresentation",
     "evalue": "invalid input syntax for type integer: \"NULL\"\nLINE 11: ...0', 'AT76', '***', '***', '23000', '23000', NULL, 'NULL', 'B...\n                                                              ^\n",
     "output_type": "error",
     "traceback": [
      "\u001b[0;31m---------------------------------------------------------------------------\u001b[0m",
      "\u001b[0;31mInvalidTextRepresentation\u001b[0m                 Traceback (most recent call last)",
      "Cell \u001b[0;32mIn[72], line 21\u001b[0m\n\u001b[1;32m     18\u001b[0m     \u001b[38;5;28;01mfor\u001b[39;00m row \u001b[38;5;129;01min\u001b[39;00m csvreader:\n\u001b[1;32m     19\u001b[0m         \u001b[38;5;66;03m# Replace \"NULL\" with None for date fields\u001b[39;00m\n\u001b[1;32m     20\u001b[0m         row[\u001b[38;5;241m11\u001b[39m] \u001b[38;5;241m=\u001b[39m \u001b[38;5;28;01mNone\u001b[39;00m \u001b[38;5;28;01mif\u001b[39;00m row[\u001b[38;5;241m11\u001b[39m] \u001b[38;5;241m==\u001b[39m \u001b[38;5;124m'\u001b[39m\u001b[38;5;124mNULL\u001b[39m\u001b[38;5;124m'\u001b[39m \u001b[38;5;28;01melse\u001b[39;00m row[\u001b[38;5;241m11\u001b[39m]\n\u001b[0;32m---> 21\u001b[0m         \u001b[43mcursor\u001b[49m\u001b[38;5;241;43m.\u001b[39;49m\u001b[43mexecute\u001b[49m\u001b[43m(\u001b[49m\u001b[38;5;124;43m'''\u001b[39;49m\n\u001b[1;32m     22\u001b[0m \u001b[38;5;124;43m            INSERT INTO AERONAVE (\u001b[39;49m\n\u001b[1;32m     23\u001b[0m \u001b[38;5;124;43m                codigo_ocorrencia2, aeronave_matricula, aeronave_operador_categoria, \u001b[39;49m\n\u001b[1;32m     24\u001b[0m \u001b[38;5;124;43m                aeronave_tipo_veiculo, aeronave_fabricante, aeronave_modelo, \u001b[39;49m\n\u001b[1;32m     25\u001b[0m \u001b[38;5;124;43m                aeronave_tipo_icao, aeronave_motor_tipo, aeronave_motor_quantidade, \u001b[39;49m\n\u001b[1;32m     26\u001b[0m \u001b[38;5;124;43m                aeronave_pmd, aeronave_pmd_categoria, aeronave_assentos, \u001b[39;49m\n\u001b[1;32m     27\u001b[0m \u001b[38;5;124;43m                aeronave_ano_fabricacao, aeronave_pais_fabricante, aeronave_pais_registro, \u001b[39;49m\n\u001b[1;32m     28\u001b[0m \u001b[38;5;124;43m                aeronave_registro_categoria, aeronave_registro_segmento, aeronave_voo_origem, \u001b[39;49m\n\u001b[1;32m     29\u001b[0m \u001b[38;5;124;43m                aeronave_voo_destino, aeronave_fase_operacao, aeronave_tipo_operacao, \u001b[39;49m\n\u001b[1;32m     30\u001b[0m \u001b[38;5;124;43m                aeronave_nivel_dano, aeronave_fatalidades_total\u001b[39;49m\n\u001b[1;32m     31\u001b[0m \u001b[38;5;124;43m            ) VALUES (\u001b[39;49m\u001b[38;5;132;43;01m%s\u001b[39;49;00m\u001b[38;5;124;43m, \u001b[39;49m\u001b[38;5;132;43;01m%s\u001b[39;49;00m\u001b[38;5;124;43m, \u001b[39;49m\u001b[38;5;132;43;01m%s\u001b[39;49;00m\u001b[38;5;124;43m, \u001b[39;49m\u001b[38;5;132;43;01m%s\u001b[39;49;00m\u001b[38;5;124;43m, \u001b[39;49m\u001b[38;5;132;43;01m%s\u001b[39;49;00m\u001b[38;5;124;43m, \u001b[39;49m\u001b[38;5;132;43;01m%s\u001b[39;49;00m\u001b[38;5;124;43m, \u001b[39;49m\u001b[38;5;132;43;01m%s\u001b[39;49;00m\u001b[38;5;124;43m, \u001b[39;49m\u001b[38;5;132;43;01m%s\u001b[39;49;00m\u001b[38;5;124;43m, \u001b[39;49m\u001b[38;5;132;43;01m%s\u001b[39;49;00m\u001b[38;5;124;43m, \u001b[39;49m\u001b[38;5;132;43;01m%s\u001b[39;49;00m\u001b[38;5;124;43m, \u001b[39;49m\u001b[38;5;132;43;01m%s\u001b[39;49;00m\u001b[38;5;124;43m, \u001b[39;49m\u001b[38;5;132;43;01m%s\u001b[39;49;00m\u001b[38;5;124;43m, \u001b[39;49m\u001b[38;5;132;43;01m%s\u001b[39;49;00m\u001b[38;5;124;43m, \u001b[39;49m\u001b[38;5;132;43;01m%s\u001b[39;49;00m\u001b[38;5;124;43m, \u001b[39;49m\u001b[38;5;132;43;01m%s\u001b[39;49;00m\u001b[38;5;124;43m, \u001b[39;49m\u001b[38;5;132;43;01m%s\u001b[39;49;00m\u001b[38;5;124;43m, \u001b[39;49m\u001b[38;5;132;43;01m%s\u001b[39;49;00m\u001b[38;5;124;43m, \u001b[39;49m\u001b[38;5;132;43;01m%s\u001b[39;49;00m\u001b[38;5;124;43m, \u001b[39;49m\u001b[38;5;132;43;01m%s\u001b[39;49;00m\u001b[38;5;124;43m, \u001b[39;49m\u001b[38;5;132;43;01m%s\u001b[39;49;00m\u001b[38;5;124;43m, \u001b[39;49m\u001b[38;5;132;43;01m%s\u001b[39;49;00m\u001b[38;5;124;43m, \u001b[39;49m\u001b[38;5;132;43;01m%s\u001b[39;49;00m\u001b[38;5;124;43m, \u001b[39;49m\u001b[38;5;132;43;01m%s\u001b[39;49;00m\u001b[38;5;124;43m)\u001b[39;49m\n\u001b[1;32m     32\u001b[0m \u001b[38;5;124;43m        \u001b[39;49m\u001b[38;5;124;43m'''\u001b[39;49m\u001b[43m,\u001b[49m\u001b[43m \u001b[49m\u001b[43mrow\u001b[49m\u001b[43m)\u001b[49m\n\u001b[1;32m     34\u001b[0m \u001b[38;5;66;03m# Commit and close\u001b[39;00m\n\u001b[1;32m     35\u001b[0m conn\u001b[38;5;241m.\u001b[39mcommit()\n",
      "\u001b[0;31mInvalidTextRepresentation\u001b[0m: invalid input syntax for type integer: \"NULL\"\nLINE 11: ...0', 'AT76', '***', '***', '23000', '23000', NULL, 'NULL', 'B...\n                                                              ^\n"
     ]
    }
   ],
   "source": [
    "import csv\n",
    "import psycopg2\n",
    "\n",
    "# Connect to PostgreSQL database\n",
    "conn = psycopg2.connect(\n",
    "    dbname=\"lord_duckdb_postgres\", \n",
    "    user=\"lord\", \n",
    "    password=\"postgres123\", \n",
    "    host=\"127.0.0.1\", \n",
    "    port=\"5432\"\n",
    ")\n",
    "cursor = conn.cursor()\n",
    "cursor.execute(\"delete from aeronave;\")\n",
    "# Assuming you have a CSV file named 'aeronave.csv' with the appropriate columns\n",
    "with open('data/aula5/aeronave.csv', newline='', encoding='utf-8') as csvfile:\n",
    "    csvreader = csv.reader(csvfile, delimiter=';')  # Adjust delimiter if necessary\n",
    "    next(csvreader)  # Skip the header row if your CSV has one\n",
    "    for row in csvreader:\n",
    "        # Replace \"NULL\" with None for date fields\n",
    "        row[11] = None if row[11] == 'NULL' else row[11]\n",
    "        cursor.execute('''\n",
    "            INSERT INTO AERONAVE (\n",
    "                codigo_ocorrencia2, aeronave_matricula, aeronave_operador_categoria, \n",
    "                aeronave_tipo_veiculo, aeronave_fabricante, aeronave_modelo, \n",
    "                aeronave_tipo_icao, aeronave_motor_tipo, aeronave_motor_quantidade, \n",
    "                aeronave_pmd, aeronave_pmd_categoria, aeronave_assentos, \n",
    "                aeronave_ano_fabricacao, aeronave_pais_fabricante, aeronave_pais_registro, \n",
    "                aeronave_registro_categoria, aeronave_registro_segmento, aeronave_voo_origem, \n",
    "                aeronave_voo_destino, aeronave_fase_operacao, aeronave_tipo_operacao, \n",
    "                aeronave_nivel_dano, aeronave_fatalidades_total\n",
    "            ) VALUES (%s, %s, %s, %s, %s, %s, %s, %s, %s, %s, %s, %s, %s, %s, %s, %s, %s, %s, %s, %s, %s, %s, %s)\n",
    "        ''', row)\n",
    "\n",
    "# Commit and close\n",
    "conn.commit()\n",
    "conn.close()"
   ]
  },
  {
   "cell_type": "code",
   "execution_count": null,
   "metadata": {},
   "outputs": [],
   "source": [
    "%%sql \n",
    "\n",
    "CALL postgres_execute('db', 'CREATE TABLE IF NOT EXISTS FATOR_CONTRIBUINTE (\n",
    "            codigo_ocorrencia3 INTEGER,\n",
    "            fator_nome VARCHAR(255),\n",
    "            fator_aspecto VARCHAR(255),\n",
    "            fator_condicionante VARCHAR(255),\n",
    "            fator_area VARCHAR(255)\n",
    "        );');\n",
    "\n"
   ]
  },
  {
   "cell_type": "code",
   "execution_count": null,
   "metadata": {},
   "outputs": [],
   "source": []
  },
  {
   "cell_type": "code",
   "execution_count": null,
   "metadata": {},
   "outputs": [],
   "source": []
  },
  {
   "cell_type": "markdown",
   "metadata": {},
   "source": [
    "## Exportação de Dados\n",
    "- Visão Geral\n",
    "- Saídas\n",
    "    - S3 (minio/aws)\n",
    "        - Delta Sharing\n",
    "        - Power BI\n",
    "        - Trino\n",
    "\n",
    "    - Embedded Data Analysis \n",
    "        - Superset \n",
    "        \n",
    "    - CSV\n",
    "    - Json"
   ]
  },
  {
   "cell_type": "code",
   "execution_count": null,
   "metadata": {},
   "outputs": [],
   "source": [
    "#Export Data"
   ]
  }
 ],
 "metadata": {
  "kernelspec": {
   "display_name": "Python 3",
   "language": "python",
   "name": "python3"
  },
  "language_info": {
   "codemirror_mode": {
    "name": "ipython",
    "version": 3
   },
   "file_extension": ".py",
   "mimetype": "text/x-python",
   "name": "python",
   "nbconvert_exporter": "python",
   "pygments_lexer": "ipython3",
   "version": "3.10.13"
  }
 },
 "nbformat": 4,
 "nbformat_minor": 2
}
