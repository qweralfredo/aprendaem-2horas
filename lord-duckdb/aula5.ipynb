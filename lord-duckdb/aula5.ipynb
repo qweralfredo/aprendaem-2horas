{
 "cells": [
  {
   "cell_type": "markdown",
   "metadata": {},
   "source": [
    "## Importação de Dados\n",
    "- Visão Geral dos Dados\n",
    "    * Diagrama\n",
    "* Fontes\n",
    "    - Postgres\n",
    "    \n",
    "- Group By\n",
    "- Pivot\n",
    "- Functions\n",
    "- Exclude"
   ]
  },
  {
   "cell_type": "code",
   "execution_count": null,
   "metadata": {},
   "outputs": [],
   "source": [
    "!pip install duckdb --quiet"
   ]
  },
  {
   "cell_type": "code",
   "execution_count": 7,
   "metadata": {},
   "outputs": [
    {
     "name": "stdout",
     "output_type": "stream",
     "text": [
      "The sql extension is already loaded. To reload it, use:\n",
      "  %reload_ext sql\n"
     ]
    }
   ],
   "source": [
    "import duckdb \n",
    "%load_ext sql\n",
    "conn = duckdb.connect()\n",
    "%sql conn --alias duckdb"
   ]
  },
  {
   "cell_type": "code",
   "execution_count": 8,
   "metadata": {},
   "outputs": [
    {
     "data": {
      "text/html": [
       "<span style=\"None\">Running query in &#x27;duckdb&#x27;</span>"
      ],
      "text/plain": [
       "Running query in 'duckdb'"
      ]
     },
     "metadata": {},
     "output_type": "display_data"
    },
    {
     "data": {
      "text/html": [
       "<table>\n",
       "    <thead>\n",
       "        <tr>\n",
       "            <th>database</th>\n",
       "            <th>schema</th>\n",
       "            <th>name</th>\n",
       "            <th>column_names</th>\n",
       "            <th>column_types</th>\n",
       "            <th>temporary</th>\n",
       "        </tr>\n",
       "    </thead>\n",
       "    <tbody>\n",
       "        <tr>\n",
       "            <td>db</td>\n",
       "            <td>public</td>\n",
       "            <td>aeronave</td>\n",
       "            <td>['codigo_ocorrencia2', 'aeronave_matricula', 'aeronave_operador_categoria', 'aeronave_tipo_veiculo', 'aeronave_fabricante', 'aeronave_modelo', 'aeronave_tipo_icao', 'aeronave_motor_tipo', 'aeronave_motor_quantidade', 'aeronave_pmd', 'aeronave_pmd_categoria', 'aeronave_assentos', 'aeronave_ano_fabricacao', 'aeronave_pais_fabricante', 'aeronave_pais_registro', 'aeronave_registro_categoria', 'aeronave_registro_segmento', 'aeronave_voo_origem', 'aeronave_voo_destino', 'aeronave_fase_operacao', 'aeronave_tipo_operacao', 'aeronave_nivel_dano', 'aeronave_fatalidades_total']</td>\n",
       "            <td>['INTEGER', 'VARCHAR', 'VARCHAR', 'VARCHAR', 'VARCHAR', 'VARCHAR', 'VARCHAR', 'VARCHAR', 'VARCHAR', 'VARCHAR', 'VARCHAR', 'INTEGER', 'INTEGER', 'VARCHAR', 'VARCHAR', 'VARCHAR', 'VARCHAR', 'VARCHAR', 'VARCHAR', 'VARCHAR', 'VARCHAR', 'VARCHAR', 'INTEGER']</td>\n",
       "            <td>False</td>\n",
       "        </tr>\n",
       "        <tr>\n",
       "            <td>db</td>\n",
       "            <td>public</td>\n",
       "            <td>big_fact_ocorrencias</td>\n",
       "            <td>['codigo_ocorrencia', 'codigo_ocorrencia_tipo', 'ocorrencia_tipo', 'codigo_ocorrencia_tipo_categoria', 'ocorrencia_tipo_categoria', 'taxonomia_tipo_icao', 'codigo_ocorrencia_uf', 'ocorrencia_uf', 'codigo_ocorrencia_cidade', 'ocorrencia_cidade', 'codigo_ocorrencia_pais', 'ocorrencia_pais', 'codigo_ocorrencia_aerodromo', 'ocorrencia_aerodromo', 'codigo_investigacao_status', 'investigacao_status', 'codigo_investigacao_aeronave_liberada', 'investigacao_aeronave_liberada', 'codigo_divulgacao_relatorio_publicado', 'divulgacao_relatorio_publicado', 'codigo_ocorrencia_saida_pista', 'ocorrencia_saida_pista', 'codigo_aeronave_tipo_veiculo', 'aeronave_tipo_veiculo', 'codigo_aeronave_fabricante', 'aeronave_fabricante', 'codigo_aeronave_modelo', 'aeronave_modelo', 'codigo_aeronave_tipo_icao', 'aeronave_tipo_icao', 'codigo_aeronave_motor_tipo', 'aeronave_motor_tipo', 'codigo_aeronave_motor_quantidade', 'aeronave_motor_quantidade', 'codigo_aeronave_pmd', 'aeronave_pmd', 'codigo_aeronave_ano_fabricacao', 'aeronave_ano_fabricacao', 'codigo_aeronave_assentos', 'aeronave_assentos', 'codigo_aeronave_pais_fabricante', 'aeronave_pais_fabricante', 'codigo_aeronave_pais_registro', 'aeronave_pais_registro', 'codigo_aeronave_registro_categoria', 'aeronave_registro_categoria', 'codigo_aeronave_registro_segmento', 'aeronave_registro_segmento', 'codigo_aeronave_voo_origem', 'aeronave_voo_origem', 'codigo_aeronave_voo_destino', 'aeronave_voo_destino', 'codigo_aeronave_fase_operacao', 'aeronave_fase_operacao', 'codigo_aeronave_tipo_operacao', 'aeronave_tipo_operacao', 'codigo_aeronave_nivel_dano', 'aeronave_nivel_dano', 'codigo_fator_condicionante', 'fator_condicionante', 'codigo_fator_aspecto', 'fator_aspecto', 'codigo_fator_area', 'fator_area', 'codigo_recomendacao_destinatario_sigla', 'recomendacao_destinatario_sigla', 'codigo_recomendacao_destinatario', 'recomendacao_destinatario', 'recomendacao_conteudo']</td>\n",
       "            <td>['INTEGER', 'BIGINT', 'VARCHAR', 'BIGINT', 'VARCHAR', 'VARCHAR', 'BIGINT', 'VARCHAR', 'BIGINT', 'VARCHAR', 'BIGINT', 'VARCHAR', 'BIGINT', 'VARCHAR', 'BIGINT', 'VARCHAR', 'BIGINT', 'VARCHAR', 'BIGINT', 'VARCHAR', 'BIGINT', 'VARCHAR', 'BIGINT', 'VARCHAR', 'BIGINT', 'VARCHAR', 'BIGINT', 'VARCHAR', 'BIGINT', 'VARCHAR', 'BIGINT', 'VARCHAR', 'BIGINT', 'VARCHAR', 'BIGINT', 'VARCHAR', 'BIGINT', 'INTEGER', 'BIGINT', 'INTEGER', 'BIGINT', 'VARCHAR', 'BIGINT', 'VARCHAR', 'BIGINT', 'VARCHAR', 'BIGINT', 'VARCHAR', 'BIGINT', 'VARCHAR', 'BIGINT', 'VARCHAR', 'BIGINT', 'VARCHAR', 'BIGINT', 'VARCHAR', 'BIGINT', 'VARCHAR', 'BIGINT', 'VARCHAR', 'BIGINT', 'VARCHAR', 'BIGINT', 'VARCHAR', 'BIGINT', 'VARCHAR', 'BIGINT', 'VARCHAR', 'VARCHAR']</td>\n",
       "            <td>False</td>\n",
       "        </tr>\n",
       "        <tr>\n",
       "            <td>db</td>\n",
       "            <td>public</td>\n",
       "            <td>calendario</td>\n",
       "            <td>['data_completa', 'hora', 'minuto', 'dia', 'mes', 'ano', 'dia_da_semana', 'semana_do_ano', 'trimestre', 'e_feriado', 'e_fim_de_semana']</td>\n",
       "            <td>['DATE', 'INTEGER', 'INTEGER', 'INTEGER', 'INTEGER', 'INTEGER', 'VARCHAR', 'INTEGER', 'INTEGER', 'BOOLEAN', 'BOOLEAN']</td>\n",
       "            <td>False</td>\n",
       "        </tr>\n",
       "        <tr>\n",
       "            <td>db</td>\n",
       "            <td>public</td>\n",
       "            <td>dimensao_aeronave_ano_fabricacao</td>\n",
       "            <td>['codigo_aeronave_ano_fabricacao', 'aeronave_ano_fabricacao']</td>\n",
       "            <td>['BIGINT', 'INTEGER']</td>\n",
       "            <td>False</td>\n",
       "        </tr>\n",
       "        <tr>\n",
       "            <td>db</td>\n",
       "            <td>public</td>\n",
       "            <td>dimensao_aeronave_assentos</td>\n",
       "            <td>['codigo_aeronave_assentos', 'aeronave_assentos']</td>\n",
       "            <td>['BIGINT', 'INTEGER']</td>\n",
       "            <td>False</td>\n",
       "        </tr>\n",
       "        <tr>\n",
       "            <td>db</td>\n",
       "            <td>public</td>\n",
       "            <td>dimensao_aeronave_fase_operacao</td>\n",
       "            <td>['codigo_aeronave_voo_destino', 'aeronave_fase_operacao']</td>\n",
       "            <td>['BIGINT', 'VARCHAR']</td>\n",
       "            <td>False</td>\n",
       "        </tr>\n",
       "        <tr>\n",
       "            <td>db</td>\n",
       "            <td>public</td>\n",
       "            <td>dimensao_aeronave_modelo</td>\n",
       "            <td>['codigo_aeronave_modelo', 'aeronave_modelo']</td>\n",
       "            <td>['BIGINT', 'VARCHAR']</td>\n",
       "            <td>False</td>\n",
       "        </tr>\n",
       "        <tr>\n",
       "            <td>db</td>\n",
       "            <td>public</td>\n",
       "            <td>dimensao_aeronave_motor_quantidade</td>\n",
       "            <td>['codigo_aeronave_motor_quantidade', 'aeronave_motor_quantidade']</td>\n",
       "            <td>['BIGINT', 'VARCHAR']</td>\n",
       "            <td>False</td>\n",
       "        </tr>\n",
       "        <tr>\n",
       "            <td>db</td>\n",
       "            <td>public</td>\n",
       "            <td>dimensao_aeronave_motor_tipo</td>\n",
       "            <td>['codigo_aeronave_motor_tipo', 'aeronave_motor_tipo']</td>\n",
       "            <td>['BIGINT', 'VARCHAR']</td>\n",
       "            <td>False</td>\n",
       "        </tr>\n",
       "        <tr>\n",
       "            <td>db</td>\n",
       "            <td>public</td>\n",
       "            <td>dimensao_aeronave_nivel_dano</td>\n",
       "            <td>['codigo_aeronave_nivel_dano', 'aeronave_nivel_dano']</td>\n",
       "            <td>['BIGINT', 'VARCHAR']</td>\n",
       "            <td>False</td>\n",
       "        </tr>\n",
       "    </tbody>\n",
       "</table>\n",
       "<span style=\"font-style:italic;text-align:center;\">Truncated to <a href=\"https://jupysql.ploomber.io/en/latest/api/configuration.html#displaylimit\">displaylimit</a> of 10.</span>"
      ],
      "text/plain": [
       "+----------+--------+------------------------------------+------------------------------------------------------------------------------------------------------------------------------------------------------------------------------------------------------------------------------------------------------------------------------------------------------------------------------------------------------------------------------------------------------------------------------------------------------------------------------------------------------------------------------------------------------------------------------------------------------------------------------------------------------------------------------------------------------------------------------------------------------------------------------------------------------------------------------------------------------------------------------------------------------------------------------------------------------------------------------------------------------------------------------------------------------------------------------------------------------------------------------------------------------------------------------------------------------------------------------------------------------------------------------------------------------------------------------------------------------------------------------------------------------------------------------------------------------------------------------------------------------------------------------------------------------------------------------------------------------------------------------------------------------------------------------------------------------------------------------------------------------------------------------------------------------------------------------------------------------------------------------------------------------------------------------------------------------------------------------------------+--------------------------------------------------------------------------------------------------------------------------------------------------------------------------------------------------------------------------------------------------------------------------------------------------------------------------------------------------------------------------------------------------------------------------------------------------------------------------------------------------------------------------------------------------------------------------------------------------------------------------------------------------------------------------------------------------------------------------------------------------------+-----------+\n",
       "| database | schema |                name                |                                                                                                                                                                                                                                                                                                                                                                                                                                                                                                                                                                                                                                                                                                                                                                                                                                                                                                                                                                                       column_names                                                                                                                                                                                                                                                                                                                                                                                                                                                                                                                                                                                                                                                                                                                                                                                                                                                                                                                                                                                       |                                                                                                                                                                                                                                                                                                                                                                      column_types                                                                                                                                                                                                                                                                                                                                                                      | temporary |\n",
       "+----------+--------+------------------------------------+------------------------------------------------------------------------------------------------------------------------------------------------------------------------------------------------------------------------------------------------------------------------------------------------------------------------------------------------------------------------------------------------------------------------------------------------------------------------------------------------------------------------------------------------------------------------------------------------------------------------------------------------------------------------------------------------------------------------------------------------------------------------------------------------------------------------------------------------------------------------------------------------------------------------------------------------------------------------------------------------------------------------------------------------------------------------------------------------------------------------------------------------------------------------------------------------------------------------------------------------------------------------------------------------------------------------------------------------------------------------------------------------------------------------------------------------------------------------------------------------------------------------------------------------------------------------------------------------------------------------------------------------------------------------------------------------------------------------------------------------------------------------------------------------------------------------------------------------------------------------------------------------------------------------------------------------------------------------------------------+--------------------------------------------------------------------------------------------------------------------------------------------------------------------------------------------------------------------------------------------------------------------------------------------------------------------------------------------------------------------------------------------------------------------------------------------------------------------------------------------------------------------------------------------------------------------------------------------------------------------------------------------------------------------------------------------------------------------------------------------------------+-----------+\n",
       "|    db    | public |              aeronave              |                                                                                                                                                                                                                                                                                                                                                                                                                                                                                                                                                                                                                                                                                              ['codigo_ocorrencia2', 'aeronave_matricula', 'aeronave_operador_categoria', 'aeronave_tipo_veiculo', 'aeronave_fabricante', 'aeronave_modelo', 'aeronave_tipo_icao', 'aeronave_motor_tipo', 'aeronave_motor_quantidade', 'aeronave_pmd', 'aeronave_pmd_categoria', 'aeronave_assentos', 'aeronave_ano_fabricacao', 'aeronave_pais_fabricante', 'aeronave_pais_registro', 'aeronave_registro_categoria', 'aeronave_registro_segmento', 'aeronave_voo_origem', 'aeronave_voo_destino', 'aeronave_fase_operacao', 'aeronave_tipo_operacao', 'aeronave_nivel_dano', 'aeronave_fatalidades_total']                                                                                                                                                                                                                                                                                                                                                                                                                                                                                                                                                                                                                                                                                               |                                                                                                                                                                                                                                             ['INTEGER', 'VARCHAR', 'VARCHAR', 'VARCHAR', 'VARCHAR', 'VARCHAR', 'VARCHAR', 'VARCHAR', 'VARCHAR', 'VARCHAR', 'VARCHAR', 'INTEGER', 'INTEGER', 'VARCHAR', 'VARCHAR', 'VARCHAR', 'VARCHAR', 'VARCHAR', 'VARCHAR', 'VARCHAR', 'VARCHAR', 'VARCHAR', 'INTEGER']                                                                                                                                                                                                                                              |   False   |\n",
       "|    db    | public |        big_fact_ocorrencias        | ['codigo_ocorrencia', 'codigo_ocorrencia_tipo', 'ocorrencia_tipo', 'codigo_ocorrencia_tipo_categoria', 'ocorrencia_tipo_categoria', 'taxonomia_tipo_icao', 'codigo_ocorrencia_uf', 'ocorrencia_uf', 'codigo_ocorrencia_cidade', 'ocorrencia_cidade', 'codigo_ocorrencia_pais', 'ocorrencia_pais', 'codigo_ocorrencia_aerodromo', 'ocorrencia_aerodromo', 'codigo_investigacao_status', 'investigacao_status', 'codigo_investigacao_aeronave_liberada', 'investigacao_aeronave_liberada', 'codigo_divulgacao_relatorio_publicado', 'divulgacao_relatorio_publicado', 'codigo_ocorrencia_saida_pista', 'ocorrencia_saida_pista', 'codigo_aeronave_tipo_veiculo', 'aeronave_tipo_veiculo', 'codigo_aeronave_fabricante', 'aeronave_fabricante', 'codigo_aeronave_modelo', 'aeronave_modelo', 'codigo_aeronave_tipo_icao', 'aeronave_tipo_icao', 'codigo_aeronave_motor_tipo', 'aeronave_motor_tipo', 'codigo_aeronave_motor_quantidade', 'aeronave_motor_quantidade', 'codigo_aeronave_pmd', 'aeronave_pmd', 'codigo_aeronave_ano_fabricacao', 'aeronave_ano_fabricacao', 'codigo_aeronave_assentos', 'aeronave_assentos', 'codigo_aeronave_pais_fabricante', 'aeronave_pais_fabricante', 'codigo_aeronave_pais_registro', 'aeronave_pais_registro', 'codigo_aeronave_registro_categoria', 'aeronave_registro_categoria', 'codigo_aeronave_registro_segmento', 'aeronave_registro_segmento', 'codigo_aeronave_voo_origem', 'aeronave_voo_origem', 'codigo_aeronave_voo_destino', 'aeronave_voo_destino', 'codigo_aeronave_fase_operacao', 'aeronave_fase_operacao', 'codigo_aeronave_tipo_operacao', 'aeronave_tipo_operacao', 'codigo_aeronave_nivel_dano', 'aeronave_nivel_dano', 'codigo_fator_condicionante', 'fator_condicionante', 'codigo_fator_aspecto', 'fator_aspecto', 'codigo_fator_area', 'fator_area', 'codigo_recomendacao_destinatario_sigla', 'recomendacao_destinatario_sigla', 'codigo_recomendacao_destinatario', 'recomendacao_destinatario', 'recomendacao_conteudo'] | ['INTEGER', 'BIGINT', 'VARCHAR', 'BIGINT', 'VARCHAR', 'VARCHAR', 'BIGINT', 'VARCHAR', 'BIGINT', 'VARCHAR', 'BIGINT', 'VARCHAR', 'BIGINT', 'VARCHAR', 'BIGINT', 'VARCHAR', 'BIGINT', 'VARCHAR', 'BIGINT', 'VARCHAR', 'BIGINT', 'VARCHAR', 'BIGINT', 'VARCHAR', 'BIGINT', 'VARCHAR', 'BIGINT', 'VARCHAR', 'BIGINT', 'VARCHAR', 'BIGINT', 'VARCHAR', 'BIGINT', 'VARCHAR', 'BIGINT', 'VARCHAR', 'BIGINT', 'INTEGER', 'BIGINT', 'INTEGER', 'BIGINT', 'VARCHAR', 'BIGINT', 'VARCHAR', 'BIGINT', 'VARCHAR', 'BIGINT', 'VARCHAR', 'BIGINT', 'VARCHAR', 'BIGINT', 'VARCHAR', 'BIGINT', 'VARCHAR', 'BIGINT', 'VARCHAR', 'BIGINT', 'VARCHAR', 'BIGINT', 'VARCHAR', 'BIGINT', 'VARCHAR', 'BIGINT', 'VARCHAR', 'BIGINT', 'VARCHAR', 'BIGINT', 'VARCHAR', 'VARCHAR'] |   False   |\n",
       "|    db    | public |             calendario             |                                                                                                                                                                                                                                                                                                                                                                                                                                                                                                                                                                                                                                                                                                                                                                                                                                                                                                                         ['data_completa', 'hora', 'minuto', 'dia', 'mes', 'ano', 'dia_da_semana', 'semana_do_ano', 'trimestre', 'e_feriado', 'e_fim_de_semana']                                                                                                                                                                                                                                                                                                                                                                                                                                                                                                                                                                                                                                                                                                                                                                                                                                                                                                                          |                                                                                                                                                                                                                                                                                                                 ['DATE', 'INTEGER', 'INTEGER', 'INTEGER', 'INTEGER', 'INTEGER', 'VARCHAR', 'INTEGER', 'INTEGER', 'BOOLEAN', 'BOOLEAN']                                                                                                                                                                                                                                                                                                                 |   False   |\n",
       "|    db    | public |  dimensao_aeronave_ano_fabricacao  |                                                                                                                                                                                                                                                                                                                                                                                                                                                                                                                                                                                                                                                                                                                                                                                                                                                                                                                                                              ['codigo_aeronave_ano_fabricacao', 'aeronave_ano_fabricacao']                                                                                                                                                                                                                                                                                                                                                                                                                                                                                                                                                                                                                                                                                                                                                                                                                                                                                                                                                               |                                                                                                                                                                                                                                                                                                                                                                 ['BIGINT', 'INTEGER']                                                                                                                                                                                                                                                                                                                                                                  |   False   |\n",
       "|    db    | public |     dimensao_aeronave_assentos     |                                                                                                                                                                                                                                                                                                                                                                                                                                                                                                                                                                                                                                                                                                                                                                                                                                                                                                                                                                    ['codigo_aeronave_assentos', 'aeronave_assentos']                                                                                                                                                                                                                                                                                                                                                                                                                                                                                                                                                                                                                                                                                                                                                                                                                                                                                                                                                                     |                                                                                                                                                                                                                                                                                                                                                                 ['BIGINT', 'INTEGER']                                                                                                                                                                                                                                                                                                                                                                  |   False   |\n",
       "|    db    | public |  dimensao_aeronave_fase_operacao   |                                                                                                                                                                                                                                                                                                                                                                                                                                                                                                                                                                                                                                                                                                                                                                                                                                                                                                                                                                ['codigo_aeronave_voo_destino', 'aeronave_fase_operacao']                                                                                                                                                                                                                                                                                                                                                                                                                                                                                                                                                                                                                                                                                                                                                                                                                                                                                                                                                                 |                                                                                                                                                                                                                                                                                                                                                                 ['BIGINT', 'VARCHAR']                                                                                                                                                                                                                                                                                                                                                                  |   False   |\n",
       "|    db    | public |      dimensao_aeronave_modelo      |                                                                                                                                                                                                                                                                                                                                                                                                                                                                                                                                                                                                                                                                                                                                                                                                                                                                                                                                                                      ['codigo_aeronave_modelo', 'aeronave_modelo']                                                                                                                                                                                                                                                                                                                                                                                                                                                                                                                                                                                                                                                                                                                                                                                                                                                                                                                                                                       |                                                                                                                                                                                                                                                                                                                                                                 ['BIGINT', 'VARCHAR']                                                                                                                                                                                                                                                                                                                                                                  |   False   |\n",
       "|    db    | public | dimensao_aeronave_motor_quantidade |                                                                                                                                                                                                                                                                                                                                                                                                                                                                                                                                                                                                                                                                                                                                                                                                                                                                                                                                                            ['codigo_aeronave_motor_quantidade', 'aeronave_motor_quantidade']                                                                                                                                                                                                                                                                                                                                                                                                                                                                                                                                                                                                                                                                                                                                                                                                                                                                                                                                                             |                                                                                                                                                                                                                                                                                                                                                                 ['BIGINT', 'VARCHAR']                                                                                                                                                                                                                                                                                                                                                                  |   False   |\n",
       "|    db    | public |    dimensao_aeronave_motor_tipo    |                                                                                                                                                                                                                                                                                                                                                                                                                                                                                                                                                                                                                                                                                                                                                                                                                                                                                                                                                                  ['codigo_aeronave_motor_tipo', 'aeronave_motor_tipo']                                                                                                                                                                                                                                                                                                                                                                                                                                                                                                                                                                                                                                                                                                                                                                                                                                                                                                                                                                   |                                                                                                                                                                                                                                                                                                                                                                 ['BIGINT', 'VARCHAR']                                                                                                                                                                                                                                                                                                                                                                  |   False   |\n",
       "|    db    | public |    dimensao_aeronave_nivel_dano    |                                                                                                                                                                                                                                                                                                                                                                                                                                                                                                                                                                                                                                                                                                                                                                                                                                                                                                                                                                  ['codigo_aeronave_nivel_dano', 'aeronave_nivel_dano']                                                                                                                                                                                                                                                                                                                                                                                                                                                                                                                                                                                                                                                                                                                                                                                                                                                                                                                                                                   |                                                                                                                                                                                                                                                                                                                                                                 ['BIGINT', 'VARCHAR']                                                                                                                                                                                                                                                                                                                                                                  |   False   |\n",
       "+----------+--------+------------------------------------+------------------------------------------------------------------------------------------------------------------------------------------------------------------------------------------------------------------------------------------------------------------------------------------------------------------------------------------------------------------------------------------------------------------------------------------------------------------------------------------------------------------------------------------------------------------------------------------------------------------------------------------------------------------------------------------------------------------------------------------------------------------------------------------------------------------------------------------------------------------------------------------------------------------------------------------------------------------------------------------------------------------------------------------------------------------------------------------------------------------------------------------------------------------------------------------------------------------------------------------------------------------------------------------------------------------------------------------------------------------------------------------------------------------------------------------------------------------------------------------------------------------------------------------------------------------------------------------------------------------------------------------------------------------------------------------------------------------------------------------------------------------------------------------------------------------------------------------------------------------------------------------------------------------------------------------------------------------------------------------+--------------------------------------------------------------------------------------------------------------------------------------------------------------------------------------------------------------------------------------------------------------------------------------------------------------------------------------------------------------------------------------------------------------------------------------------------------------------------------------------------------------------------------------------------------------------------------------------------------------------------------------------------------------------------------------------------------------------------------------------------------+-----------+\n",
       "Truncated to displaylimit of 10."
      ]
     },
     "execution_count": 8,
     "metadata": {},
     "output_type": "execute_result"
    }
   ],
   "source": [
    "%%sql \n",
    "\n",
    "INSTALL postgres;\n",
    "LOAD postgres;\n",
    "ATTACH 'dbname=lord_duckdb_postgres user=lord password=postgres123 host=127.0.0.1' AS db (TYPE POSTGRES);\n",
    "\n",
    "SHOW ALL TABLES;"
   ]
  },
  {
   "cell_type": "code",
   "execution_count": null,
   "metadata": {},
   "outputs": [],
   "source": [
    "%%sql\n",
    "\n",
    "CALL postgres_execute('db', ' CREATE TABLE  RECOMENDACAO (\n",
    "            codigo_ocorrencia4 INTEGER,\n",
    "            recomendacao_numero varchar(2000),\n",
    "            recomendacao_dia_assinatura DATE null,\n",
    "            recomendacao_dia_encaminhamento DATE null,\n",
    "            recomendacao_dia_feedback DATE null,\n",
    "            recomendacao_status VARCHAR(2000),\n",
    "            recomendacao_destinatario_sigla VARCHAR(2000),\n",
    "            recomendacao_destinatario VARCHAR(2000),\n",
    "            recomendacao_conteudo TEXT\n",
    "        );');\n",
    "\n",
    "\n"
   ]
  },
  {
   "cell_type": "code",
   "execution_count": null,
   "metadata": {},
   "outputs": [],
   "source": [
    "!pip install psycopg2 --quiet"
   ]
  },
  {
   "cell_type": "code",
   "execution_count": null,
   "metadata": {},
   "outputs": [],
   "source": [
    "import csv\n",
    "import psycopg2\n",
    "\n",
    "# Connect to PostgreSQL database\n",
    "conn = psycopg2.connect(\n",
    "    dbname=\"lord_duckdb_postgres\", \n",
    "    user=\"lord\", \n",
    "    password=\"postgres123\", \n",
    "    host=\"127.0.0.1\", \n",
    "    port=\"5432\"\n",
    ")\n",
    "cursor = conn.cursor()\n",
    "cursor.execute(\"delete from recomendacao;\")\n",
    "# Open and read the CSV file\n",
    "with open('data/aula5/recomendacao.csv', newline='', encoding='utf-8') as csvfile:\n",
    "    csvreader = csv.reader(csvfile, delimiter=';')\n",
    "    next(csvreader)  # Skip the header row\n",
    "    for row in csvreader:\n",
    "        # Replace \"NULL\" with None for date fields\n",
    "        row = [None if value == \"NULL\" else value for value in row]\n",
    "        #print(row)\n",
    "        # Assuming the CSV columns match the table structure\n",
    "        cursor.execute('''\n",
    "            INSERT INTO recomendacao (\n",
    "                codigo_ocorrencia4, recomendacao_numero, recomendacao_dia_assinatura, \n",
    "                recomendacao_dia_encaminhamento, recomendacao_dia_feedback, recomendacao_status, \n",
    "                recomendacao_destinatario_sigla, recomendacao_destinatario, recomendacao_conteudo\n",
    "            ) VALUES (%s, %s, %s, %s, %s, %s, %s, %s, %s)\n",
    "        ''', row)\n",
    "\n",
    "# Commit and close\n",
    "conn.commit()\n",
    "conn.close()"
   ]
  },
  {
   "cell_type": "code",
   "execution_count": null,
   "metadata": {},
   "outputs": [],
   "source": [
    "%%sql \n",
    "\n",
    "CALL postgres_execute('db', ' CREATE TABLE IF NOT EXISTS OCORRENCIA (\n",
    "            codigo_ocorrencia1 INTEGER,\n",
    "            codigo_ocorrencia4 INTEGER,\n",
    "            codigo_ocorrencia2 INTEGER,\n",
    "            codigo_ocorrencia3 INTEGER,\n",
    "            codigo_ocorrencia INTEGER,\n",
    "            ocorrencia_classificacao VARCHAR(255),\n",
    "            ocorrencia_longitude double precision,\n",
    "            ocorrencia_latitude double precision,\n",
    "            ocorrencia_cidade VARCHAR(255),\n",
    "            ocorrencia_uf VARCHAR(255),\n",
    "            ocorrencia_pais VARCHAR(255),\n",
    "            ocorrencia_aerodromo VARCHAR(255),\n",
    "            ocorrencia_dia DATE,\n",
    "            ocorrencia_hora TIME null,\n",
    "            investigacao_aeronave_liberada varchar(3),\n",
    "            investigacao_status VARCHAR(255),\n",
    "            divulgacao_relatorio_numero varchar(255),\n",
    "            divulgacao_relatorio_publicado varchar(3),\n",
    "            divulgacao_dia_publicacao DATE null,\n",
    "            total_recomendacoes INTEGER,\n",
    "            total_aeronaves_envolvidas varchar(3),\n",
    "            ocorrencia_saida_pista VARCHAR(255)\n",
    "        );');\n",
    "\n"
   ]
  },
  {
   "cell_type": "code",
   "execution_count": null,
   "metadata": {},
   "outputs": [],
   "source": [
    "conn = psycopg2.connect(\n",
    "    dbname=\"lord_duckdb_postgres\", \n",
    "    user=\"lord\", \n",
    "    password=\"postgres123\", \n",
    "    host=\"127.0.0.1\", \n",
    "    port=\"5432\"\n",
    ")\n",
    "\n",
    "import re\n",
    "\n",
    "def replace_dots_after_first(value):\n",
    "    value = value.replace(',', '.')\n",
    "    dots = [m.start() for m in re.finditer('\\.', value)]\n",
    "    \n",
    "    # Se houver mais de um ponto, substitui todos os pontos após o primeiro por uma string vazia\n",
    "    if len(dots) > 1:\n",
    "        return value[:(dots[0]+1)]+value[(dots[0]+1):].replace('.', '')\n",
    "    return value\n",
    "\n",
    "def formatDate(value):\n",
    "    if value == 'NULL':\n",
    "        return None\n",
    "    arr = value.split('/')\n",
    "    return arr[2]+'-'+arr[1]+'-'+arr[0]\n",
    "\n",
    "cursor = conn.cursor()\n",
    "cursor.execute(\"delete from ocorrencia;\")\n",
    "# Open and read the CSV file\n",
    "with open('data/aula5/ocorrencia.csv', newline='', encoding='utf-8') as csvfile:\n",
    "    csvreader = csv.reader(csvfile, delimiter=';')\n",
    "    next(csvreader)  # Skip the header row\n",
    "    for row in csvreader:\n",
    "        # Replace \"NULL\" with None for date fields\n",
    "        #print(row) \n",
    "        if(row[6] != 'NULL' and row[6] != '' and '*' not in row[6]):\n",
    "            row[6] = replace_dots_after_first(row[6]) \n",
    "        if(row[7] != 'NULL' and row[7] != '' and '*' not in row[7]): \n",
    "            row[7] = replace_dots_after_first(row[7]) \n",
    "        else:\n",
    "            row[6] = None\n",
    "            row[7] = None    \n",
    "\n",
    "        row[12] = formatDate(row[12])\n",
    "        row[18] = formatDate(row[18])\n",
    "        row[13] = None if row[13] == 'NULL' else row[13]\n",
    "        row[14] = None if row[14] == 'NULL' else row[14]\n",
    "        try:\n",
    "            cursor.execute('''\n",
    "                INSERT INTO ocorrencia (\n",
    "                    codigo_ocorrencia1, codigo_ocorrencia4, codigo_ocorrencia2, codigo_ocorrencia3, \n",
    "                    codigo_ocorrencia, ocorrencia_classificacao, ocorrencia_longitude, ocorrencia_latitude, \n",
    "                    ocorrencia_cidade, ocorrencia_uf, ocorrencia_pais, ocorrencia_aerodromo, \n",
    "                    ocorrencia_dia, ocorrencia_hora, investigacao_aeronave_liberada, investigacao_status, \n",
    "                    divulgacao_relatorio_numero, divulgacao_relatorio_publicado, divulgacao_dia_publicacao, \n",
    "                    total_recomendacoes, total_aeronaves_envolvidas, ocorrencia_saida_pista\n",
    "                ) VALUES (%s, %s, %s, %s, %s, %s, %s, %s, %s, %s, %s, %s, %s, %s, %s, %s, %s, %s, %s, %s, %s, %s)\n",
    "            ''', row)\n",
    "        except Exception as e:\n",
    "            print(e)\n",
    "            break\n",
    "    \n",
    "# Commit and close\n",
    "conn.commit()\n",
    "conn.close()"
   ]
  },
  {
   "cell_type": "code",
   "execution_count": null,
   "metadata": {},
   "outputs": [],
   "source": [
    "%%sql \n",
    "\n",
    "CALL postgres_execute('db', 'CREATE TABLE IF NOT EXISTS OCORRENCIA_TIPO (\n",
    "            codigo_ocorrencia1 INTEGER,\n",
    "            ocorrencia_tipo VARCHAR(255),\n",
    "            ocorrencia_tipo_categoria VARCHAR(255),\n",
    "            taxonomia_tipo_icao VARCHAR(255)\n",
    "        );');\n",
    "\n"
   ]
  },
  {
   "cell_type": "code",
   "execution_count": null,
   "metadata": {},
   "outputs": [],
   "source": [
    "import csv\n",
    "import psycopg2\n",
    "\n",
    "# Connect to PostgreSQL database\n",
    "conn = psycopg2.connect(\n",
    "    dbname=\"lord_duckdb_postgres\", \n",
    "    user=\"lord\", \n",
    "    password=\"postgres123\", \n",
    "    host=\"127.0.0.1\", \n",
    "    port=\"5432\"\n",
    ")\n",
    "\n",
    "cursor = conn.cursor()\n",
    "cursor.execute(\"delete from ocorrencia_tipo;\")\n",
    "# Assuming you have a CSV file named 'ocorrencia_tipo.csv' with the appropriate columns\n",
    "with open('data/aula5/ocorrencia_tipo.csv', newline='', encoding='utf-8') as csvfile:\n",
    "    csvreader = csv.reader(csvfile, delimiter=';')  # Adjust delimiter if necessary\n",
    "    next(csvreader)  # Skip the header row if your CSV has one\n",
    "    for row in csvreader:\n",
    "        try:\n",
    "            cursor.execute('''\n",
    "                INSERT INTO OCORRENCIA_TIPO (\n",
    "                    codigo_ocorrencia1, ocorrencia_tipo, ocorrencia_tipo_categoria, taxonomia_tipo_icao\n",
    "                ) VALUES (%s, %s, %s, %s)\n",
    "            ''', row)\n",
    "        except Exception as e:\n",
    "            print(row)\n",
    "            print(e)\n",
    "            break\n",
    "# Commit and close\n",
    "conn.commit()\n",
    "conn.close()"
   ]
  },
  {
   "cell_type": "code",
   "execution_count": null,
   "metadata": {},
   "outputs": [],
   "source": [
    "%%sql \n",
    "\n",
    "CALL postgres_execute('db', ' CREATE TABLE IF NOT EXISTS AERONAVE (\n",
    "            codigo_ocorrencia2 INTEGER,\n",
    "            aeronave_matricula VARCHAR(255),\n",
    "            aeronave_operador_categoria VARCHAR(255),\n",
    "            aeronave_tipo_veiculo VARCHAR(255),\n",
    "            aeronave_fabricante VARCHAR(255),\n",
    "            aeronave_modelo VARCHAR(255),\n",
    "            aeronave_tipo_icao VARCHAR(255),\n",
    "            aeronave_motor_tipo VARCHAR(255),\n",
    "            aeronave_motor_quantidade varchar(255),\n",
    "            aeronave_pmd VARCHAR(255),\n",
    "            aeronave_pmd_categoria VARCHAR(255),\n",
    "            aeronave_assentos INTEGER null,\n",
    "            aeronave_ano_fabricacao INTEGER null,\n",
    "            aeronave_pais_fabricante VARCHAR(255),\n",
    "            aeronave_pais_registro VARCHAR(255),\n",
    "            aeronave_registro_categoria VARCHAR(255),\n",
    "            aeronave_registro_segmento VARCHAR(255),\n",
    "            aeronave_voo_origem VARCHAR(255),\n",
    "            aeronave_voo_destino VARCHAR(255),\n",
    "            aeronave_fase_operacao VARCHAR(255),\n",
    "            aeronave_tipo_operacao VARCHAR(255),\n",
    "            aeronave_nivel_dano VARCHAR(255),\n",
    "            aeronave_fatalidades_total INTEGER\n",
    "        );');\n",
    "\n"
   ]
  },
  {
   "cell_type": "code",
   "execution_count": null,
   "metadata": {},
   "outputs": [],
   "source": [
    "import csv\n",
    "import psycopg2\n",
    "\n",
    "# Connect to PostgreSQL database\n",
    "conn = psycopg2.connect(\n",
    "    dbname=\"lord_duckdb_postgres\", \n",
    "    user=\"lord\", \n",
    "    password=\"postgres123\", \n",
    "    host=\"127.0.0.1\", \n",
    "    port=\"5432\"\n",
    ")\n",
    "cursor = conn.cursor()\n",
    "cursor.execute(\"delete from aeronave;\")\n",
    "# Assuming you have a CSV file named 'aeronave.csv' with the appropriate columns\n",
    "with open('data/aula5/aeronave.csv', newline='', encoding='utf-8') as csvfile:\n",
    "    csvreader = csv.reader(csvfile, delimiter=';')  # Adjust delimiter if necessary\n",
    "    next(csvreader)  # Skip the header row if your CSV has one\n",
    "    for row in csvreader:\n",
    "        # Replace \"NULL\" with None for date fields\n",
    "        row[11] = None if row[11] == 'NULL' else row[11]\n",
    "        row[12] = None if row[12] == 'NULL' else row[12]\n",
    "        cursor.execute('''\n",
    "            INSERT INTO AERONAVE (\n",
    "                codigo_ocorrencia2, aeronave_matricula, aeronave_operador_categoria, \n",
    "                aeronave_tipo_veiculo, aeronave_fabricante, aeronave_modelo, \n",
    "                aeronave_tipo_icao, aeronave_motor_tipo, aeronave_motor_quantidade, \n",
    "                aeronave_pmd, aeronave_pmd_categoria, aeronave_assentos, \n",
    "                aeronave_ano_fabricacao, aeronave_pais_fabricante, aeronave_pais_registro, \n",
    "                aeronave_registro_categoria, aeronave_registro_segmento, aeronave_voo_origem, \n",
    "                aeronave_voo_destino, aeronave_fase_operacao, aeronave_tipo_operacao, \n",
    "                aeronave_nivel_dano, aeronave_fatalidades_total\n",
    "            ) VALUES (%s, %s, %s, %s, %s, %s, %s, %s, %s, %s, %s, %s, %s, %s, %s, %s, %s, %s, %s, %s, %s, %s, %s)\n",
    "        ''', row)\n",
    "\n",
    "# Commit and close\n",
    "conn.commit()\n",
    "conn.close()"
   ]
  },
  {
   "cell_type": "code",
   "execution_count": null,
   "metadata": {},
   "outputs": [],
   "source": [
    "%%sql \n",
    "\n",
    "CALL postgres_execute('db', 'CREATE TABLE IF NOT EXISTS FATOR_CONTRIBUINTE (\n",
    "            codigo_ocorrencia3 INTEGER,\n",
    "            fator_nome VARCHAR(255),\n",
    "            fator_aspecto VARCHAR(255),\n",
    "            fator_condicionante VARCHAR(255),\n",
    "            fator_area VARCHAR(255)\n",
    "        );');"
   ]
  },
  {
   "cell_type": "code",
   "execution_count": null,
   "metadata": {},
   "outputs": [],
   "source": [
    "import csv\n",
    "import psycopg2\n",
    "\n",
    "# Connect to PostgreSQL database\n",
    "conn = psycopg2.connect(\n",
    "    dbname=\"lord_duckdb_postgres\", \n",
    "    user=\"lord\", \n",
    "    password=\"postgres123\", \n",
    "    host=\"127.0.0.1\", \n",
    "    port=\"5432\"\n",
    ")\n",
    "\n",
    "\n",
    "cursor = conn.cursor()\n",
    "cursor.execute(\"delete from fator_contribuinte;\")\n",
    "# Assuming you have a CSV file named 'fator_contribuinte.csv' with the appropriate columns\n",
    "with open('data/aula5/fator_contribuinte.csv', newline='', encoding='utf-8') as csvfile:\n",
    "    csvreader = csv.reader(csvfile, delimiter=';')  # Adjust delimiter if necessary\n",
    "    next(csvreader)  # Skip the header row if your CSV has one\n",
    "    for row in csvreader:\n",
    "        cursor.execute('''\n",
    "            INSERT INTO FATOR_CONTRIBUINTE (\n",
    "                codigo_ocorrencia3, fator_nome, fator_aspecto, fator_condicionante, fator_area\n",
    "            ) VALUES (%s, %s, %s, %s, %s)\n",
    "        ''', row)\n",
    "\n",
    "# Commit and close\n",
    "conn.commit()\n",
    "conn.close()"
   ]
  },
  {
   "cell_type": "code",
   "execution_count": 6,
   "metadata": {},
   "outputs": [
    {
     "data": {
      "text/html": [
       "<span style=\"None\">Running query in &#x27;duckdb&#x27;</span>"
      ],
      "text/plain": [
       "Running query in 'duckdb'"
      ]
     },
     "metadata": {},
     "output_type": "display_data"
    },
    {
     "ename": "BinderException",
     "evalue": "Binder Error: Failed to detach database with name \"db\": database not found",
     "output_type": "error",
     "traceback": [
      "\u001b[0;31m---------------------------------------------------------------------------\u001b[0m",
      "\u001b[0;31mBinderException\u001b[0m                           Traceback (most recent call last)",
      "Cell \u001b[0;32mIn[6], line 1\u001b[0m\n\u001b[0;32m----> 1\u001b[0m \u001b[43mget_ipython\u001b[49m\u001b[43m(\u001b[49m\u001b[43m)\u001b[49m\u001b[38;5;241;43m.\u001b[39;49m\u001b[43mrun_cell_magic\u001b[49m\u001b[43m(\u001b[49m\u001b[38;5;124;43m'\u001b[39;49m\u001b[38;5;124;43msql\u001b[39;49m\u001b[38;5;124;43m'\u001b[39;49m\u001b[43m,\u001b[49m\u001b[43m \u001b[49m\u001b[38;5;124;43m'\u001b[39;49m\u001b[38;5;124;43m'\u001b[39;49m\u001b[43m,\u001b[49m\u001b[43m \u001b[49m\u001b[38;5;124;43m\"\u001b[39;49m\u001b[38;5;130;43;01m\\n\u001b[39;49;00m\u001b[38;5;124;43mDETACH db;\u001b[39;49m\u001b[38;5;130;43;01m\\n\u001b[39;49;00m\u001b[38;5;124;43mINSTALL postgres;\u001b[39;49m\u001b[38;5;130;43;01m\\n\u001b[39;49;00m\u001b[38;5;124;43mLOAD postgres;\u001b[39;49m\u001b[38;5;130;43;01m\\n\u001b[39;49;00m\u001b[38;5;124;43mATTACH \u001b[39;49m\u001b[38;5;124;43m'\u001b[39;49m\u001b[38;5;124;43mdbname=lord_duckdb_postgres user=lord password=postgres123 host=127.0.0.1\u001b[39;49m\u001b[38;5;124;43m'\u001b[39;49m\u001b[38;5;124;43m AS db (TYPE POSTGRES);\u001b[39;49m\u001b[38;5;130;43;01m\\n\u001b[39;49;00m\u001b[38;5;124;43mSHOW ALL TABLES;\u001b[39;49m\u001b[38;5;130;43;01m\\n\u001b[39;49;00m\u001b[38;5;124;43m\"\u001b[39;49m\u001b[43m)\u001b[49m\n",
      "File \u001b[0;32m~/.local/lib/python3.10/site-packages/IPython/core/interactiveshell.py:2541\u001b[0m, in \u001b[0;36mInteractiveShell.run_cell_magic\u001b[0;34m(self, magic_name, line, cell)\u001b[0m\n\u001b[1;32m   2539\u001b[0m \u001b[38;5;28;01mwith\u001b[39;00m \u001b[38;5;28mself\u001b[39m\u001b[38;5;241m.\u001b[39mbuiltin_trap:\n\u001b[1;32m   2540\u001b[0m     args \u001b[38;5;241m=\u001b[39m (magic_arg_s, cell)\n\u001b[0;32m-> 2541\u001b[0m     result \u001b[38;5;241m=\u001b[39m \u001b[43mfn\u001b[49m\u001b[43m(\u001b[49m\u001b[38;5;241;43m*\u001b[39;49m\u001b[43margs\u001b[49m\u001b[43m,\u001b[49m\u001b[43m \u001b[49m\u001b[38;5;241;43m*\u001b[39;49m\u001b[38;5;241;43m*\u001b[39;49m\u001b[43mkwargs\u001b[49m\u001b[43m)\u001b[49m\n\u001b[1;32m   2543\u001b[0m \u001b[38;5;66;03m# The code below prevents the output from being displayed\u001b[39;00m\n\u001b[1;32m   2544\u001b[0m \u001b[38;5;66;03m# when using magics with decorator @output_can_be_silenced\u001b[39;00m\n\u001b[1;32m   2545\u001b[0m \u001b[38;5;66;03m# when the last Python token in the expression is a ';'.\u001b[39;00m\n\u001b[1;32m   2546\u001b[0m \u001b[38;5;28;01mif\u001b[39;00m \u001b[38;5;28mgetattr\u001b[39m(fn, magic\u001b[38;5;241m.\u001b[39mMAGIC_OUTPUT_CAN_BE_SILENCED, \u001b[38;5;28;01mFalse\u001b[39;00m):\n",
      "File \u001b[0;32m~/.python/current/lib/python3.10/site-packages/sql/magic.py:369\u001b[0m, in \u001b[0;36mSqlMagic.execute\u001b[0;34m(self, line, cell, local_ns)\u001b[0m\n\u001b[1;32m    261\u001b[0m \u001b[38;5;129m@no_var_expand\u001b[39m\n\u001b[1;32m    262\u001b[0m \u001b[38;5;129m@needs_local_scope\u001b[39m\n\u001b[1;32m    263\u001b[0m \u001b[38;5;129m@line_magic\u001b[39m(\u001b[38;5;124m\"\u001b[39m\u001b[38;5;124msql\u001b[39m\u001b[38;5;124m\"\u001b[39m)\n\u001b[0;32m   (...)\u001b[0m\n\u001b[1;32m    341\u001b[0m )\n\u001b[1;32m    342\u001b[0m \u001b[38;5;28;01mdef\u001b[39;00m \u001b[38;5;21mexecute\u001b[39m(\u001b[38;5;28mself\u001b[39m, line\u001b[38;5;241m=\u001b[39m\u001b[38;5;124m\"\u001b[39m\u001b[38;5;124m\"\u001b[39m, cell\u001b[38;5;241m=\u001b[39m\u001b[38;5;124m\"\u001b[39m\u001b[38;5;124m\"\u001b[39m, local_ns\u001b[38;5;241m=\u001b[39m\u001b[38;5;28;01mNone\u001b[39;00m):\n\u001b[1;32m    343\u001b[0m \u001b[38;5;250m    \u001b[39m\u001b[38;5;124;03m\"\"\"\u001b[39;00m\n\u001b[1;32m    344\u001b[0m \u001b[38;5;124;03m    Runs SQL statement against a database, specified by\u001b[39;00m\n\u001b[1;32m    345\u001b[0m \u001b[38;5;124;03m    SQLAlchemy connect string.\u001b[39;00m\n\u001b[0;32m   (...)\u001b[0m\n\u001b[1;32m    367\u001b[0m \n\u001b[1;32m    368\u001b[0m \u001b[38;5;124;03m    \"\"\"\u001b[39;00m\n\u001b[0;32m--> 369\u001b[0m     \u001b[38;5;28;01mreturn\u001b[39;00m \u001b[38;5;28;43mself\u001b[39;49m\u001b[38;5;241;43m.\u001b[39;49m\u001b[43m_execute\u001b[49m\u001b[43m(\u001b[49m\n\u001b[1;32m    370\u001b[0m \u001b[43m        \u001b[49m\u001b[43mline\u001b[49m\u001b[38;5;241;43m=\u001b[39;49m\u001b[43mline\u001b[49m\u001b[43m,\u001b[49m\u001b[43m \u001b[49m\u001b[43mcell\u001b[49m\u001b[38;5;241;43m=\u001b[39;49m\u001b[43mcell\u001b[49m\u001b[43m,\u001b[49m\u001b[43m \u001b[49m\u001b[43mlocal_ns\u001b[49m\u001b[38;5;241;43m=\u001b[39;49m\u001b[43mlocal_ns\u001b[49m\u001b[43m,\u001b[49m\u001b[43m \u001b[49m\u001b[43mis_interactive_mode\u001b[49m\u001b[38;5;241;43m=\u001b[39;49m\u001b[38;5;28;43;01mFalse\u001b[39;49;00m\n\u001b[1;32m    371\u001b[0m \u001b[43m    \u001b[49m\u001b[43m)\u001b[49m\n",
      "File \u001b[0;32m~/.python/current/lib/python3.10/site-packages/ploomber_core/telemetry/telemetry.py:696\u001b[0m, in \u001b[0;36mTelemetry.log_call.<locals>._log_call.<locals>.wrapper\u001b[0;34m(*args, **kwargs)\u001b[0m\n\u001b[1;32m    694\u001b[0m     injected_args \u001b[38;5;241m=\u001b[39m \u001b[38;5;28mlist\u001b[39m(args)\n\u001b[1;32m    695\u001b[0m     injected_args\u001b[38;5;241m.\u001b[39minsert(\u001b[38;5;241m1\u001b[39m, _payload)\n\u001b[0;32m--> 696\u001b[0m     result \u001b[38;5;241m=\u001b[39m \u001b[43mfunc\u001b[49m\u001b[43m(\u001b[49m\u001b[38;5;241;43m*\u001b[39;49m\u001b[43minjected_args\u001b[49m\u001b[43m,\u001b[49m\u001b[43m \u001b[49m\u001b[38;5;241;43m*\u001b[39;49m\u001b[38;5;241;43m*\u001b[39;49m\u001b[43mkwargs\u001b[49m\u001b[43m)\u001b[49m\n\u001b[1;32m    697\u001b[0m \u001b[38;5;28;01melse\u001b[39;00m:\n\u001b[1;32m    698\u001b[0m     result \u001b[38;5;241m=\u001b[39m func(_payload, \u001b[38;5;241m*\u001b[39margs, \u001b[38;5;241m*\u001b[39m\u001b[38;5;241m*\u001b[39mkwargs)\n",
      "File \u001b[0;32m~/.python/current/lib/python3.10/site-packages/ploomber_core/exceptions.py:128\u001b[0m, in \u001b[0;36mmodify_exceptions.<locals>.wrapper\u001b[0;34m(*args, **kwargs)\u001b[0m\n\u001b[1;32m    125\u001b[0m \u001b[38;5;129m@wraps\u001b[39m(fn)\n\u001b[1;32m    126\u001b[0m \u001b[38;5;28;01mdef\u001b[39;00m \u001b[38;5;21mwrapper\u001b[39m(\u001b[38;5;241m*\u001b[39margs, \u001b[38;5;241m*\u001b[39m\u001b[38;5;241m*\u001b[39mkwargs):\n\u001b[1;32m    127\u001b[0m     \u001b[38;5;28;01mtry\u001b[39;00m:\n\u001b[0;32m--> 128\u001b[0m         \u001b[38;5;28;01mreturn\u001b[39;00m \u001b[43mfn\u001b[49m\u001b[43m(\u001b[49m\u001b[38;5;241;43m*\u001b[39;49m\u001b[43margs\u001b[49m\u001b[43m,\u001b[49m\u001b[43m \u001b[49m\u001b[38;5;241;43m*\u001b[39;49m\u001b[38;5;241;43m*\u001b[39;49m\u001b[43mkwargs\u001b[49m\u001b[43m)\u001b[49m\n\u001b[1;32m    129\u001b[0m     \u001b[38;5;28;01mexcept\u001b[39;00m (\u001b[38;5;167;01mValueError\u001b[39;00m, \u001b[38;5;167;01mTypeError\u001b[39;00m) \u001b[38;5;28;01mas\u001b[39;00m e:\n\u001b[1;32m    130\u001b[0m         _add_community_link(e)\n",
      "File \u001b[0;32m~/.python/current/lib/python3.10/site-packages/sql/magic.py:628\u001b[0m, in \u001b[0;36mSqlMagic._execute\u001b[0;34m(self, payload, line, cell, local_ns, is_interactive_mode)\u001b[0m\n\u001b[1;32m    625\u001b[0m     handle_exception(e, command\u001b[38;5;241m.\u001b[39msql, \u001b[38;5;28mself\u001b[39m\u001b[38;5;241m.\u001b[39mshort_errors)\n\u001b[1;32m    626\u001b[0m \u001b[38;5;28;01mexcept\u001b[39;00m \u001b[38;5;167;01mException\u001b[39;00m \u001b[38;5;28;01mas\u001b[39;00m e:\n\u001b[1;32m    627\u001b[0m     \u001b[38;5;66;03m# Handle non SQLAlchemy errors\u001b[39;00m\n\u001b[0;32m--> 628\u001b[0m     \u001b[43mhandle_exception\u001b[49m\u001b[43m(\u001b[49m\u001b[43me\u001b[49m\u001b[43m,\u001b[49m\u001b[43m \u001b[49m\u001b[43mcommand\u001b[49m\u001b[38;5;241;43m.\u001b[39;49m\u001b[43msql\u001b[49m\u001b[43m,\u001b[49m\u001b[43m \u001b[49m\u001b[38;5;28;43mself\u001b[39;49m\u001b[38;5;241;43m.\u001b[39;49m\u001b[43mshort_errors\u001b[49m\u001b[43m)\u001b[49m\n",
      "File \u001b[0;32m~/.python/current/lib/python3.10/site-packages/sql/error_handler.py:115\u001b[0m, in \u001b[0;36mhandle_exception\u001b[0;34m(error, query, short_error)\u001b[0m\n\u001b[1;32m    113\u001b[0m         _display_error_msg_with_trace(error, detailed_message)\n\u001b[1;32m    114\u001b[0m \u001b[38;5;28;01melse\u001b[39;00m:\n\u001b[0;32m--> 115\u001b[0m     \u001b[38;5;28;01mraise\u001b[39;00m error\n",
      "File \u001b[0;32m~/.python/current/lib/python3.10/site-packages/sql/magic.py:582\u001b[0m, in \u001b[0;36mSqlMagic._execute\u001b[0;34m(self, payload, line, cell, local_ns, is_interactive_mode)\u001b[0m\n\u001b[1;32m    579\u001b[0m     parameters \u001b[38;5;241m=\u001b[39m user_ns\n\u001b[1;32m    581\u001b[0m \u001b[38;5;28;01mtry\u001b[39;00m:\n\u001b[0;32m--> 582\u001b[0m     result \u001b[38;5;241m=\u001b[39m \u001b[43mrun_statements\u001b[49m\u001b[43m(\u001b[49m\u001b[43mconn\u001b[49m\u001b[43m,\u001b[49m\u001b[43m \u001b[49m\u001b[43mcommand\u001b[49m\u001b[38;5;241;43m.\u001b[39;49m\u001b[43msql\u001b[49m\u001b[43m,\u001b[49m\u001b[43m \u001b[49m\u001b[38;5;28;43mself\u001b[39;49m\u001b[43m,\u001b[49m\u001b[43m \u001b[49m\u001b[43mparameters\u001b[49m\u001b[38;5;241;43m=\u001b[39;49m\u001b[43mparameters\u001b[49m\u001b[43m)\u001b[49m\n\u001b[1;32m    584\u001b[0m     \u001b[38;5;28;01mif\u001b[39;00m (\n\u001b[1;32m    585\u001b[0m         result \u001b[38;5;129;01mis\u001b[39;00m \u001b[38;5;129;01mnot\u001b[39;00m \u001b[38;5;28;01mNone\u001b[39;00m\n\u001b[1;32m    586\u001b[0m         \u001b[38;5;129;01mand\u001b[39;00m \u001b[38;5;129;01mnot\u001b[39;00m \u001b[38;5;28misinstance\u001b[39m(result, \u001b[38;5;28mstr\u001b[39m)\n\u001b[0;32m   (...)\u001b[0m\n\u001b[1;32m    589\u001b[0m         \u001b[38;5;66;03m# Instead of returning values, set variables directly in the\u001b[39;00m\n\u001b[1;32m    590\u001b[0m         \u001b[38;5;66;03m# users namespace. Variable names given by column names\u001b[39;00m\n\u001b[1;32m    592\u001b[0m         \u001b[38;5;28;01mif\u001b[39;00m \u001b[38;5;28mself\u001b[39m\u001b[38;5;241m.\u001b[39mautopandas \u001b[38;5;129;01mor\u001b[39;00m \u001b[38;5;28mself\u001b[39m\u001b[38;5;241m.\u001b[39mautopolars:\n",
      "File \u001b[0;32m~/.python/current/lib/python3.10/site-packages/sql/run/run.py:54\u001b[0m, in \u001b[0;36mrun_statements\u001b[0;34m(conn, sql, config, parameters)\u001b[0m\n\u001b[1;32m     50\u001b[0m     result \u001b[38;5;241m=\u001b[39m handle_postgres_special(conn, statement)\n\u001b[1;32m     52\u001b[0m \u001b[38;5;66;03m# regular query\u001b[39;00m\n\u001b[1;32m     53\u001b[0m \u001b[38;5;28;01melse\u001b[39;00m:\n\u001b[0;32m---> 54\u001b[0m     result \u001b[38;5;241m=\u001b[39m \u001b[43mconn\u001b[49m\u001b[38;5;241;43m.\u001b[39;49m\u001b[43mraw_execute\u001b[49m\u001b[43m(\u001b[49m\u001b[43mstatement\u001b[49m\u001b[43m,\u001b[49m\u001b[43m \u001b[49m\u001b[43mparameters\u001b[49m\u001b[38;5;241;43m=\u001b[39;49m\u001b[43mparameters\u001b[49m\u001b[43m)\u001b[49m\n\u001b[1;32m     55\u001b[0m     \u001b[38;5;28;01mif\u001b[39;00m is_spark(conn\u001b[38;5;241m.\u001b[39mdialect) \u001b[38;5;129;01mand\u001b[39;00m config\u001b[38;5;241m.\u001b[39mlazy_execution:\n\u001b[1;32m     56\u001b[0m         \u001b[38;5;28;01mreturn\u001b[39;00m result\u001b[38;5;241m.\u001b[39mdataframe\n",
      "File \u001b[0;32m~/.python/current/lib/python3.10/site-packages/sql/connection/connection.py:1048\u001b[0m, in \u001b[0;36mDBAPIConnection.raw_execute\u001b[0;34m(self, query, parameters, with_)\u001b[0m\n\u001b[1;32m   1045\u001b[0m     query \u001b[38;5;241m=\u001b[39m \u001b[38;5;28mself\u001b[39m\u001b[38;5;241m.\u001b[39m_resolve_cte(query, with_)\n\u001b[1;32m   1047\u001b[0m cur \u001b[38;5;241m=\u001b[39m \u001b[38;5;28mself\u001b[39m\u001b[38;5;241m.\u001b[39m_connection\u001b[38;5;241m.\u001b[39mcursor()\n\u001b[0;32m-> 1048\u001b[0m \u001b[43mcur\u001b[49m\u001b[38;5;241;43m.\u001b[39;49m\u001b[43mexecute\u001b[49m\u001b[43m(\u001b[49m\u001b[43mquery\u001b[49m\u001b[43m)\u001b[49m\n\u001b[1;32m   1050\u001b[0m \u001b[38;5;28;01mif\u001b[39;00m \u001b[38;5;28mself\u001b[39m\u001b[38;5;241m.\u001b[39m_requires_manual_commit:\n\u001b[1;32m   1051\u001b[0m     \u001b[38;5;28mself\u001b[39m\u001b[38;5;241m.\u001b[39m_connection\u001b[38;5;241m.\u001b[39mcommit()\n",
      "\u001b[0;31mBinderException\u001b[0m: Binder Error: Failed to detach database with name \"db\": database not found"
     ]
    }
   ],
   "source": [
    "%%sql\n",
    "\n",
    "DETACH db;\n",
    "INSTALL postgres;\n",
    "LOAD postgres;\n",
    "ATTACH 'dbname=lord_duckdb_postgres user=lord password=postgres123 host=127.0.0.1' AS db (TYPE POSTGRES);\n",
    "SHOW ALL TABLES;"
   ]
  },
  {
   "cell_type": "markdown",
   "metadata": {},
   "source": [
    "### Detach para atualizar a listagem de tabelas no duckdb"
   ]
  },
  {
   "cell_type": "markdown",
   "metadata": {},
   "source": [
    "## Exportação de Dados\n",
    "- Visão Geral\n",
    "- Saídas\n",
    "    - S3 (minio/aws)\n",
    "        - Power BI\n",
    "        - Trino\n",
    "        \n",
    "\n",
    "    - Embedded Data Analysis \n",
    "        - Superset \n",
    "        \n",
    "    - CSV\n",
    "    - Json"
   ]
  },
  {
   "cell_type": "code",
   "execution_count": null,
   "metadata": {},
   "outputs": [],
   "source": [
    "!pip install boto3 --quiet "
   ]
  },
  {
   "cell_type": "code",
   "execution_count": 1,
   "metadata": {},
   "outputs": [
    {
     "name": "stdout",
     "output_type": "stream",
     "text": [
      "There's a new jupysql version available (0.10.12), you're running 0.10.10. To upgrade: pip install jupysql --upgrade\n",
      "Deploy Dash apps for free on Ploomber Cloud! Learn more: https://ploomber.io/s/signup\n",
      "Buckets: ['lord-duckdb']\n"
     ]
    }
   ],
   "source": [
    "import boto3\n",
    "import duckdb\n",
    "conn = duckdb.connect('data/aula5/lord_duckdb.db') \n",
    "%load_ext sql\n",
    "%sql conn --alias duckdb\n",
    "\n",
    "# Create an S3 client on localhost:9000, using the access key and secret key\n",
    "s3 = boto3.client('s3', endpoint_url='http://localhost:9000', aws_access_key_id='minio_access_key', aws_secret_access_key='minio_secret_key')\n",
    "\n",
    "#get a lord-bucket\n",
    "response = s3.list_buckets()\n",
    "buckets = [bucket['Name'] for bucket in response['Buckets']]\n",
    "print(\"Buckets:\", buckets)\n",
    "\n",
    "\n",
    "#create a lord-duckdb bucket if not exists\n",
    "if 'lord-duckdb' not in buckets:\n",
    "    s3.create_bucket(Bucket='lord-duckdb')\n"
   ]
  },
  {
   "cell_type": "code",
   "execution_count": null,
   "metadata": {},
   "outputs": [],
   "source": [
    "%%sql\n",
    "select * from db.OCORRENCIA limit 5;"
   ]
  },
  {
   "cell_type": "code",
   "execution_count": 2,
   "metadata": {},
   "outputs": [
    {
     "data": {
      "text/html": [
       "<span style=\"None\">Running query in &#x27;duckdb&#x27;</span>"
      ],
      "text/plain": [
       "Running query in 'duckdb'"
      ]
     },
     "metadata": {},
     "output_type": "display_data"
    },
    {
     "data": {
      "text/html": [
       "<table>\n",
       "    <thead>\n",
       "        <tr>\n",
       "            <th>Success</th>\n",
       "        </tr>\n",
       "    </thead>\n",
       "    <tbody>\n",
       "    </tbody>\n",
       "</table>"
      ],
      "text/plain": [
       "+---------+\n",
       "| Success |\n",
       "+---------+\n",
       "+---------+"
      ]
     },
     "execution_count": 2,
     "metadata": {},
     "output_type": "execute_result"
    }
   ],
   "source": [
    "%%sql\n",
    "\n",
    "INSTALL aws;\n",
    "INSTALL httpfs;\n",
    "LOAD aws;\n",
    "LOAD httpfs;"
   ]
  },
  {
   "cell_type": "code",
   "execution_count": 11,
   "metadata": {},
   "outputs": [
    {
     "data": {
      "text/html": [
       "<span style=\"None\">Running query in &#x27;duckdb&#x27;</span>"
      ],
      "text/plain": [
       "Running query in 'duckdb'"
      ]
     },
     "metadata": {},
     "output_type": "display_data"
    },
    {
     "data": {
      "text/html": [
       "<table>\n",
       "    <thead>\n",
       "        <tr>\n",
       "            <th>Success</th>\n",
       "        </tr>\n",
       "    </thead>\n",
       "    <tbody>\n",
       "        <tr>\n",
       "            <td>True</td>\n",
       "        </tr>\n",
       "    </tbody>\n",
       "</table>"
      ],
      "text/plain": [
       "+---------+\n",
       "| Success |\n",
       "+---------+\n",
       "|   True  |\n",
       "+---------+"
      ]
     },
     "execution_count": 11,
     "metadata": {},
     "output_type": "execute_result"
    }
   ],
   "source": [
    "%%sql  \n",
    "\n",
    "\n",
    "CREATE or replace persistent SECRET secret1 (\n",
    "    TYPE S3, \n",
    "    KEY_ID 'minio_access_key',\n",
    "    SECRET 'minio_secret_key',\n",
    "    REGION 'us-east-1',\n",
    "    URL_STYLE 'path', \n",
    "    USE_SSL 'false', \n",
    "    ENDPOINT '172.19.0.1:9000'\n",
    ");"
   ]
  },
  {
   "cell_type": "code",
   "execution_count": null,
   "metadata": {},
   "outputs": [],
   "source": [
    "%%sql\n",
    "\n",
    "--DROP TEMPORARY SECRET secret1;\n",
    "\n",
    "FROM duckdb_secrets();"
   ]
  },
  {
   "cell_type": "code",
   "execution_count": 12,
   "metadata": {},
   "outputs": [
    {
     "data": {
      "text/html": [
       "<span style=\"None\">Running query in &#x27;duckdb&#x27;</span>"
      ],
      "text/plain": [
       "Running query in 'duckdb'"
      ]
     },
     "metadata": {},
     "output_type": "display_data"
    },
    {
     "data": {
      "text/html": [
       "<table>\n",
       "    <thead>\n",
       "        <tr>\n",
       "            <th>codigo_ocorrencia1</th>\n",
       "            <th>codigo_ocorrencia4</th>\n",
       "            <th>codigo_ocorrencia2</th>\n",
       "            <th>codigo_ocorrencia3</th>\n",
       "            <th>codigo_ocorrencia</th>\n",
       "            <th>ocorrencia_classificacao</th>\n",
       "            <th>ocorrencia_longitude</th>\n",
       "            <th>ocorrencia_latitude</th>\n",
       "            <th>ocorrencia_cidade</th>\n",
       "            <th>ocorrencia_uf</th>\n",
       "            <th>ocorrencia_pais</th>\n",
       "            <th>ocorrencia_aerodromo</th>\n",
       "            <th>ocorrencia_dia</th>\n",
       "            <th>ocorrencia_hora</th>\n",
       "            <th>investigacao_aeronave_liberada</th>\n",
       "            <th>investigacao_status</th>\n",
       "            <th>divulgacao_relatorio_numero</th>\n",
       "            <th>divulgacao_relatorio_publicado</th>\n",
       "            <th>divulgacao_dia_publicacao</th>\n",
       "            <th>total_recomendacoes</th>\n",
       "            <th>total_aeronaves_envolvidas</th>\n",
       "            <th>ocorrencia_saida_pista</th>\n",
       "        </tr>\n",
       "    </thead>\n",
       "    <tbody>\n",
       "        <tr>\n",
       "            <td>83097</td>\n",
       "            <td>83097</td>\n",
       "            <td>83097</td>\n",
       "            <td>83097</td>\n",
       "            <td>83097</td>\n",
       "            <td>ACIDENTE</td>\n",
       "            <td>-2.352777777777</td>\n",
       "            <td>-4.563944444444</td>\n",
       "            <td>PARAIBUNA</td>\n",
       "            <td>SP</td>\n",
       "            <td>BRASIL</td>\n",
       "            <td>None</td>\n",
       "            <td>2023-12-31</td>\n",
       "            <td>18:00:00</td>\n",
       "            <td>SIM</td>\n",
       "            <td>FINALIZADA</td>\n",
       "            <td>None</td>\n",
       "            <td>NÃO</td>\n",
       "            <td>None</td>\n",
       "            <td>0</td>\n",
       "            <td>1</td>\n",
       "            <td>NÃO</td>\n",
       "        </tr>\n",
       "        <tr>\n",
       "            <td>83085</td>\n",
       "            <td>83085</td>\n",
       "            <td>83085</td>\n",
       "            <td>83085</td>\n",
       "            <td>83085</td>\n",
       "            <td>INCIDENTE</td>\n",
       "            <td>-9.868333333333</td>\n",
       "            <td>-6.789805555555</td>\n",
       "            <td>RIO BRANCO</td>\n",
       "            <td>AC</td>\n",
       "            <td>BRASIL</td>\n",
       "            <td>SBRB</td>\n",
       "            <td>2023-12-13</td>\n",
       "            <td>11:33:00</td>\n",
       "            <td>SIM</td>\n",
       "            <td>FINALIZADA</td>\n",
       "            <td>None</td>\n",
       "            <td>NÃO</td>\n",
       "            <td>None</td>\n",
       "            <td>0</td>\n",
       "            <td>1</td>\n",
       "            <td>NÃO</td>\n",
       "        </tr>\n",
       "        <tr>\n",
       "            <td>83074</td>\n",
       "            <td>83074</td>\n",
       "            <td>83074</td>\n",
       "            <td>83074</td>\n",
       "            <td>83074</td>\n",
       "            <td>INCIDENTE</td>\n",
       "            <td>-1.962444444444</td>\n",
       "            <td>-4.397194444444</td>\n",
       "            <td>BELO HORIZONTE</td>\n",
       "            <td>MG</td>\n",
       "            <td>BRASIL</td>\n",
       "            <td>SBCF</td>\n",
       "            <td>2023-12-20</td>\n",
       "            <td>20:00:00</td>\n",
       "            <td>SIM</td>\n",
       "            <td>FINALIZADA</td>\n",
       "            <td>None</td>\n",
       "            <td>NÃO</td>\n",
       "            <td>None</td>\n",
       "            <td>0</td>\n",
       "            <td>1</td>\n",
       "            <td>NÃO</td>\n",
       "        </tr>\n",
       "        <tr>\n",
       "            <td>83063</td>\n",
       "            <td>83063</td>\n",
       "            <td>83063</td>\n",
       "            <td>83063</td>\n",
       "            <td>83063</td>\n",
       "            <td>INCIDENTE</td>\n",
       "            <td>-1.587111111111</td>\n",
       "            <td>-4.791861111111</td>\n",
       "            <td>BRASÍLIA</td>\n",
       "            <td>DF</td>\n",
       "            <td>BRASIL</td>\n",
       "            <td>SBBR</td>\n",
       "            <td>2023-12-29</td>\n",
       "            <td>21:20:00</td>\n",
       "            <td>SIM</td>\n",
       "            <td>FINALIZADA</td>\n",
       "            <td>None</td>\n",
       "            <td>NÃO</td>\n",
       "            <td>None</td>\n",
       "            <td>0</td>\n",
       "            <td>1</td>\n",
       "            <td>NÃO</td>\n",
       "        </tr>\n",
       "        <tr>\n",
       "            <td>83051</td>\n",
       "            <td>83051</td>\n",
       "            <td>83051</td>\n",
       "            <td>83051</td>\n",
       "            <td>83051</td>\n",
       "            <td>INCIDENTE</td>\n",
       "            <td>-4.871388888888</td>\n",
       "            <td>-668.975</td>\n",
       "            <td>CARAUARI</td>\n",
       "            <td>AM</td>\n",
       "            <td>BRASIL</td>\n",
       "            <td>SWCA</td>\n",
       "            <td>2023-12-09</td>\n",
       "            <td>18:30:00</td>\n",
       "            <td>SIM</td>\n",
       "            <td>FINALIZADA</td>\n",
       "            <td>None</td>\n",
       "            <td>NÃO</td>\n",
       "            <td>None</td>\n",
       "            <td>0</td>\n",
       "            <td>1</td>\n",
       "            <td>NÃO</td>\n",
       "        </tr>\n",
       "        <tr>\n",
       "            <td>83044</td>\n",
       "            <td>83044</td>\n",
       "            <td>83044</td>\n",
       "            <td>83044</td>\n",
       "            <td>83044</td>\n",
       "            <td>INCIDENTE</td>\n",
       "            <td>-2.300694444444</td>\n",
       "            <td>-4.713444444444</td>\n",
       "            <td>CAMPINAS</td>\n",
       "            <td>SP</td>\n",
       "            <td>BRASIL</td>\n",
       "            <td>SBKP</td>\n",
       "            <td>2023-12-29</td>\n",
       "            <td>23:50:00</td>\n",
       "            <td>SIM</td>\n",
       "            <td>FINALIZADA</td>\n",
       "            <td>None</td>\n",
       "            <td>NÃO</td>\n",
       "            <td>None</td>\n",
       "            <td>0</td>\n",
       "            <td>1</td>\n",
       "            <td>NÃO</td>\n",
       "        </tr>\n",
       "        <tr>\n",
       "            <td>83036</td>\n",
       "            <td>83036</td>\n",
       "            <td>83036</td>\n",
       "            <td>83036</td>\n",
       "            <td>83036</td>\n",
       "            <td>INCIDENTE</td>\n",
       "            <td>-2.292083333333</td>\n",
       "            <td>-4.207138888888</td>\n",
       "            <td>CABO FRIO</td>\n",
       "            <td>RJ</td>\n",
       "            <td>BRASIL</td>\n",
       "            <td>SBCB</td>\n",
       "            <td>2023-12-30</td>\n",
       "            <td>21:47:00</td>\n",
       "            <td>SIM</td>\n",
       "            <td>FINALIZADA</td>\n",
       "            <td>None</td>\n",
       "            <td>NÃO</td>\n",
       "            <td>None</td>\n",
       "            <td>0</td>\n",
       "            <td>1</td>\n",
       "            <td>NÃO</td>\n",
       "        </tr>\n",
       "        <tr>\n",
       "            <td>83035</td>\n",
       "            <td>83035</td>\n",
       "            <td>83035</td>\n",
       "            <td>83035</td>\n",
       "            <td>83035</td>\n",
       "            <td>INCIDENTE</td>\n",
       "            <td>-3.854722222222</td>\n",
       "            <td>-3.242833333333</td>\n",
       "            <td>FERNANDO DE NORONHA</td>\n",
       "            <td>PE</td>\n",
       "            <td>BRASIL</td>\n",
       "            <td>SBFN</td>\n",
       "            <td>2023-12-30</td>\n",
       "            <td>21:00:00</td>\n",
       "            <td>SIM</td>\n",
       "            <td>FINALIZADA</td>\n",
       "            <td>None</td>\n",
       "            <td>NÃO</td>\n",
       "            <td>None</td>\n",
       "            <td>0</td>\n",
       "            <td>1</td>\n",
       "            <td>NÃO</td>\n",
       "        </tr>\n",
       "        <tr>\n",
       "            <td>83033</td>\n",
       "            <td>83033</td>\n",
       "            <td>83033</td>\n",
       "            <td>83033</td>\n",
       "            <td>83033</td>\n",
       "            <td>INCIDENTE</td>\n",
       "            <td>-22.175</td>\n",
       "            <td>-5.142444444444</td>\n",
       "            <td>PRESIDENTE PRUDENTE</td>\n",
       "            <td>SP</td>\n",
       "            <td>BRASIL</td>\n",
       "            <td>SBDN</td>\n",
       "            <td>2023-12-28</td>\n",
       "            <td>10:34:00</td>\n",
       "            <td>SIM</td>\n",
       "            <td>FINALIZADA</td>\n",
       "            <td>None</td>\n",
       "            <td>NÃO</td>\n",
       "            <td>None</td>\n",
       "            <td>0</td>\n",
       "            <td>1</td>\n",
       "            <td>NÃO</td>\n",
       "        </tr>\n",
       "        <tr>\n",
       "            <td>83032</td>\n",
       "            <td>83032</td>\n",
       "            <td>83032</td>\n",
       "            <td>83032</td>\n",
       "            <td>83032</td>\n",
       "            <td>INCIDENTE</td>\n",
       "            <td>-10.29</td>\n",
       "            <td>-4.835777777777</td>\n",
       "            <td>PALMAS</td>\n",
       "            <td>TO</td>\n",
       "            <td>BRASIL</td>\n",
       "            <td>SBPJ</td>\n",
       "            <td>2023-12-29</td>\n",
       "            <td>05:07:00</td>\n",
       "            <td>SIM</td>\n",
       "            <td>FINALIZADA</td>\n",
       "            <td>None</td>\n",
       "            <td>NÃO</td>\n",
       "            <td>None</td>\n",
       "            <td>0</td>\n",
       "            <td>1</td>\n",
       "            <td>NÃO</td>\n",
       "        </tr>\n",
       "    </tbody>\n",
       "</table>\n",
       "<span style=\"font-style:italic;text-align:center;\">Truncated to <a href=\"https://jupysql.ploomber.io/en/latest/api/configuration.html#displaylimit\">displaylimit</a> of 10.</span>"
      ],
      "text/plain": [
       "+--------------------+--------------------+--------------------+--------------------+-------------------+--------------------------+----------------------+---------------------+---------------------+---------------+-----------------+----------------------+----------------+-----------------+--------------------------------+---------------------+-----------------------------+--------------------------------+---------------------------+---------------------+----------------------------+------------------------+\n",
       "| codigo_ocorrencia1 | codigo_ocorrencia4 | codigo_ocorrencia2 | codigo_ocorrencia3 | codigo_ocorrencia | ocorrencia_classificacao | ocorrencia_longitude | ocorrencia_latitude |  ocorrencia_cidade  | ocorrencia_uf | ocorrencia_pais | ocorrencia_aerodromo | ocorrencia_dia | ocorrencia_hora | investigacao_aeronave_liberada | investigacao_status | divulgacao_relatorio_numero | divulgacao_relatorio_publicado | divulgacao_dia_publicacao | total_recomendacoes | total_aeronaves_envolvidas | ocorrencia_saida_pista |\n",
       "+--------------------+--------------------+--------------------+--------------------+-------------------+--------------------------+----------------------+---------------------+---------------------+---------------+-----------------+----------------------+----------------+-----------------+--------------------------------+---------------------+-----------------------------+--------------------------------+---------------------------+---------------------+----------------------------+------------------------+\n",
       "|       83097        |       83097        |       83097        |       83097        |       83097       |         ACIDENTE         |   -2.352777777777    |   -4.563944444444   |      PARAIBUNA      |       SP      |      BRASIL     |         None         |   2023-12-31   |     18:00:00    |              SIM               |      FINALIZADA     |             None            |              NÃO               |            None           |          0          |             1              |          NÃO           |\n",
       "|       83085        |       83085        |       83085        |       83085        |       83085       |        INCIDENTE         |   -9.868333333333    |   -6.789805555555   |      RIO BRANCO     |       AC      |      BRASIL     |         SBRB         |   2023-12-13   |     11:33:00    |              SIM               |      FINALIZADA     |             None            |              NÃO               |            None           |          0          |             1              |          NÃO           |\n",
       "|       83074        |       83074        |       83074        |       83074        |       83074       |        INCIDENTE         |   -1.962444444444    |   -4.397194444444   |    BELO HORIZONTE   |       MG      |      BRASIL     |         SBCF         |   2023-12-20   |     20:00:00    |              SIM               |      FINALIZADA     |             None            |              NÃO               |            None           |          0          |             1              |          NÃO           |\n",
       "|       83063        |       83063        |       83063        |       83063        |       83063       |        INCIDENTE         |   -1.587111111111    |   -4.791861111111   |       BRASÍLIA      |       DF      |      BRASIL     |         SBBR         |   2023-12-29   |     21:20:00    |              SIM               |      FINALIZADA     |             None            |              NÃO               |            None           |          0          |             1              |          NÃO           |\n",
       "|       83051        |       83051        |       83051        |       83051        |       83051       |        INCIDENTE         |   -4.871388888888    |       -668.975      |       CARAUARI      |       AM      |      BRASIL     |         SWCA         |   2023-12-09   |     18:30:00    |              SIM               |      FINALIZADA     |             None            |              NÃO               |            None           |          0          |             1              |          NÃO           |\n",
       "|       83044        |       83044        |       83044        |       83044        |       83044       |        INCIDENTE         |   -2.300694444444    |   -4.713444444444   |       CAMPINAS      |       SP      |      BRASIL     |         SBKP         |   2023-12-29   |     23:50:00    |              SIM               |      FINALIZADA     |             None            |              NÃO               |            None           |          0          |             1              |          NÃO           |\n",
       "|       83036        |       83036        |       83036        |       83036        |       83036       |        INCIDENTE         |   -2.292083333333    |   -4.207138888888   |      CABO FRIO      |       RJ      |      BRASIL     |         SBCB         |   2023-12-30   |     21:47:00    |              SIM               |      FINALIZADA     |             None            |              NÃO               |            None           |          0          |             1              |          NÃO           |\n",
       "|       83035        |       83035        |       83035        |       83035        |       83035       |        INCIDENTE         |   -3.854722222222    |   -3.242833333333   | FERNANDO DE NORONHA |       PE      |      BRASIL     |         SBFN         |   2023-12-30   |     21:00:00    |              SIM               |      FINALIZADA     |             None            |              NÃO               |            None           |          0          |             1              |          NÃO           |\n",
       "|       83033        |       83033        |       83033        |       83033        |       83033       |        INCIDENTE         |       -22.175        |   -5.142444444444   | PRESIDENTE PRUDENTE |       SP      |      BRASIL     |         SBDN         |   2023-12-28   |     10:34:00    |              SIM               |      FINALIZADA     |             None            |              NÃO               |            None           |          0          |             1              |          NÃO           |\n",
       "|       83032        |       83032        |       83032        |       83032        |       83032       |        INCIDENTE         |        -10.29        |   -4.835777777777   |        PALMAS       |       TO      |      BRASIL     |         SBPJ         |   2023-12-29   |     05:07:00    |              SIM               |      FINALIZADA     |             None            |              NÃO               |            None           |          0          |             1              |          NÃO           |\n",
       "+--------------------+--------------------+--------------------+--------------------+-------------------+--------------------------+----------------------+---------------------+---------------------+---------------+-----------------+----------------------+----------------+-----------------+--------------------------------+---------------------+-----------------------------+--------------------------------+---------------------------+---------------------+----------------------------+------------------------+\n",
       "Truncated to displaylimit of 10."
      ]
     },
     "execution_count": 12,
     "metadata": {},
     "output_type": "execute_result"
    }
   ],
   "source": [
    "%%sql\n",
    "\n",
    "select * from 's3://lord-duckdb/ocorrencia.csv';"
   ]
  },
  {
   "cell_type": "code",
   "execution_count": 13,
   "metadata": {},
   "outputs": [
    {
     "data": {
      "text/plain": [
       "<duckdb.duckdb.DuckDBPyConnection at 0x733200a52d70>"
      ]
     },
     "execution_count": 13,
     "metadata": {},
     "output_type": "execute_result"
    }
   ],
   "source": [
    "conn.execute('''  \n",
    "\n",
    "copy (select * from db.OCORRENCIA) to 's3://lord-duckdb/ocorrencia.parquet' with (FORMAT PARQUET);''')"
   ]
  },
  {
   "cell_type": "code",
   "execution_count": null,
   "metadata": {},
   "outputs": [],
   "source": [
    "%%sql\n",
    "\n",
    "CREATE  or replace TABLE Fato_Ocorrencia (\n",
    "\tcodigo_ocorrencia INT ,\n",
    "\tocorrencia_dia DATE,\n",
    "\tocorrencia_hora TIME,\n",
    "\tocorrencia_tipo VARCHAR(255),\n",
    "\tocorrencia_cidade VARCHAR(255),\n",
    "\tocorrencia_uf CHAR(2),\n",
    "\tocorrencia_pais VARCHAR(255),\n",
    "\tocorrencia_aerodromo VARCHAR(4),\n",
    "\tocorrencia_saida_pista varchar(3),\n",
    "\ttotal_recomendacoes INT,\n",
    "\ttotal_aeronaves_envolvidas INT \n",
    ");\n",
    "\n",
    "CREATE  or replace TABLE Fato_Fator_Contribuinte (\n",
    "\tcodigo_ocorrencia INT,\n",
    "\tfator_nome VARCHAR(255),\n",
    "\tfator_aspecto VARCHAR(255),\n",
    "\tfator_condicionante BOOLEAN,\n",
    "\tfator_area VARCHAR(255),\n",
    "\tPRIMARY KEY (codigo_ocorrencia, fator_nome)\n",
    ");\n",
    "\n",
    "CREATE  or replace TABLE Fato_Investigacao (\n",
    "\tcodigo_ocorrencia INT PRIMARY KEY,\n",
    "\tinvestigacao_aeronave_liberada BOOLEAN,\n",
    "\tinvestigacao_status VARCHAR(255)\n",
    ");\n",
    "\n",
    "CREATE  or replace TABLE Fato_Divulgacao (\n",
    "\tcodigo_ocorrencia INT PRIMARY KEY,\n",
    "\tdivulgacao_relatorio_numero VARCHAR(255),\n",
    "\tdivulgacao_relatorio_publicado BOOLEAN,\n",
    "\tdivulgacao_dia_publicacao DATE\n",
    ");\n",
    "\n",
    "CREATE or replace TABLE Dimensao_Aeronave (\n",
    "\tcodigo_aeronave INT PRIMARY KEY,\n",
    "\taeronave_matricula VARCHAR(255),\n",
    "\taeronave_tipo_veiculo VARCHAR(255),\n",
    "\taeronave_fabricante VARCHAR(255),\n",
    "\taeronave_modelo VARCHAR(255),\n",
    "\taeronave_tipo_cao VARCHAR(255),\n",
    "\taeronave_motor_tipo VARCHAR(255),\n",
    "\taeronave_motor_quantidade INT,\n",
    "\taeronave_pmd BOOLEAN,\n",
    "\taeronave_pmd_categoria VARCHAR(255),\n",
    "\taeronave_assentos INT,\n",
    "\taeronave_ano_fabricacao integer,\n",
    "\taeronave_pais_fabricante VARCHAR(255),\n",
    "\taeronave_pais_registro VARCHAR(255),\n",
    "\taeronave_registro_categoria VARCHAR(255),\n",
    "\taeronave_registro_segmento VARCHAR(255),\n",
    "\taeronave_voo_origem VARCHAR(255),\n",
    "\taeronave_voo_destino VARCHAR(255),\n",
    "\taeronave_fase_operacao VARCHAR(255),\n",
    "\taeronave_tipo_operacao VARCHAR(255)\n",
    ");"
   ]
  },
  {
   "cell_type": "code",
   "execution_count": null,
   "metadata": {},
   "outputs": [],
   "source": [
    "%%sql\n",
    "\n",
    "select distinct ocorrencia_tipo from db.ocorrencia_tipo  where ocorrencia_tipo ilike '%a%' "
   ]
  },
  {
   "cell_type": "code",
   "execution_count": null,
   "metadata": {},
   "outputs": [],
   "source": [
    "%%sql\n",
    "\n",
    "\n",
    "delete from Fato_Ocorrencia;\n",
    "insert into Fato_Ocorrencia \n",
    "select o.codigo_ocorrencia,\n",
    "o.ocorrencia_dia,\n",
    "o.ocorrencia_hora,\n",
    "ot.ocorrencia_tipo,\n",
    "o.ocorrencia_cidade,\n",
    "o.ocorrencia_uf,\n",
    "o.ocorrencia_pais,\n",
    "o.ocorrencia_aerodromo,\n",
    "o.ocorrencia_saida_pista,\n",
    "count(r.*) as total_recomendacoes,\n",
    "count(a.*) as total_aeronaves_envolvidas\n",
    "  from db.ocorrencia o \n",
    "left join db.ocorrencia_tipo ot on o.codigo_ocorrencia1 = ot.codigo_ocorrencia1\n",
    "left join db.aeronave a on o.codigo_ocorrencia2 = a.codigo_ocorrencia2\n",
    "left join db.fator_contribuinte fc on o.codigo_ocorrencia3 = fc.codigo_ocorrencia3\n",
    "left join db.recomendacao r on o.codigo_ocorrencia4 = r.codigo_ocorrencia4\n",
    "group by all"
   ]
  },
  {
   "cell_type": "code",
   "execution_count": 22,
   "metadata": {},
   "outputs": [
    {
     "data": {
      "text/html": [
       "<span style=\"None\">Running query in &#x27;duckdb&#x27;</span>"
      ],
      "text/plain": [
       "Running query in 'duckdb'"
      ]
     },
     "metadata": {},
     "output_type": "display_data"
    },
    {
     "data": {
      "text/html": [
       "<table>\n",
       "    <thead>\n",
       "        <tr>\n",
       "            <th>Count</th>\n",
       "        </tr>\n",
       "    </thead>\n",
       "    <tbody>\n",
       "        <tr>\n",
       "            <td>38</td>\n",
       "        </tr>\n",
       "    </tbody>\n",
       "</table>"
      ],
      "text/plain": [
       "+-------+\n",
       "| Count |\n",
       "+-------+\n",
       "|   38  |\n",
       "+-------+"
      ]
     },
     "execution_count": 22,
     "metadata": {},
     "output_type": "execute_result"
    }
   ],
   "source": [
    "%%sql\n",
    "copy ( select name from (SHOW ALL TABLES) order by 1) to 's3://lord-duckdb/tabelas.csv' with (FORMAT CSV);"
   ]
  },
  {
   "cell_type": "code",
   "execution_count": 27,
   "metadata": {},
   "outputs": [
    {
     "data": {
      "text/html": [
       "<span style=\"None\">Running query in &#x27;duckdb&#x27;</span>"
      ],
      "text/plain": [
       "Running query in 'duckdb'"
      ]
     },
     "metadata": {},
     "output_type": "display_data"
    },
    {
     "data": {
      "text/html": [
       "<table>\n",
       "    <thead>\n",
       "        <tr>\n",
       "            <th>Count</th>\n",
       "        </tr>\n",
       "    </thead>\n",
       "    <tbody>\n",
       "        <tr>\n",
       "            <td>33090</td>\n",
       "        </tr>\n",
       "    </tbody>\n",
       "</table>"
      ],
      "text/plain": [
       "+-------+\n",
       "| Count |\n",
       "+-------+\n",
       "| 33090 |\n",
       "+-------+"
      ]
     },
     "execution_count": 27,
     "metadata": {},
     "output_type": "execute_result"
    }
   ],
   "source": [
    "%%sql\n",
    "\n",
    "copy ( select * from db.dimensao_aeronave_ano_fabricacao        ) to 's3://lord-duckdb/bi/dimensao_aeronave_ano_fabricacao.csv' with (FORMAT CSV);\n",
    "copy ( select * from db.dimensao_aeronave_assentos              ) to 's3://lord-duckdb/bi/dimensao_aeronave_assentos.csv' with (FORMAT CSV);\n",
    "copy ( select * from db.dimensao_aeronave_fase_operacao         ) to 's3://lord-duckdb/bi/dimensao_aeronave_fase_operacao.csv' with (FORMAT CSV);\n",
    "copy ( select * from db.dimensao_aeronave_modelo                ) to 's3://lord-duckdb/bi/dimensao_aeronave_modelo.csv' with (FORMAT CSV);\n",
    "copy ( select * from db.dimensao_aeronave_motor_quantidade      ) to 's3://lord-duckdb/bi/dimensao_aeronave_motor_quantidade.csv' with (FORMAT CSV);\n",
    "copy ( select * from db.dimensao_aeronave_motor_tipo            ) to 's3://lord-duckdb/bi/dimensao_aeronave_nivel_dano.csv' with (FORMAT CSV);\n",
    "copy ( select * from db.dimensao_aeronave_nivel_dano            ) to 's3://lord-duckdb/bi/dimensao_aeronave_nivel_dano.csv' with (FORMAT CSV);\n",
    "copy ( select * from db.dimensao_aeronave_pais_fabricante       ) to 's3://lord-duckdb/bi/dimensao_aeronave_pais_fabricante.csv' with (FORMAT CSV);\n",
    "copy ( select * from db.dimensao_aeronave_pais_registro         ) to 's3://lord-duckdb/bi/dimensao_aeronave_pais_registro.csv' with (FORMAT CSV);\n",
    "copy ( select * from db.dimensao_aeronave_pmd                   ) to 's3://lord-duckdb/bi/dimensao_aeronave_pmd.csv' with (FORMAT CSV);\n",
    "copy ( select * from db.dimensao_aeronave_registro_categoria    ) to 's3://lord-duckdb/bi/dimensao_aeronave_registro_segmento.csv' with (FORMAT CSV);\n",
    "copy ( select * from db.dimensao_aeronave_registro_segmento     ) to 's3://lord-duckdb/bi/dimensao_aeronave_registro_segmento.csv' with (FORMAT CSV);\n",
    "copy ( select * from db.dimensao_aeronave_tipo_icao             ) to 's3://lord-duckdb/bi/dimensao_aeronave_tipo_operacao.csv' with (FORMAT CSV);\n",
    "copy ( select * from db.dimensao_aeronave_tipo_operacao         ) to 's3://lord-duckdb/bi/dimensao_aeronave_tipo_operacao.csv' with (FORMAT CSV);\n",
    "copy ( select * from db.dimensao_aeronave_tipo_veiculo          ) to 's3://lord-duckdb/bi/dimensao_aeronave_tipo_veiculo.csv' with (FORMAT CSV);\n",
    "copy ( select * from db.dimensao_aeronave_voo_destino           ) to 's3://lord-duckdb/bi/dimensao_codigo_aeronave_motor_tipo.csv' with (FORMAT CSV);\n",
    "copy ( select * from db.dimensao_aeronave_voo_origem            ) to 's3://lord-duckdb/bi/dimensao_codigo_aeronave_motor_tipo.csv' with (FORMAT CSV);\n",
    "copy ( select * from db.dimensao_codigo_aeronave_motor_tipo     ) to 's3://lord-duckdb/bi/dimensao_codigo_aeronave_motor_tipo.csv' with (FORMAT CSV);\n",
    "copy ( select * from db.dimensao_divulgacao_relatorio_publicado ) to 's3://lord-duckdb/bi/dimensao_divulgacao_relatorio_publicado.csv' with (FORMAT CSV);\n",
    "copy ( select * from db.dimensao_fator_area                     ) to 's3://lord-duckdb/bi/dimensao_fator_area.csv' with (FORMAT CSV);\n",
    "copy ( select * from db.dimensao_fator_aspecto                  ) to 's3://lord-duckdb/bi/dimensao_fator_aspecto.csv' with (FORMAT CSV);\n",
    "copy ( select * from db.dimensao_fator_condicionante            ) to 's3://lord-duckdb/bi/dimensao_fator_condicionante.csv' with (FORMAT CSV);\n",
    "copy ( select * from db.dimensao_investigacao_aeronave_liberada ) to 's3://lord-duckdb/bi/dimensao_investigacao_aeronave_liberada.csv' with (FORMAT CSV);\n",
    "copy ( select * from db.dimensao_investigacao_status            ) to 's3://lord-duckdb/bi/dimensao_investigacao_status.csv' with (FORMAT CSV);\n",
    "copy ( select * from db.dimensao_ocorrencia_aerodromo           ) to 's3://lord-duckdb/bi/dimensao_ocorrencia_aerodromo.csv' with (FORMAT CSV);\n",
    "copy ( select * from db.dimensao_ocorrencia_cidade              ) to 's3://lord-duckdb/bi/dimensao_ocorrencia_pais.csv' with (FORMAT CSV);\n",
    "copy ( select * from db.dimensao_ocorrencia_pais                ) to 's3://lord-duckdb/bi/dimensao_ocorrencia_pais.csv' with (FORMAT CSV);\n",
    "copy ( select * from db.dimensao_ocorrencia_saida_pista         ) to 's3://lord-duckdb/bi/dimensao_ocorrencia_saida_pista.csv' with (FORMAT CSV);\n",
    "copy ( select * from db.dimensao_ocorrencia_uf                  ) to 's3://lord-duckdb/bi/dimensao_ocorrencia_uf.csv' with (FORMAT CSV);\n",
    "copy ( select * from db.dimension_ocorrencia_tipo               ) to 's3://lord-duckdb/bi/dimension_ocorrencia_tipo.csv' with (FORMAT CSV);\n",
    "copy ( select * from db.dimension_ocorrencia_tipo_categoria     ) to 's3://lord-duckdb/bi/dimension_ocorrencia_tipo_categoria.csv' with (FORMAT CSV);\n",
    "copy ( select * from db.big_fact_ocorrencias     ) to 's3://lord-duckdb/bi/big_fact_ocorrencias.csv' with (FORMAT CSV);\n",
    "\n",
    "\n",
    "\n",
    "\n"
   ]
  },
  {
   "cell_type": "code",
   "execution_count": 29,
   "metadata": {},
   "outputs": [
    {
     "data": {
      "text/html": [
       "<span style=\"None\">Running query in &#x27;duckdb&#x27;</span>"
      ],
      "text/plain": [
       "Running query in 'duckdb'"
      ]
     },
     "metadata": {},
     "output_type": "display_data"
    },
    {
     "data": {
      "text/html": [
       "<table>\n",
       "    <thead>\n",
       "        <tr>\n",
       "            <th>Count</th>\n",
       "        </tr>\n",
       "    </thead>\n",
       "    <tbody>\n",
       "    </tbody>\n",
       "</table>"
      ],
      "text/plain": [
       "+-------+\n",
       "| Count |\n",
       "+-------+\n",
       "+-------+"
      ]
     },
     "execution_count": 29,
     "metadata": {},
     "output_type": "execute_result"
    }
   ],
   "source": [
    "%%sql\n",
    "\n",
    "create view dimensao_aeronave_ano_fabricacao        as select * from 's3://lord-duckdb/bi/dimensao_aeronave_ano_fabricacao.csv';\n",
    "create view dimensao_aeronave_assentos              as select * from 's3://lord-duckdb/bi/dimensao_aeronave_assentos.csv';\n",
    "create view dimensao_aeronave_fase_operacao         as select * from 's3://lord-duckdb/bi/dimensao_aeronave_fase_operacao.csv';\n",
    "create view dimensao_aeronave_modelo                as select * from 's3://lord-duckdb/bi/dimensao_aeronave_modelo.csv';\n",
    "create view dimensao_aeronave_motor_quantidade      as select * from 's3://lord-duckdb/bi/dimensao_aeronave_motor_quantidade.csv';\n",
    "create view dimensao_aeronave_motor_tipo            as select * from 's3://lord-duckdb/bi/dimensao_aeronave_nivel_dano.csv';\n",
    "create view dimensao_aeronave_nivel_dano            as select * from 's3://lord-duckdb/bi/dimensao_aeronave_nivel_dano.csv';\n",
    "create view dimensao_aeronave_pais_fabricante       as select * from 's3://lord-duckdb/bi/dimensao_aeronave_pais_fabricante.csv';\n",
    "create view dimensao_aeronave_pais_registro         as select * from 's3://lord-duckdb/bi/dimensao_aeronave_pais_registro.csv';\n",
    "create view dimensao_aeronave_pmd                   as select * from 's3://lord-duckdb/bi/dimensao_aeronave_pmd.csv';\n",
    "create view dimensao_aeronave_registro_categoria    as select * from 's3://lord-duckdb/bi/dimensao_aeronave_registro_segmento.csv';\n",
    "create view dimensao_aeronave_registro_segmento     as select * from 's3://lord-duckdb/bi/dimensao_aeronave_registro_segmento.csv';\n",
    "create view dimensao_aeronave_tipo_icao             as select * from 's3://lord-duckdb/bi/dimensao_aeronave_tipo_operacao.csv';\n",
    "create view dimensao_aeronave_tipo_operacao         as select * from 's3://lord-duckdb/bi/dimensao_aeronave_tipo_operacao.csv';\n",
    "create view dimensao_aeronave_tipo_veiculo          as select * from 's3://lord-duckdb/bi/dimensao_aeronave_tipo_veiculo.csv';\n",
    "create view dimensao_aeronave_voo_destino           as select * from 's3://lord-duckdb/bi/dimensao_codigo_aeronave_motor_tipo.csv';\n",
    "create view dimensao_aeronave_voo_origem            as select * from 's3://lord-duckdb/bi/dimensao_codigo_aeronave_motor_tipo.csv';\n",
    "create view dimensao_codigo_aeronave_motor_tipo     as select * from 's3://lord-duckdb/bi/dimensao_codigo_aeronave_motor_tipo.csv';\n",
    "create view dimensao_divulgacao_relatorio_publicado as select * from 's3://lord-duckdb/bi/dimensao_divulgacao_relatorio_publicado.csv';\n",
    "create view dimensao_fator_area                     as select * from 's3://lord-duckdb/bi/dimensao_fator_area.csv';\n",
    "create view dimensao_fator_aspecto                  as select * from 's3://lord-duckdb/bi/dimensao_fator_aspecto.csv';\n",
    "create view dimensao_fator_condicionante            as select * from 's3://lord-duckdb/bi/dimensao_fator_condicionante.csv';\n",
    "create view dimensao_investigacao_aeronave_liberada as select * from 's3://lord-duckdb/bi/dimensao_investigacao_aeronave_liberada.csv';\n",
    "create view dimensao_investigacao_status            as select * from 's3://lord-duckdb/bi/dimensao_investigacao_status.csv';\n",
    "create view dimensao_ocorrencia_aerodromo           as select * from 's3://lord-duckdb/bi/dimensao_ocorrencia_aerodromo.csv';\n",
    "create view dimensao_ocorrencia_cidade              as select * from 's3://lord-duckdb/bi/dimensao_ocorrencia_pais.csv';\n",
    "create view dimensao_ocorrencia_pais                as select * from 's3://lord-duckdb/bi/dimensao_ocorrencia_pais.csv';\n",
    "create view dimensao_ocorrencia_saida_pista         as select * from 's3://lord-duckdb/bi/dimensao_ocorrencia_saida_pista.csv';\n",
    "create view dimensao_ocorrencia_uf                  as select * from 's3://lord-duckdb/bi/dimensao_ocorrencia_uf.csv';\n",
    "create view dimension_ocorrencia_tipo               as select * from 's3://lord-duckdb/bi/dimension_ocorrencia_tipo.csv';\n",
    "create view dimension_ocorrencia_tipo_categoria     as select * from 's3://lord-duckdb/bi/dimension_ocorrencia_tipo_categoria.csv';\n"
   ]
  },
  {
   "cell_type": "code",
   "execution_count": 32,
   "metadata": {},
   "outputs": [
    {
     "data": {
      "text/html": [
       "<span style=\"None\">Running query in &#x27;duckdb&#x27;</span>"
      ],
      "text/plain": [
       "Running query in 'duckdb'"
      ]
     },
     "metadata": {},
     "output_type": "display_data"
    },
    {
     "data": {
      "text/html": [
       "<table>\n",
       "    <thead>\n",
       "        <tr>\n",
       "            <th>name</th>\n",
       "        </tr>\n",
       "    </thead>\n",
       "    <tbody>\n",
       "        <tr>\n",
       "            <td>dimensao_aeronave_ano_fabricacao</td>\n",
       "        </tr>\n",
       "        <tr>\n",
       "            <td>dimensao_aeronave_assentos</td>\n",
       "        </tr>\n",
       "        <tr>\n",
       "            <td>dimensao_aeronave_fase_operacao</td>\n",
       "        </tr>\n",
       "        <tr>\n",
       "            <td>dimensao_aeronave_modelo</td>\n",
       "        </tr>\n",
       "        <tr>\n",
       "            <td>dimensao_aeronave_motor_quantidade</td>\n",
       "        </tr>\n",
       "        <tr>\n",
       "            <td>dimensao_aeronave_motor_tipo</td>\n",
       "        </tr>\n",
       "        <tr>\n",
       "            <td>dimensao_aeronave_nivel_dano</td>\n",
       "        </tr>\n",
       "        <tr>\n",
       "            <td>dimensao_aeronave_pais_fabricante</td>\n",
       "        </tr>\n",
       "        <tr>\n",
       "            <td>dimensao_aeronave_pais_registro</td>\n",
       "        </tr>\n",
       "        <tr>\n",
       "            <td>dimensao_aeronave_pmd</td>\n",
       "        </tr>\n",
       "    </tbody>\n",
       "</table>\n",
       "<span style=\"font-style:italic;text-align:center;\">Truncated to <a href=\"https://jupysql.ploomber.io/en/latest/api/configuration.html#displaylimit\">displaylimit</a> of 10.</span>"
      ],
      "text/plain": [
       "+------------------------------------+\n",
       "|                name                |\n",
       "+------------------------------------+\n",
       "|  dimensao_aeronave_ano_fabricacao  |\n",
       "|     dimensao_aeronave_assentos     |\n",
       "|  dimensao_aeronave_fase_operacao   |\n",
       "|      dimensao_aeronave_modelo      |\n",
       "| dimensao_aeronave_motor_quantidade |\n",
       "|    dimensao_aeronave_motor_tipo    |\n",
       "|    dimensao_aeronave_nivel_dano    |\n",
       "| dimensao_aeronave_pais_fabricante  |\n",
       "|  dimensao_aeronave_pais_registro   |\n",
       "|       dimensao_aeronave_pmd        |\n",
       "+------------------------------------+\n",
       "Truncated to displaylimit of 10."
      ]
     },
     "execution_count": 32,
     "metadata": {},
     "output_type": "execute_result"
    }
   ],
   "source": [
    "%%sql \n",
    "\n",
    "show tables"
   ]
  }
 ],
 "metadata": {
  "kernelspec": {
   "display_name": "Python 3",
   "language": "python",
   "name": "python3"
  },
  "language_info": {
   "codemirror_mode": {
    "name": "ipython",
    "version": 3
   },
   "file_extension": ".py",
   "mimetype": "text/x-python",
   "name": "python",
   "nbconvert_exporter": "python",
   "pygments_lexer": "ipython3",
   "version": "3.10.13"
  }
 },
 "nbformat": 4,
 "nbformat_minor": 2
}
