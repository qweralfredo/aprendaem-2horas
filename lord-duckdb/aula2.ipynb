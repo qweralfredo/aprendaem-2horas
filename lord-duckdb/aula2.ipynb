{
 "cells": [
  {
   "cell_type": "markdown",
   "metadata": {},
   "source": [
    "## Aula 2 - Hello Duckdb\n",
    "\n",
    "* Instalando o pato! [Link Oficial](https://duckdb.org/docs/installation/index)\n",
    "    - Executável (duckdb.exe no windows ou ./duckdb no linux)"
   ]
  },
  {
   "cell_type": "code",
   "execution_count": null,
   "metadata": {},
   "outputs": [],
   "source": [
    "!pip install duckdb"
   ]
  },
  {
   "cell_type": "markdown",
   "metadata": {},
   "source": [
    "## Facilitando a vida com %dql\n",
    "\n",
    "* %dql é uma magic function que permite executar queries SQL diretamente no Jupyter Notebook\n",
    "    - Instalando a extensão do jupyter\n",
    "        - !pip install duckdb\n",
    "        - !pip install jupysql pandas duckdb-engine \n",
    "        - %pip install magic_duckdb --upgrade\n",
    "        - %load_ext magic_duckdb\n",
    "        - %config SqlMagic.autopandas = True (para retornar os resultados como dataframes pandas)\n",
    "\n"
   ]
  },
  {
   "cell_type": "code",
   "execution_count": 1,
   "metadata": {},
   "outputs": [
    {
     "name": "stdout",
     "output_type": "stream",
     "text": [
      "Defaulting to user installation because normal site-packages is not writeable\n",
      "Requirement already satisfied: duckdb in /home/qwer_alfredo/.local/lib/python3.10/site-packages (1.0.0)\n",
      "Defaulting to user installation because normal site-packages is not writeable\n",
      "Requirement already satisfied: jupysql in /home/qwer_alfredo/.local/lib/python3.10/site-packages (0.10.12)\n",
      "Requirement already satisfied: pandas in /home/qwer_alfredo/.local/lib/python3.10/site-packages (2.2.2)\n",
      "Requirement already satisfied: duckdb-engine in /home/qwer_alfredo/.local/lib/python3.10/site-packages (0.13.0)\n",
      "Requirement already satisfied: sqlglot>=11.3.7 in /home/qwer_alfredo/.local/lib/python3.10/site-packages (from jupysql) (25.6.1)\n",
      "Requirement already satisfied: ploomber-core>=0.2.7 in /home/qwer_alfredo/.local/lib/python3.10/site-packages (from jupysql) (0.2.25)\n",
      "Requirement already satisfied: jupysql-plugin>=0.4.2 in /home/qwer_alfredo/.local/lib/python3.10/site-packages (from jupysql) (0.4.4)\n",
      "Requirement already satisfied: ploomber-extension in /home/qwer_alfredo/.local/lib/python3.10/site-packages (from jupysql) (0.1.1)\n",
      "Requirement already satisfied: jinja2 in /usr/local/lib/python3.10/dist-packages (from jupysql) (3.1.4)\n",
      "Requirement already satisfied: sqlalchemy in /home/qwer_alfredo/.local/lib/python3.10/site-packages (from jupysql) (2.0.31)\n",
      "Requirement already satisfied: sqlparse in /usr/local/lib/python3.10/dist-packages (from jupysql) (0.5.0)\n",
      "Requirement already satisfied: prettytable in /home/qwer_alfredo/.local/lib/python3.10/site-packages (from jupysql) (3.10.2)\n",
      "Requirement already satisfied: ipython-genutils>=0.1.0 in /home/qwer_alfredo/.local/lib/python3.10/site-packages (from jupysql) (0.2.0)\n",
      "Requirement already satisfied: pytz>=2020.1 in /home/qwer_alfredo/.local/lib/python3.10/site-packages (from pandas) (2024.1)\n",
      "Requirement already satisfied: numpy>=1.22.4 in /usr/local/lib/python3.10/dist-packages (from pandas) (1.26.4)\n",
      "Requirement already satisfied: python-dateutil>=2.8.2 in /usr/local/lib/python3.10/dist-packages (from pandas) (2.9.0.post0)\n",
      "Requirement already satisfied: tzdata>=2022.7 in /home/qwer_alfredo/.local/lib/python3.10/site-packages (from pandas) (2024.1)\n",
      "Requirement already satisfied: duckdb>=0.5.0 in /home/qwer_alfredo/.local/lib/python3.10/site-packages (from duckdb-engine) (1.0.0)\n",
      "Requirement already satisfied: packaging>=21 in /usr/local/lib/python3.10/dist-packages (from duckdb-engine) (24.1)\n",
      "Requirement already satisfied: pyyaml in /usr/local/lib/python3.10/dist-packages (from ploomber-core>=0.2.7->jupysql) (6.0.1)\n",
      "Requirement already satisfied: posthog in /home/qwer_alfredo/.local/lib/python3.10/site-packages (from ploomber-core>=0.2.7->jupysql) (3.5.0)\n",
      "Requirement already satisfied: six>=1.5 in /usr/lib/python3/dist-packages (from python-dateutil>=2.8.2->pandas) (1.16.0)\n",
      "Requirement already satisfied: greenlet!=0.4.17 in /home/qwer_alfredo/.local/lib/python3.10/site-packages (from sqlalchemy->jupysql) (3.0.3)\n",
      "Requirement already satisfied: typing-extensions>=4.6.0 in /usr/local/lib/python3.10/dist-packages (from sqlalchemy->jupysql) (4.12.2)\n",
      "Requirement already satisfied: MarkupSafe>=2.0 in /usr/local/lib/python3.10/dist-packages (from jinja2->jupysql) (2.1.5)\n",
      "Requirement already satisfied: wcwidth in /usr/local/lib/python3.10/dist-packages (from prettytable->jupysql) (0.2.13)\n",
      "Requirement already satisfied: monotonic>=1.5 in /home/qwer_alfredo/.local/lib/python3.10/site-packages (from posthog->ploomber-core>=0.2.7->jupysql) (1.6)\n",
      "Requirement already satisfied: requests<3.0,>=2.7 in /usr/local/lib/python3.10/dist-packages (from posthog->ploomber-core>=0.2.7->jupysql) (2.32.3)\n",
      "Requirement already satisfied: backoff>=1.10.0 in /home/qwer_alfredo/.local/lib/python3.10/site-packages (from posthog->ploomber-core>=0.2.7->jupysql) (2.2.1)\n",
      "Requirement already satisfied: idna<4,>=2.5 in /usr/local/lib/python3.10/dist-packages (from requests<3.0,>=2.7->posthog->ploomber-core>=0.2.7->jupysql) (3.7)\n",
      "Requirement already satisfied: urllib3<3,>=1.21.1 in /usr/local/lib/python3.10/dist-packages (from requests<3.0,>=2.7->posthog->ploomber-core>=0.2.7->jupysql) (2.2.2)\n",
      "Requirement already satisfied: certifi>=2017.4.17 in /usr/local/lib/python3.10/dist-packages (from requests<3.0,>=2.7->posthog->ploomber-core>=0.2.7->jupysql) (2024.7.4)\n",
      "Requirement already satisfied: charset-normalizer<4,>=2 in /usr/local/lib/python3.10/dist-packages (from requests<3.0,>=2.7->posthog->ploomber-core>=0.2.7->jupysql) (3.3.2)\n",
      "Defaulting to user installation because normal site-packages is not writeable\n",
      "Requirement already satisfied: magic_duckdb in /home/qwer_alfredo/.local/lib/python3.10/site-packages (0.1.27)\n",
      "Requirement already satisfied: duckdb>=0.8.0 in /home/qwer_alfredo/.local/lib/python3.10/site-packages (from magic_duckdb) (1.0.0)\n",
      "Requirement already satisfied: pandas in /home/qwer_alfredo/.local/lib/python3.10/site-packages (from magic_duckdb) (2.2.2)\n",
      "Requirement already satisfied: tzdata>=2022.7 in /home/qwer_alfredo/.local/lib/python3.10/site-packages (from pandas->magic_duckdb) (2024.1)\n",
      "Requirement already satisfied: pytz>=2020.1 in /home/qwer_alfredo/.local/lib/python3.10/site-packages (from pandas->magic_duckdb) (2024.1)\n",
      "Requirement already satisfied: python-dateutil>=2.8.2 in /usr/local/lib/python3.10/dist-packages (from pandas->magic_duckdb) (2.9.0.post0)\n",
      "Requirement already satisfied: numpy>=1.22.4 in /usr/local/lib/python3.10/dist-packages (from pandas->magic_duckdb) (1.26.4)\n",
      "Requirement already satisfied: six>=1.5 in /usr/lib/python3/dist-packages (from python-dateutil>=2.8.2->pandas->magic_duckdb) (1.16.0)\n",
      "Note: you may need to restart the kernel to use updated packages.\n"
     ]
    }
   ],
   "source": [
    "!pip install duckdb\n",
    "!pip install jupysql pandas duckdb-engine\n",
    "%pip install magic_duckdb --upgrade \n",
    "%load_ext magic_duckdb\n",
    "%config SqlMagic.autopandas = True"
   ]
  },
  {
   "cell_type": "code",
   "execution_count": 2,
   "metadata": {},
   "outputs": [
    {
     "data": {
      "text/html": [
       "<div>\n",
       "<style scoped>\n",
       "    .dataframe tbody tr th:only-of-type {\n",
       "        vertical-align: middle;\n",
       "    }\n",
       "\n",
       "    .dataframe tbody tr th {\n",
       "        vertical-align: top;\n",
       "    }\n",
       "\n",
       "    .dataframe thead th {\n",
       "        text-align: right;\n",
       "    }\n",
       "</style>\n",
       "<table border=\"1\" class=\"dataframe\">\n",
       "  <thead>\n",
       "    <tr style=\"text-align: right;\">\n",
       "      <th></th>\n",
       "      <th>a</th>\n",
       "      <th>b</th>\n",
       "    </tr>\n",
       "  </thead>\n",
       "  <tbody>\n",
       "    <tr>\n",
       "      <th>0</th>\n",
       "      <td>1</td>\n",
       "      <td>a</td>\n",
       "    </tr>\n",
       "    <tr>\n",
       "      <th>1</th>\n",
       "      <td>2</td>\n",
       "      <td>b</td>\n",
       "    </tr>\n",
       "  </tbody>\n",
       "</table>\n",
       "</div>"
      ],
      "text/plain": [
       "   a  b\n",
       "0  1  a\n",
       "1  2  b"
      ]
     },
     "execution_count": 2,
     "metadata": {},
     "output_type": "execute_result"
    }
   ],
   "source": [
    "%dql select  * from  (values (1, 'a'), (2, 'b')) as t(a, b);"
   ]
  },
  {
   "cell_type": "markdown",
   "metadata": {},
   "source": [
    "## Execução do Duckdb\n",
    "\n",
    "- Exemplo no Linux \n",
    "    - ./duckdb \n",
    "\n",
    "- Exemplo no windows\n",
    "    - duckdb.exe\n",
    "\n",
    "- Abrindo ou criando um banco de dados\n",
    "    - ./duckdb nomedobanco.duckdb\n",
    "\n",
    "- Abrindo ou criando um banco no python\n",
    "    - import duckdb\n",
    "    - cnn = duckdb.connect(database='nomedobanco.duckdb')\n",
    "\n",
    "### Obs: Quando não há nome do banco de dados, o pato irá rodar na memória"
   ]
  },
  {
   "cell_type": "markdown",
   "metadata": {},
   "source": [
    "``` ./duckdb"
   ]
  },
  {
   "cell_type": "markdown",
   "metadata": {},
   "source": [
    "``` ./duckdb ou duckdb.exe"
   ]
  }
 ],
 "metadata": {
  "kernelspec": {
   "display_name": "Python 3",
   "language": "python",
   "name": "python3"
  },
  "language_info": {
   "codemirror_mode": {
    "name": "ipython",
    "version": 3
   },
   "file_extension": ".py",
   "mimetype": "text/x-python",
   "name": "python",
   "nbconvert_exporter": "python",
   "pygments_lexer": "ipython3",
   "version": "3.10.12"
  }
 },
 "nbformat": 4,
 "nbformat_minor": 2
}
