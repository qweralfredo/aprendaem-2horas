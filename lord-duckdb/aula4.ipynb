{
 "cells": [
  {
   "cell_type": "markdown",
   "metadata": {},
   "source": [
    "## Extensões na Prática\n",
    "\n",
    "- O que são extensões?\n",
    "- Documentação [https://duckdb.org/docs/extensions/overview.html](https://duckdb.org/docs/extensions/overview.html)\n",
    "- Oficiais [https://duckdb.org/docs/extensions/official_extensions](https://duckdb.org/docs/extensions/official_extensions)\n",
    "- Hands On"
   ]
  },
  {
   "cell_type": "code",
   "execution_count": null,
   "metadata": {},
   "outputs": [],
   "source": [
    "!pip install duckdb --quiet\n",
    "!pip install pandas --quiet "
   ]
  },
  {
   "cell_type": "code",
   "execution_count": null,
   "metadata": {},
   "outputs": [],
   "source": [
    "!pip install magic_duckdb jupysql \n",
    "%load_ext magic_duckdb\n",
    "%config SqlMagic.autopandas = True"
   ]
  },
  {
   "cell_type": "code",
   "execution_count": null,
   "metadata": {},
   "outputs": [],
   "source": [
    "%dql select  * from  (values (1, 'a'), (2, 'b')) as t(a, b);"
   ]
  },
  {
   "cell_type": "code",
   "execution_count": null,
   "metadata": {},
   "outputs": [],
   "source": [
    "%%time \n",
    "import duckdb\n",
    "con = duckdb.connect(database=':memory:', read_only=False)\n",
    "query = con.execute(\"SELECT *  FROM nyc_table limit 10  \").fetch_arrow_table()\n",
    "query.to_pandas()"
   ]
  },
  {
   "cell_type": "code",
   "execution_count": null,
   "metadata": {},
   "outputs": [],
   "source": [
    "#autocompleteno cli "
   ]
  },
  {
   "cell_type": "markdown",
   "metadata": {},
   "source": [
    "## AWS \n",
    "\n",
    "- INSTALL aws;\n",
    "- INSTALL httpfs;\n",
    "- LOAD aws;\n",
    "- LOAD httpfs;\n",
    "    - [Referência](https://duckdb.org/docs/extensions/httpfs/s3api.html)"
   ]
  },
  {
   "cell_type": "code",
   "execution_count": null,
   "metadata": {},
   "outputs": [],
   "source": [
    "%%dql\n",
    "\n",
    "CREATE SECRET secretGCP (\n",
    "    TYPE GCS,\n",
    "    KEY_ID 'GOO****7F5',\n",
    "    SECRET '*****'\n",
    ");\n",
    "\n",
    "SELECT * FROM read_parquet('gcs://lance-db/teste.parquet');"
   ]
  },
  {
   "cell_type": "code",
   "execution_count": null,
   "metadata": {},
   "outputs": [],
   "source": [
    "%%dql\n",
    "\n",
    "SELECT * FROM read_parquet('gcs://lance-db/teste.parquet');"
   ]
  },
  {
   "cell_type": "markdown",
   "metadata": {},
   "source": [
    "## httpfs \n",
    "- INSTALL httpfs;\n",
    "- LOAD httpfs;"
   ]
  },
  {
   "cell_type": "code",
   "execution_count": null,
   "metadata": {},
   "outputs": [],
   "source": [
    "%dql\n",
    "\n",
    "select * from 'https://d37ci6vzurychx.cloudfront.net/trip-data/yellow_tripdata_2024-01.parquet' limit 10;\n",
    "\n",
    "SELECT * FROM read_parquet(['https://d37ci6vzurychx.cloudfront.net/trip-data/green_tripdata_2024-02.parquet','https://d37ci6vzurychx.cloudfront.net/trip-data/green_tripdata_2024-01.parquet']);"
   ]
  },
  {
   "cell_type": "markdown",
   "metadata": {},
   "source": [
    "## Azure\n",
    "- [Referência](https://duckdb.org/docs/extensions/azure)\n"
   ]
  },
  {
   "cell_type": "code",
   "execution_count": null,
   "metadata": {},
   "outputs": [],
   "source": [
    "%dql\n",
    "INSTALL azure;\n",
    "LOAD azure;\n",
    "\n",
    "CREATE SECRET secret1 (\n",
    "    TYPE AZURE,\n",
    "    CONNECTION_STRING '⟨value⟩'\n",
    ");\n",
    "\n",
    "\n",
    "SELECT count(*)\n",
    "FROM 'az://⟨my_container⟩/⟨path⟩/⟨my_file⟩.⟨parquet_or_csv⟩';\n",
    "\n",
    "\n",
    "SELECT count(*)\n",
    "FROM 'az://⟨my_storage_account⟩.blob.core.windows.net/⟨my_container⟩/⟨path⟩/⟨my_file⟩.⟨parquet_or_csv⟩';\n",
    "\n",
    "\n",
    "SELECT count(*)\n",
    "FROM 'abfss://⟨my_filesystem⟩/⟨path⟩/⟨my_file⟩.⟨parquet_or_csv⟩';\n",
    "\n",
    "SELECT count(*)\n",
    "FROM 'abfss://⟨my_filesystem⟩/⟨path⟩/⟨my_file⟩.⟨parquet_or_csv⟩';\n",
    "\n",
    "\n"
   ]
  },
  {
   "cell_type": "markdown",
   "metadata": {},
   "source": [
    "## Delta\n",
    "\n",
    "- [Referência](https://duckdb.org/docs/extensions/delta)\n",
    "- Nativo a partir da versão 1.0"
   ]
  },
  {
   "cell_type": "code",
   "execution_count": null,
   "metadata": {},
   "outputs": [],
   "source": [
    "!pip install deltalake --quiet\n",
    "!pip install pyarrow --quiet\n",
    "!pip install pandas --quiet\n",
    "!pip install duckdb --quiet"
   ]
  },
  {
   "cell_type": "code",
   "execution_count": null,
   "metadata": {},
   "outputs": [],
   "source": [
    "\n",
    "import pandas as pd\n",
    "from deltalake import DeltaTable, write_deltalake\n",
    "from pyarrow import dataset as ds\n",
    "import duckdb\n",
    "acsv = ds.dataset('data/aula4/yellow_tripdata_2017-01.parquet')\n",
    "working_columns = [\"VendorID\",\"tpep_pickup_datetime\",\"tpep_dropoff_datetime\",\"passenger_count\",\"trip_distance\",\"RatecodeID\",\"store_and_fwd_flag\",\"PULocationID\",\"DOLocationID\",\"payment_type\",\"fare_amount\",\"extra\",\"mta_tax\",\"tip_amount\",\"tolls_amount\",\"improvement_surcharge\",\"total_amount\",\"congestion_surcharge\",\"airport_fee\"]\n",
    "dataset_scanner = acsv.scanner(columns=working_columns)\n",
    "nyc_table = dataset_scanner.to_table()\n",
    "\n",
    "con = duckdb.connect()\n",
    "query = con.execute(\"SELECT *  FROM nyc_table limit 10  \")\n",
    "df = query.df()\n",
    "\n",
    "write_deltalake('data/aula4/delta', df, mode='overwrite')\n",
    "\n"
   ]
  },
  {
   "cell_type": "code",
   "execution_count": null,
   "metadata": {},
   "outputs": [],
   "source": [
    "con.execute(\"INSTALL delta; \")\n",
    "con.execute(\"LOAD delta; \")\n",
    "query = con.execute(\"SELECT * FROM delta_scan('data/aula4/delta') ORDER BY 1; \")\n",
    "df = query.df()\n",
    "df"
   ]
  },
  {
   "cell_type": "markdown",
   "metadata": {},
   "source": [
    "## Spatial\n",
    "\n",
    "    - [Kepler](https://kepler.gl/demo)"
   ]
  },
  {
   "cell_type": "code",
   "execution_count": null,
   "metadata": {},
   "outputs": [],
   "source": [
    "#install duckdb version 0.10\n",
    "!pip install duckdb --quiet\n",
    "!pip install geopandas --quiet \n",
    "!pip install mapclassify --quiet "
   ]
  },
  {
   "cell_type": "code",
   "execution_count": null,
   "metadata": {},
   "outputs": [],
   "source": [
    "\n",
    "import duckdb\n",
    "import geopandas as gpd\n",
    "import pandas as pd "
   ]
  },
  {
   "cell_type": "code",
   "execution_count": null,
   "metadata": {},
   "outputs": [],
   "source": [
    "con = duckdb.connect()\n",
    "con.execute(\"INSTALL spatial;\")\n",
    "con.execute(\"LOAD spatial;\")  "
   ]
  },
  {
   "cell_type": "code",
   "execution_count": null,
   "metadata": {},
   "outputs": [],
   "source": [
    "\n",
    "con.execute(\" copy (    SELECT  ST_GeomFromWKB(geometry) as  geometry, * exclude geometry  FROM 'data/aula4/spatial/cities.parquet' where country = 'UGA'  ) TO 'data/aula4/spatial/uga.geojson' WITH (FORMAT GDAL, DRIVER 'GeoJSON')  \")\n",
    "con.execute(\" copy (    SELECT  ST_GeomFromWKB(geometry) as  geometry, * exclude geometry  FROM 'data/aula4/spatial/cities.parquet' where country = 'BRA'  ) TO 'data/aula4/spatial/bra.geojson' WITH (FORMAT GDAL, DRIVER 'GeoJSON')  \")"
   ]
  },
  {
   "cell_type": "code",
   "execution_count": null,
   "metadata": {},
   "outputs": [],
   "source": [
    "gpd.read_file('data/aula4/spatial/bra.geojson').explore()"
   ]
  },
  {
   "cell_type": "code",
   "execution_count": null,
   "metadata": {},
   "outputs": [],
   "source": [
    "gpd.read_file('data/aula4/spatial/uga.geojson').explore()"
   ]
  },
  {
   "cell_type": "markdown",
   "metadata": {},
   "source": [
    "## Full Text Search (FTS )\n",
    "    - create_fts_index\n",
    "    - schema com sufixo da tabela é criado Ex: fts_main_[nome da tabela]\n",
    "    - Alteração de colunas = Manutenção do index (recriação do index :( )"
   ]
  },
  {
   "cell_type": "code",
   "execution_count": null,
   "metadata": {},
   "outputs": [],
   "source": [
    "#create a table livros in duckdb \n",
    "con.execute(\"CREATE TABLE livros (id INTEGER, titulo VARCHAR, autor VARCHAR, descricao VARCHAR);\")"
   ]
  },
  {
   "cell_type": "code",
   "execution_count": null,
   "metadata": {},
   "outputs": [],
   "source": [
    "!pip install faker --quiet"
   ]
  },
  {
   "cell_type": "code",
   "execution_count": null,
   "metadata": {},
   "outputs": [],
   "source": [
    "from faker import Faker\n",
    "\n",
    "\n",
    "fake = Faker()\n",
    "\n",
    "# Generate fake data\n",
    "data = []\n",
    "for _ in range(1000):\n",
    "    id = fake.random_int(min=1, max=1000)\n",
    "    titulo = fake.sentence(nb_words=5)\n",
    "    autor = fake.name()\n",
    "    descricao = fake.paragraph()\n",
    "    data.append((id, titulo, autor, descricao))\n",
    "\n",
    "# Insert data into the table\n",
    "with con.cursor() as cursor:\n",
    "    cursor.executemany(\"INSERT INTO livros (id, titulo, autor, descricao) VALUES (?, ?, ?, ?)\", data)\n",
    "con.commit()\n"
   ]
  },
  {
   "cell_type": "code",
   "execution_count": null,
   "metadata": {},
   "outputs": [],
   "source": [
    "con.execute(\"SELECT * FROM livros\").df()"
   ]
  },
  {
   "cell_type": "code",
   "execution_count": null,
   "metadata": {},
   "outputs": [],
   "source": [
    "con.execute('''PRAGMA create_fts_index(\n",
    "    'livros', 'id', 'titulo', 'autor', 'descricao'\n",
    ");''')"
   ]
  },
  {
   "cell_type": "code",
   "execution_count": null,
   "metadata": {},
   "outputs": [],
   "source": [
    "con.execute(\"INSTALL fts;\")\n",
    "con.execute(\"LOAD fts;\") \n",
    "\n",
    "con.execute('''  SELECT *\n",
    "FROM (\n",
    "    SELECT *, fts_main_livros.match_bm25(\n",
    "        id,\n",
    "        'Party',\n",
    "        fields := 'titulo'\n",
    "    ) AS score\n",
    "    FROM livros\n",
    ") sq\n",
    "WHERE score IS NOT NULL \n",
    "ORDER BY score DESC;   ''').df()"
   ]
  },
  {
   "cell_type": "code",
   "execution_count": null,
   "metadata": {},
   "outputs": [],
   "source": [
    "con.execute(''' SELECT *\n",
    "FROM (\n",
    "    SELECT *, fts_main_livros.match_bm25(\n",
    "        id,\n",
    "        'strong politics'\n",
    "    ) AS score\n",
    "    FROM livros\n",
    ") sq\n",
    "WHERE score IS NOT NULL\n",
    "ORDER BY score DESC; ''').df()"
   ]
  },
  {
   "cell_type": "markdown",
   "metadata": {},
   "source": [
    "## Iceberg\n",
    "\n",
    "    - [Referência](https://iceberg.apache.org/)\n",
    "    - [Extensão](https://duckdb.org/docs/extensions/iceberg.html)\n",
    "    - Somente Leitura no Duckdb (v.1.0.0)"
   ]
  },
  {
   "cell_type": "code",
   "execution_count": null,
   "metadata": {},
   "outputs": [],
   "source": [
    "!wget https://duckdb.org/data/iceberg_data.zip\n",
    "!unzip iceberg_data.zip\n",
    "!rm -f iceberg_data.zip\n",
    "!cp -r iceberg_data data/aula4/iceberg_data"
   ]
  },
  {
   "cell_type": "code",
   "execution_count": null,
   "metadata": {},
   "outputs": [],
   "source": [
    "import duckdb\n",
    "con = duckdb.connect()\n",
    "con.execute(\"INSTALL iceberg;\")\n",
    "con.execute(\"LOAD iceberg;\")\n",
    "%load_ext sql\n",
    "conn = duckdb.connect()\n",
    "%sql conn --alias duckdb"
   ]
  },
  {
   "cell_type": "code",
   "execution_count": null,
   "metadata": {},
   "outputs": [],
   "source": [
    "%%sql \n",
    "install iceberg;\n",
    "load iceberg;\n",
    "SELECT * FROM iceberg_scan('data/aula4/iceberg/lineitem_iceberg', allow_moved_paths = true);"
   ]
  },
  {
   "cell_type": "markdown",
   "metadata": {},
   "source": [
    "## Postgres"
   ]
  },
  {
   "cell_type": "code",
   "execution_count": 1,
   "metadata": {},
   "outputs": [],
   "source": [
    "import duckdb\n",
    "con = duckdb.connect() \n",
    "%load_ext sql\n",
    "conn = duckdb.connect()\n",
    "%sql conn --alias duckdb"
   ]
  },
  {
   "cell_type": "code",
   "execution_count": 2,
   "metadata": {},
   "outputs": [
    {
     "data": {
      "text/html": [
       "<span style=\"None\">Running query in &#x27;duckdb&#x27;</span>"
      ],
      "text/plain": [
       "Running query in 'duckdb'"
      ]
     },
     "metadata": {},
     "output_type": "display_data"
    },
    {
     "data": {
      "text/html": [
       "<table>\n",
       "    <thead>\n",
       "        <tr>\n",
       "            <th>Success</th>\n",
       "        </tr>\n",
       "    </thead>\n",
       "    <tbody>\n",
       "    </tbody>\n",
       "</table>"
      ],
      "text/plain": [
       "+---------+\n",
       "| Success |\n",
       "+---------+\n",
       "+---------+"
      ]
     },
     "execution_count": 2,
     "metadata": {},
     "output_type": "execute_result"
    }
   ],
   "source": [
    "%%sql \n",
    "\n",
    "INSTALL postgres;\n",
    "LOAD postgres;\n",
    "ATTACH 'dbname=postgres user=lord password=postgres123 host=127.0.0.1' AS db (TYPE POSTGRES);"
   ]
  },
  {
   "cell_type": "code",
   "execution_count": 16,
   "metadata": {},
   "outputs": [
    {
     "data": {
      "text/html": [
       "<span style=\"None\">Running query in &#x27;duckdb&#x27;</span>"
      ],
      "text/plain": [
       "Running query in 'duckdb'"
      ]
     },
     "metadata": {},
     "output_type": "display_data"
    },
    {
     "data": {
      "text/html": [
       "<table>\n",
       "    <thead>\n",
       "        <tr>\n",
       "            <th>database</th>\n",
       "            <th>schema</th>\n",
       "            <th>name</th>\n",
       "            <th>column_names</th>\n",
       "            <th>column_types</th>\n",
       "            <th>temporary</th>\n",
       "        </tr>\n",
       "    </thead>\n",
       "    <tbody>\n",
       "        <tr>\n",
       "            <td>db</td>\n",
       "            <td>public</td>\n",
       "            <td>cities</td>\n",
       "            <td>['id', 'name', 'country', 'latitude', 'longitude', 'population']</td>\n",
       "            <td>['INTEGER', 'VARCHAR', 'VARCHAR', 'DOUBLE', 'DOUBLE', 'INTEGER']</td>\n",
       "            <td>False</td>\n",
       "        </tr>\n",
       "    </tbody>\n",
       "</table>"
      ],
      "text/plain": [
       "+----------+--------+--------+------------------------------------------------------------------+------------------------------------------------------------------+-----------+\n",
       "| database | schema |  name  |                           column_names                           |                           column_types                           | temporary |\n",
       "+----------+--------+--------+------------------------------------------------------------------+------------------------------------------------------------------+-----------+\n",
       "|    db    | public | cities | ['id', 'name', 'country', 'latitude', 'longitude', 'population'] | ['INTEGER', 'VARCHAR', 'VARCHAR', 'DOUBLE', 'DOUBLE', 'INTEGER'] |   False   |\n",
       "+----------+--------+--------+------------------------------------------------------------------+------------------------------------------------------------------+-----------+"
      ]
     },
     "execution_count": 16,
     "metadata": {},
     "output_type": "execute_result"
    }
   ],
   "source": [
    "%%sql \n",
    "SHOW ALL TABLES;\n"
   ]
  },
  {
   "cell_type": "code",
   "execution_count": null,
   "metadata": {},
   "outputs": [],
   "source": [
    "%%sql \n",
    "\n",
    "from 'data/aula4/spatial/cities.csv'  ;"
   ]
  },
  {
   "cell_type": "code",
   "execution_count": 6,
   "metadata": {
    "vscode": {
     "languageId": "sql"
    }
   },
   "outputs": [
    {
     "data": {
      "text/html": [
       "<span style=\"None\">Running query in &#x27;duckdb&#x27;</span>"
      ],
      "text/plain": [
       "Running query in 'duckdb'"
      ]
     },
     "metadata": {},
     "output_type": "display_data"
    },
    {
     "data": {
      "text/html": [
       "<table>\n",
       "    <thead>\n",
       "        <tr>\n",
       "            <th>Success</th>\n",
       "        </tr>\n",
       "    </thead>\n",
       "    <tbody>\n",
       "    </tbody>\n",
       "</table>"
      ],
      "text/plain": [
       "+---------+\n",
       "| Success |\n",
       "+---------+\n",
       "+---------+"
      ]
     },
     "execution_count": 6,
     "metadata": {},
     "output_type": "execute_result"
    }
   ],
   "source": [
    "%%sql\n",
    "\n",
    "CALL postgres_execute('db', 'CREATE TABLE cities (\n",
    "    id SERIAL PRIMARY KEY,\n",
    "    name VARCHAR(255),\n",
    "    country VARCHAR(255),\n",
    "    latitude FLOAT,\n",
    "    longitude FLOAT,\n",
    "    population INTEGER\n",
    ");');\n",
    "\n"
   ]
  },
  {
   "cell_type": "code",
   "execution_count": 14,
   "metadata": {
    "vscode": {
     "languageId": "sql"
    }
   },
   "outputs": [
    {
     "data": {
      "text/html": [
       "<span style=\"None\">Running query in &#x27;duckdb&#x27;</span>"
      ],
      "text/plain": [
       "Running query in 'duckdb'"
      ]
     },
     "metadata": {},
     "output_type": "display_data"
    },
    {
     "data": {
      "text/html": [
       "<table>\n",
       "    <thead>\n",
       "        <tr>\n",
       "            <th>Count</th>\n",
       "        </tr>\n",
       "    </thead>\n",
       "    <tbody>\n",
       "        <tr>\n",
       "            <td>1249</td>\n",
       "        </tr>\n",
       "    </tbody>\n",
       "</table>"
      ],
      "text/plain": [
       "+-------+\n",
       "| Count |\n",
       "+-------+\n",
       "|  1249 |\n",
       "+-------+"
      ]
     },
     "execution_count": 14,
     "metadata": {},
     "output_type": "execute_result"
    }
   ],
   "source": [
    "%%sql\n",
    "\n",
    "copy db.cities FROM  'data/aula4/spatial/cities.csv';"
   ]
  },
  {
   "cell_type": "code",
   "execution_count": 15,
   "metadata": {
    "vscode": {
     "languageId": "sql"
    }
   },
   "outputs": [
    {
     "data": {
      "text/html": [
       "<span style=\"None\">Running query in &#x27;duckdb&#x27;</span>"
      ],
      "text/plain": [
       "Running query in 'duckdb'"
      ]
     },
     "metadata": {},
     "output_type": "display_data"
    },
    {
     "data": {
      "text/html": [
       "<table>\n",
       "    <thead>\n",
       "        <tr>\n",
       "            <th>id</th>\n",
       "            <th>name</th>\n",
       "            <th>country</th>\n",
       "            <th>latitude</th>\n",
       "            <th>longitude</th>\n",
       "            <th>population</th>\n",
       "        </tr>\n",
       "    </thead>\n",
       "    <tbody>\n",
       "        <tr>\n",
       "            <td>1</td>\n",
       "            <td>Bombo</td>\n",
       "            <td>UGA</td>\n",
       "            <td>0.5833</td>\n",
       "            <td>32.5333</td>\n",
       "            <td>75000</td>\n",
       "        </tr>\n",
       "        <tr>\n",
       "            <td>2</td>\n",
       "            <td>Fort Portal</td>\n",
       "            <td>UGA</td>\n",
       "            <td>0.671</td>\n",
       "            <td>30.275</td>\n",
       "            <td>42670</td>\n",
       "        </tr>\n",
       "        <tr>\n",
       "            <td>3</td>\n",
       "            <td>Potenza</td>\n",
       "            <td>ITA</td>\n",
       "            <td>40.642</td>\n",
       "            <td>15.799</td>\n",
       "            <td>69060</td>\n",
       "        </tr>\n",
       "        <tr>\n",
       "            <td>4</td>\n",
       "            <td>Campobasso</td>\n",
       "            <td>ITA</td>\n",
       "            <td>41.563</td>\n",
       "            <td>14.656</td>\n",
       "            <td>50762</td>\n",
       "        </tr>\n",
       "        <tr>\n",
       "            <td>5</td>\n",
       "            <td>Aosta</td>\n",
       "            <td>ITA</td>\n",
       "            <td>45.737</td>\n",
       "            <td>7.315</td>\n",
       "            <td>34062</td>\n",
       "        </tr>\n",
       "        <tr>\n",
       "            <td>6</td>\n",
       "            <td>Mariehamn</td>\n",
       "            <td>ALD</td>\n",
       "            <td>60.097</td>\n",
       "            <td>19.949</td>\n",
       "            <td>10682</td>\n",
       "        </tr>\n",
       "        <tr>\n",
       "            <td>7</td>\n",
       "            <td>Ramallah</td>\n",
       "            <td>PSE</td>\n",
       "            <td>31.90294</td>\n",
       "            <td>35.20621</td>\n",
       "            <td>24599</td>\n",
       "        </tr>\n",
       "        <tr>\n",
       "            <td>8</td>\n",
       "            <td>Vatican City</td>\n",
       "            <td>VAT</td>\n",
       "            <td>41.90001</td>\n",
       "            <td>12.44781</td>\n",
       "            <td>832</td>\n",
       "        </tr>\n",
       "        <tr>\n",
       "            <td>9</td>\n",
       "            <td>Poitier</td>\n",
       "            <td>FRA</td>\n",
       "            <td>46.58329</td>\n",
       "            <td>0.33328</td>\n",
       "            <td>85960</td>\n",
       "        </tr>\n",
       "        <tr>\n",
       "            <td>10</td>\n",
       "            <td>Clermont-Ferrand</td>\n",
       "            <td>FRA</td>\n",
       "            <td>45.77998</td>\n",
       "            <td>3.08001</td>\n",
       "            <td>233050</td>\n",
       "        </tr>\n",
       "    </tbody>\n",
       "</table>\n",
       "<span style=\"font-style:italic;text-align:center;\">Truncated to <a href=\"https://jupysql.ploomber.io/en/latest/api/configuration.html#displaylimit\">displaylimit</a> of 10.</span>"
      ],
      "text/plain": [
       "+----+------------------+---------+----------+-----------+------------+\n",
       "| id |       name       | country | latitude | longitude | population |\n",
       "+----+------------------+---------+----------+-----------+------------+\n",
       "| 1  |      Bombo       |   UGA   |  0.5833  |  32.5333  |   75000    |\n",
       "| 2  |   Fort Portal    |   UGA   |  0.671   |   30.275  |   42670    |\n",
       "| 3  |     Potenza      |   ITA   |  40.642  |   15.799  |   69060    |\n",
       "| 4  |    Campobasso    |   ITA   |  41.563  |   14.656  |   50762    |\n",
       "| 5  |      Aosta       |   ITA   |  45.737  |   7.315   |   34062    |\n",
       "| 6  |    Mariehamn     |   ALD   |  60.097  |   19.949  |   10682    |\n",
       "| 7  |     Ramallah     |   PSE   | 31.90294 |  35.20621 |   24599    |\n",
       "| 8  |   Vatican City   |   VAT   | 41.90001 |  12.44781 |    832     |\n",
       "| 9  |     Poitier      |   FRA   | 46.58329 |  0.33328  |   85960    |\n",
       "| 10 | Clermont-Ferrand |   FRA   | 45.77998 |  3.08001  |   233050   |\n",
       "+----+------------------+---------+----------+-----------+------------+\n",
       "Truncated to displaylimit of 10."
      ]
     },
     "execution_count": 15,
     "metadata": {},
     "output_type": "execute_result"
    }
   ],
   "source": [
    "%%sql\n",
    "\n",
    "select * from db.cities;"
   ]
  },
  {
   "cell_type": "code",
   "execution_count": 17,
   "metadata": {},
   "outputs": [],
   "source": [
    "#mysql"
   ]
  },
  {
   "cell_type": "code",
   "execution_count": 19,
   "metadata": {},
   "outputs": [
    {
     "data": {
      "text/html": [
       "<span style=\"None\">Running query in &#x27;duckdb&#x27;</span>"
      ],
      "text/plain": [
       "Running query in 'duckdb'"
      ]
     },
     "metadata": {},
     "output_type": "display_data"
    },
    {
     "data": {
      "text/html": [
       "<table>\n",
       "    <thead>\n",
       "        <tr>\n",
       "            <th>Success</th>\n",
       "        </tr>\n",
       "    </thead>\n",
       "    <tbody>\n",
       "    </tbody>\n",
       "</table>"
      ],
      "text/plain": [
       "+---------+\n",
       "| Success |\n",
       "+---------+\n",
       "+---------+"
      ]
     },
     "execution_count": 19,
     "metadata": {},
     "output_type": "execute_result"
    }
   ],
   "source": [
    "%%sql\n",
    "INSTALL MYSQL;\n",
    "LOAD MYSQL;\n",
    "ATTACH 'host=localhost user=root   password=mysql123 database=lord_duckdb_mysql' AS mysqldb (TYPE MYSQL);\n",
    "USE mysqldb;"
   ]
  },
  {
   "cell_type": "code",
   "execution_count": 40,
   "metadata": {},
   "outputs": [
    {
     "data": {
      "text/html": [
       "<span style=\"None\">Running query in &#x27;duckdb&#x27;</span>"
      ],
      "text/plain": [
       "Running query in 'duckdb'"
      ]
     },
     "metadata": {},
     "output_type": "display_data"
    },
    {
     "data": {
      "text/html": [
       "<table>\n",
       "    <thead>\n",
       "        <tr>\n",
       "            <th>Success</th>\n",
       "        </tr>\n",
       "    </thead>\n",
       "    <tbody>\n",
       "    </tbody>\n",
       "</table>"
      ],
      "text/plain": [
       "+---------+\n",
       "| Success |\n",
       "+---------+\n",
       "+---------+"
      ]
     },
     "execution_count": 40,
     "metadata": {},
     "output_type": "execute_result"
    }
   ],
   "source": [
    "%%sql\n",
    "\n",
    "install spatial;\n",
    "load spatial;\n",
    " "
   ]
  },
  {
   "cell_type": "code",
   "execution_count": 27,
   "metadata": {},
   "outputs": [
    {
     "data": {
      "text/html": [
       "<span style=\"None\">Running query in &#x27;duckdb&#x27;</span>"
      ],
      "text/plain": [
       "Running query in 'duckdb'"
      ]
     },
     "metadata": {},
     "output_type": "display_data"
    },
    {
     "data": {
      "text/html": [
       "<table>\n",
       "    <thead>\n",
       "        <tr>\n",
       "            <th>Count</th>\n",
       "        </tr>\n",
       "    </thead>\n",
       "    <tbody>\n",
       "    </tbody>\n",
       "</table>"
      ],
      "text/plain": [
       "+-------+\n",
       "| Count |\n",
       "+-------+\n",
       "+-------+"
      ]
     },
     "execution_count": 27,
     "metadata": {},
     "output_type": "execute_result"
    }
   ],
   "source": [
    "%%sql\n",
    "\n",
    "CREATE TABLE mysqldb.cities (\n",
    "    id INT  PRIMARY KEY,\n",
    "    name VARCHAR(255),\n",
    "    country VARCHAR(255),\n",
    "    latitude FLOAT,\n",
    "    longitude FLOAT,\n",
    "    population INT\n",
    ");"
   ]
  },
  {
   "cell_type": "code",
   "execution_count": 39,
   "metadata": {},
   "outputs": [
    {
     "data": {
      "text/html": [
       "<span style=\"None\">Running query in &#x27;duckdb&#x27;</span>"
      ],
      "text/plain": [
       "Running query in 'duckdb'"
      ]
     },
     "metadata": {},
     "output_type": "display_data"
    },
    {
     "data": {
      "text/html": [
       "<table>\n",
       "    <thead>\n",
       "        <tr>\n",
       "            <th>Count</th>\n",
       "        </tr>\n",
       "    </thead>\n",
       "    <tbody>\n",
       "        <tr>\n",
       "            <td>10</td>\n",
       "        </tr>\n",
       "    </tbody>\n",
       "</table>"
      ],
      "text/plain": [
       "+-------+\n",
       "| Count |\n",
       "+-------+\n",
       "|   10  |\n",
       "+-------+"
      ]
     },
     "execution_count": 39,
     "metadata": {},
     "output_type": "execute_result"
    }
   ],
   "source": [
    "%%sql \n",
    "\n",
    "insert into mysqldb.cities select *\n",
    "  from ST_Read('data/aula4/spatial/cities.csv') where country = 'UGA' ;\n",
    "\n"
   ]
  },
  {
   "cell_type": "code",
   "execution_count": 41,
   "metadata": {},
   "outputs": [
    {
     "data": {
      "text/html": [
       "<span style=\"None\">Running query in &#x27;duckdb&#x27;</span>"
      ],
      "text/plain": [
       "Running query in 'duckdb'"
      ]
     },
     "metadata": {},
     "output_type": "display_data"
    },
    {
     "data": {
      "text/html": [
       "<table>\n",
       "    <thead>\n",
       "        <tr>\n",
       "            <th>id</th>\n",
       "            <th>name</th>\n",
       "            <th>country</th>\n",
       "            <th>latitude</th>\n",
       "            <th>longitude</th>\n",
       "            <th>population</th>\n",
       "        </tr>\n",
       "    </thead>\n",
       "    <tbody>\n",
       "        <tr>\n",
       "            <td>1</td>\n",
       "            <td>Bombo</td>\n",
       "            <td>UGA</td>\n",
       "            <td>0.583299994468689</td>\n",
       "            <td>32.53329849243164</td>\n",
       "            <td>75000</td>\n",
       "        </tr>\n",
       "        <tr>\n",
       "            <td>2</td>\n",
       "            <td>Fort Portal</td>\n",
       "            <td>UGA</td>\n",
       "            <td>0.6710000038146973</td>\n",
       "            <td>30.274999618530273</td>\n",
       "            <td>42670</td>\n",
       "        </tr>\n",
       "        <tr>\n",
       "            <td>14</td>\n",
       "            <td>Jinja</td>\n",
       "            <td>UGA</td>\n",
       "            <td>0.440420001745224</td>\n",
       "            <td>33.19990158081055</td>\n",
       "            <td>301619</td>\n",
       "        </tr>\n",
       "        <tr>\n",
       "            <td>15</td>\n",
       "            <td>Arua</td>\n",
       "            <td>UGA</td>\n",
       "            <td>3.0203700065612793</td>\n",
       "            <td>30.899999618530273</td>\n",
       "            <td>250000</td>\n",
       "        </tr>\n",
       "        <tr>\n",
       "            <td>16</td>\n",
       "            <td>Mbale</td>\n",
       "            <td>UGA</td>\n",
       "            <td>1.0904099941253662</td>\n",
       "            <td>34.16999816894531</td>\n",
       "            <td>402368</td>\n",
       "        </tr>\n",
       "        <tr>\n",
       "            <td>17</td>\n",
       "            <td>Moroto</td>\n",
       "            <td>UGA</td>\n",
       "            <td>2.5403499603271484</td>\n",
       "            <td>34.63999938964844</td>\n",
       "            <td>371</td>\n",
       "        </tr>\n",
       "        <tr>\n",
       "            <td>18</td>\n",
       "            <td>Masaka</td>\n",
       "            <td>UGA</td>\n",
       "            <td>-0.3296099901199341</td>\n",
       "            <td>31.729999542236328</td>\n",
       "            <td>65373</td>\n",
       "        </tr>\n",
       "        <tr>\n",
       "            <td>19</td>\n",
       "            <td>Mbarara</td>\n",
       "            <td>UGA</td>\n",
       "            <td>-0.59961998462677</td>\n",
       "            <td>30.649999618530273</td>\n",
       "            <td>83700</td>\n",
       "        </tr>\n",
       "        <tr>\n",
       "            <td>244</td>\n",
       "            <td>Gulu</td>\n",
       "            <td>UGA</td>\n",
       "            <td>2.7799999713897705</td>\n",
       "            <td>32.279998779296875</td>\n",
       "            <td>146858</td>\n",
       "        </tr>\n",
       "        <tr>\n",
       "            <td>786</td>\n",
       "            <td>Kampala</td>\n",
       "            <td>UGA</td>\n",
       "            <td>0.31665998697280884</td>\n",
       "            <td>32.58330154418945</td>\n",
       "            <td>1420000</td>\n",
       "        </tr>\n",
       "    </tbody>\n",
       "</table>\n",
       "<span style=\"font-style:italic;text-align:center;\">Truncated to <a href=\"https://jupysql.ploomber.io/en/latest/api/configuration.html#displaylimit\">displaylimit</a> of 10.</span>"
      ],
      "text/plain": [
       "+-----+-------------+---------+---------------------+--------------------+------------+\n",
       "|  id |     name    | country |       latitude      |     longitude      | population |\n",
       "+-----+-------------+---------+---------------------+--------------------+------------+\n",
       "|  1  |    Bombo    |   UGA   |  0.583299994468689  | 32.53329849243164  |   75000    |\n",
       "|  2  | Fort Portal |   UGA   |  0.6710000038146973 | 30.274999618530273 |   42670    |\n",
       "|  14 |    Jinja    |   UGA   |  0.440420001745224  | 33.19990158081055  |   301619   |\n",
       "|  15 |     Arua    |   UGA   |  3.0203700065612793 | 30.899999618530273 |   250000   |\n",
       "|  16 |    Mbale    |   UGA   |  1.0904099941253662 | 34.16999816894531  |   402368   |\n",
       "|  17 |    Moroto   |   UGA   |  2.5403499603271484 | 34.63999938964844  |    371     |\n",
       "|  18 |    Masaka   |   UGA   | -0.3296099901199341 | 31.729999542236328 |   65373    |\n",
       "|  19 |   Mbarara   |   UGA   |  -0.59961998462677  | 30.649999618530273 |   83700    |\n",
       "| 244 |     Gulu    |   UGA   |  2.7799999713897705 | 32.279998779296875 |   146858   |\n",
       "| 786 |   Kampala   |   UGA   | 0.31665998697280884 | 32.58330154418945  |  1420000   |\n",
       "+-----+-------------+---------+---------------------+--------------------+------------+\n",
       "Truncated to displaylimit of 10."
      ]
     },
     "execution_count": 41,
     "metadata": {},
     "output_type": "execute_result"
    }
   ],
   "source": [
    "%%sql\n",
    "\n",
    "from mysqldb.cities "
   ]
  }
 ],
 "metadata": {
  "kernelspec": {
   "display_name": "Python 3",
   "language": "python",
   "name": "python3"
  },
  "language_info": {
   "codemirror_mode": {
    "name": "ipython",
    "version": 3
   },
   "file_extension": ".py",
   "mimetype": "text/x-python",
   "name": "python",
   "nbconvert_exporter": "python",
   "pygments_lexer": "ipython3",
   "version": "3.10.13"
  }
 },
 "nbformat": 4,
 "nbformat_minor": 2
}
