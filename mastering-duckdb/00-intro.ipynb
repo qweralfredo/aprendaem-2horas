{
 "cells": [
  {
   "cell_type": "markdown",
   "metadata": {},
   "source": [
    "## Conhecendo o pato\n",
    "\n",
    "* DuckDB é um banco de dados SQL em memória, de alta performance, construído com foco em análises interativas.\n",
    "* Ele suporta a maioria dos comandos SQL e funções do SQLite e PostgreSQL.\n",
    "* O DuckDB é muito rápido para consultas de leitura, e é otimizado para executar consultas SQL em um ambiente de análise de dados.\n",
    "* Ele é uma excelente alternativa para quem deseja executar consultas SQL em um ambiente de desenvolvimento de dados.\n",
    "* DuckDB é uma excelente escolha para análises de dados em Python, R, Julia e outras linguagens de programação.\n",
    "* DuckDB é um banco de dados SQL de código aberto, que pode ser utilizado em ambientes de produção e em aplicações críticas.\n",
    "\n",
    "## Conhecendo o dataset\n",
    "\n",
    "* O dataset que iremos utilizar é o [IMDB 5000 Movie Dataset](https://www.kaggle.com/carolzhangdc/imdb-5000-movie-dataset)\n",
    "\n",
    "* Este dataset contém informações sobre 5000 filmes, incluindo o título, diretor, elenco, orçamento, receita, classificação, popularidade, gênero, idioma, país, etc.\n",
    "* Este conjunto de dados é perfeito para análises de dados, aprendizado de máquina e visualização de dados.\n",
    "\n",
    "## Acessando o dataset\n",
    "\n",
    "* O dataset está disponível no diretório /kaggle/input/imdb-5000-movie-dataset\n",
    "* Vamos carregar o dataset na tabela movies\n",
    "\n",
    "## Conhecendo a tabela movies\n",
    "\n",
    "* A tabela movies contém 28 colunas, incluindo:\n",
    "    - movie_title: título do filme\n",
    "    - director_name: nome"
   ]
  }
 ],
 "metadata": {
  "language_info": {
   "name": "python"
  }
 },
 "nbformat": 4,
 "nbformat_minor": 2
}
