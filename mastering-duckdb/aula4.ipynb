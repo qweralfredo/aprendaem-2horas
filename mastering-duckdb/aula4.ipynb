{
 "cells": [
  {
   "cell_type": "markdown",
   "metadata": {},
   "source": [
    "## Extensões na Prática\n",
    "\n",
    "- O que são extensões?\n",
    "- Documentação [https://duckdb.org/docs/extensions/overview.html](https://duckdb.org/docs/extensions/overview.html)\n",
    "- Oficiais [https://duckdb.org/docs/extensions/official_extensions](https://duckdb.org/docs/extensions/official_extensions)\n",
    "- Hands On"
   ]
  },
  {
   "cell_type": "code",
   "execution_count": null,
   "metadata": {},
   "outputs": [],
   "source": [
    "!pip install duckdb --quiet\n",
    "!pip install pandas --quiet\n",
    "!pip install pyarrow --quiet"
   ]
  },
  {
   "cell_type": "code",
   "execution_count": null,
   "metadata": {},
   "outputs": [],
   "source": [
    "!pip install magic_duckdb jupysql \n",
    "%load_ext magic_duckdb\n",
    "%config SqlMagic.autopandas = True"
   ]
  },
  {
   "cell_type": "code",
   "execution_count": null,
   "metadata": {},
   "outputs": [],
   "source": [
    "%dql select  * from  (values (1, 'a'), (2, 'b')) as t(a, b);"
   ]
  },
  {
   "cell_type": "code",
   "execution_count": null,
   "metadata": {},
   "outputs": [],
   "source": [
    "%%time\n",
    "import pandas as pd\n",
    "from pyarrow import dataset as ds\n",
    "acsv = ds.dataset('data/aula4/yellow_tripdata_2017-01.parquet')\n",
    "working_columns = [\"VendorID\",\"tpep_pickup_datetime\",\"tpep_dropoff_datetime\",\"passenger_count\",\"trip_distance\",\"RatecodeID\",\"store_and_fwd_flag\",\"PULocationID\",\"DOLocationID\",\"payment_type\",\"fare_amount\",\"extra\",\"mta_tax\",\"tip_amount\",\"tolls_amount\",\"improvement_surcharge\",\"total_amount\",\"congestion_surcharge\",\"airport_fee\"]\n",
    "dataset_scanner = acsv.scanner(columns=working_columns)\n",
    "nyc_table = dataset_scanner.to_table()"
   ]
  },
  {
   "cell_type": "code",
   "execution_count": null,
   "metadata": {},
   "outputs": [],
   "source": [
    "%%time \n",
    "import duckdb\n",
    "con = duckdb.connect(database=':memory:', read_only=False)\n",
    "query = con.execute(\"SELECT *  FROM nyc_table limit 10  \").fetch_arrow_table()\n",
    "query.to_pandas()"
   ]
  },
  {
   "cell_type": "code",
   "execution_count": null,
   "metadata": {},
   "outputs": [],
   "source": [
    "#autocompleteno cli "
   ]
  },
  {
   "cell_type": "markdown",
   "metadata": {},
   "source": [
    "## AWS \n",
    "\n",
    "- INSTALL aws;\n",
    "- INSTALL httpfs;\n",
    "- LOAD aws;\n",
    "- LOAD httpfs;\n",
    "    - [Referência](https://duckdb.org/docs/extensions/httpfs/s3api.html)"
   ]
  },
  {
   "cell_type": "code",
   "execution_count": null,
   "metadata": {},
   "outputs": [],
   "source": [
    "%%dql\n",
    "\n",
    "CREATE SECRET secretGCP (\n",
    "    TYPE GCS,\n",
    "    KEY_ID 'GOO****7F5',\n",
    "    SECRET '*****'\n",
    ");\n",
    "\n",
    "SELECT * FROM read_parquet('gcs://lance-db/teste.parquet');"
   ]
  },
  {
   "cell_type": "code",
   "execution_count": null,
   "metadata": {},
   "outputs": [],
   "source": [
    "%%dql\n",
    "\n",
    "SELECT * FROM read_parquet('gcs://lance-db/teste.parquet');"
   ]
  },
  {
   "cell_type": "markdown",
   "metadata": {},
   "source": [
    "## httpfs \n",
    "- INSTALL httpfs;\n",
    "- LOAD httpfs;"
   ]
  },
  {
   "cell_type": "code",
   "execution_count": null,
   "metadata": {},
   "outputs": [],
   "source": [
    "%dql\n",
    "\n",
    "select * from 'https://d37ci6vzurychx.cloudfront.net/trip-data/yellow_tripdata_2024-01.parquet' limit 10;\n",
    "\n",
    "SELECT * FROM read_parquet(['https://d37ci6vzurychx.cloudfront.net/trip-data/green_tripdata_2024-02.parquet','https://d37ci6vzurychx.cloudfront.net/trip-data/green_tripdata_2024-01.parquet']);"
   ]
  },
  {
   "cell_type": "markdown",
   "metadata": {},
   "source": [
    "## Azure\n",
    "- [Referência](https://duckdb.org/docs/extensions/azure)\n"
   ]
  },
  {
   "cell_type": "code",
   "execution_count": null,
   "metadata": {},
   "outputs": [],
   "source": [
    "%dql\n",
    "INSTALL azure;\n",
    "LOAD azure;\n",
    "\n",
    "CREATE SECRET secret1 (\n",
    "    TYPE AZURE,\n",
    "    CONNECTION_STRING '⟨value⟩'\n",
    ");\n",
    "\n",
    "\n",
    "SELECT count(*)\n",
    "FROM 'az://⟨my_container⟩/⟨path⟩/⟨my_file⟩.⟨parquet_or_csv⟩';\n",
    "\n",
    "\n",
    "SELECT count(*)\n",
    "FROM 'az://⟨my_storage_account⟩.blob.core.windows.net/⟨my_container⟩/⟨path⟩/⟨my_file⟩.⟨parquet_or_csv⟩';\n",
    "\n",
    "\n",
    "SELECT count(*)\n",
    "FROM 'abfss://⟨my_filesystem⟩/⟨path⟩/⟨my_file⟩.⟨parquet_or_csv⟩';\n",
    "\n",
    "SELECT count(*)\n",
    "FROM 'abfss://⟨my_filesystem⟩/⟨path⟩/⟨my_file⟩.⟨parquet_or_csv⟩';\n",
    "\n",
    "\n"
   ]
  },
  {
   "cell_type": "markdown",
   "metadata": {},
   "source": [
    "## Delta\n",
    "\n",
    "- [Referência](https://duckdb.org/docs/extensions/delta)\n",
    "- Nativo a partir da versão 1.0"
   ]
  },
  {
   "cell_type": "code",
   "execution_count": null,
   "metadata": {},
   "outputs": [],
   "source": [
    "!pip install deltalake --quiet\n",
    "!pip install pyarrow --quiet\n",
    "!pip install pandas --quiet\n",
    "!pip install duckdb --quiet"
   ]
  },
  {
   "cell_type": "code",
   "execution_count": null,
   "metadata": {},
   "outputs": [],
   "source": [
    "\n",
    "import pandas as pd\n",
    "from deltalake import DeltaTable, write_deltalake\n",
    "from pyarrow import dataset as ds\n",
    "import duckdb\n",
    "acsv = ds.dataset('data/aula4/yellow_tripdata_2017-01.parquet')\n",
    "working_columns = [\"VendorID\",\"tpep_pickup_datetime\",\"tpep_dropoff_datetime\",\"passenger_count\",\"trip_distance\",\"RatecodeID\",\"store_and_fwd_flag\",\"PULocationID\",\"DOLocationID\",\"payment_type\",\"fare_amount\",\"extra\",\"mta_tax\",\"tip_amount\",\"tolls_amount\",\"improvement_surcharge\",\"total_amount\",\"congestion_surcharge\",\"airport_fee\"]\n",
    "dataset_scanner = acsv.scanner(columns=working_columns)\n",
    "nyc_table = dataset_scanner.to_table()\n",
    "\n",
    "con = duckdb.connect()\n",
    "query = con.execute(\"SELECT *  FROM nyc_table limit 10  \")\n",
    "df = query.df()\n",
    "\n",
    "write_deltalake('data/aula4/delta', df, mode='overwrite')\n",
    "\n"
   ]
  },
  {
   "cell_type": "code",
   "execution_count": null,
   "metadata": {},
   "outputs": [],
   "source": [
    "con.execute(\"INSTALL delta; \")\n",
    "con.execute(\"LOAD delta; \")\n",
    "query = con.execute(\"SELECT * FROM delta_scan('data/aula4/delta') ORDER BY 1; \")\n",
    "df = query.df()\n",
    "df"
   ]
  },
  {
   "cell_type": "markdown",
   "metadata": {},
   "source": [
    "## Spatial\n",
    "\n",
    "    - [Kepler](https://kepler.gl/demo)"
   ]
  },
  {
   "cell_type": "code",
   "execution_count": null,
   "metadata": {},
   "outputs": [],
   "source": [
    "#install duckdb version 0.10\n",
    "!pip install duckdb --quiet\n",
    "!pip install geopandas --quiet \n",
    "!pip install mapclassify --quiet "
   ]
  },
  {
   "cell_type": "code",
   "execution_count": null,
   "metadata": {},
   "outputs": [],
   "source": [
    "\n",
    "import duckdb\n",
    "import geopandas as gpd\n",
    "import pandas as pd "
   ]
  },
  {
   "cell_type": "code",
   "execution_count": null,
   "metadata": {},
   "outputs": [],
   "source": [
    "con = duckdb.connect()\n",
    "con.execute(\"INSTALL spatial;\")\n",
    "con.execute(\"LOAD spatial;\")  "
   ]
  },
  {
   "cell_type": "code",
   "execution_count": null,
   "metadata": {},
   "outputs": [],
   "source": [
    "\n",
    "con.execute(\" copy (    SELECT  ST_GeomFromWKB(geometry) as  geometry, * exclude geometry  FROM 'data/aula4/spatial/cities.parquet' where country = 'UGA'  ) TO 'data/aula4/spatial/uga.geojson' WITH (FORMAT GDAL, DRIVER 'GeoJSON')  \")\n",
    "con.execute(\" copy (    SELECT  ST_GeomFromWKB(geometry) as  geometry, * exclude geometry  FROM 'data/aula4/spatial/cities.parquet' where country = 'BRA'  ) TO 'data/aula4/spatial/bra.geojson' WITH (FORMAT GDAL, DRIVER 'GeoJSON')  \")"
   ]
  },
  {
   "cell_type": "code",
   "execution_count": null,
   "metadata": {},
   "outputs": [],
   "source": [
    "gpd.read_file('data/aula4/spatial/bra.geojson').explore()"
   ]
  },
  {
   "cell_type": "code",
   "execution_count": null,
   "metadata": {},
   "outputs": [],
   "source": [
    "gpd.read_file('data/aula4/spatial/uga.geojson').explore()"
   ]
  },
  {
   "cell_type": "markdown",
   "metadata": {},
   "source": [
    "## Full Text Search (FTS )\n",
    "    - create_fts_index\n",
    "    - schema com sufixo da tabela é criado Ex: fts_main_[nome da tabela]\n",
    "    - Alteração de colunas = Manutenção do index (recriação do index :( )"
   ]
  },
  {
   "cell_type": "code",
   "execution_count": null,
   "metadata": {},
   "outputs": [],
   "source": [
    "#create a table livros in duckdb \n",
    "con.execute(\"CREATE TABLE livros (id INTEGER, titulo VARCHAR, autor VARCHAR, descricao VARCHAR);\")"
   ]
  },
  {
   "cell_type": "code",
   "execution_count": null,
   "metadata": {},
   "outputs": [],
   "source": [
    "!pip install faker --quiet"
   ]
  },
  {
   "cell_type": "code",
   "execution_count": null,
   "metadata": {},
   "outputs": [],
   "source": [
    "from faker import Faker\n",
    "\n",
    "\n",
    "fake = Faker()\n",
    "\n",
    "# Generate fake data\n",
    "data = []\n",
    "for _ in range(1000):\n",
    "    id = fake.random_int(min=1, max=1000)\n",
    "    titulo = fake.sentence(nb_words=5)\n",
    "    autor = fake.name()\n",
    "    descricao = fake.paragraph()\n",
    "    data.append((id, titulo, autor, descricao))\n",
    "\n",
    "# Insert data into the table\n",
    "with con.cursor() as cursor:\n",
    "    cursor.executemany(\"INSERT INTO livros (id, titulo, autor, descricao) VALUES (?, ?, ?, ?)\", data)\n",
    "con.commit()\n"
   ]
  },
  {
   "cell_type": "code",
   "execution_count": null,
   "metadata": {},
   "outputs": [],
   "source": [
    "con.execute(\"SELECT * FROM livros\").df()"
   ]
  },
  {
   "cell_type": "code",
   "execution_count": null,
   "metadata": {},
   "outputs": [],
   "source": [
    "con.execute('''PRAGMA create_fts_index(\n",
    "    'livros', 'id', 'titulo', 'autor', 'descricao'\n",
    ");''')"
   ]
  },
  {
   "cell_type": "code",
   "execution_count": null,
   "metadata": {},
   "outputs": [],
   "source": [
    "con.execute(\"INSTALL fts;\")\n",
    "con.execute(\"LOAD fts;\") \n",
    "\n",
    "con.execute('''  SELECT *\n",
    "FROM (\n",
    "    SELECT *, fts_main_livros.match_bm25(\n",
    "        id,\n",
    "        'Party',\n",
    "        fields := 'titulo'\n",
    "    ) AS score\n",
    "    FROM livros\n",
    ") sq\n",
    "WHERE score IS NOT NULL \n",
    "ORDER BY score DESC;   ''').df()"
   ]
  },
  {
   "cell_type": "code",
   "execution_count": null,
   "metadata": {},
   "outputs": [],
   "source": [
    "con.execute(''' SELECT *\n",
    "FROM (\n",
    "    SELECT *, fts_main_livros.match_bm25(\n",
    "        id,\n",
    "        'strong politics'\n",
    "    ) AS score\n",
    "    FROM livros\n",
    ") sq\n",
    "WHERE score IS NOT NULL\n",
    "ORDER BY score DESC; ''').df()"
   ]
  },
  {
   "cell_type": "markdown",
   "metadata": {},
   "source": [
    "## Iceberg\n",
    "\n",
    "    - [Referência](https://iceberg.apache.org/)\n",
    "    - [Extensão](https://duckdb.org/docs/extensions/iceberg.html)\n",
    "    - Somente Leitura no Duckdb (v.1.0.0)"
   ]
  },
  {
   "cell_type": "code",
   "execution_count": null,
   "metadata": {},
   "outputs": [],
   "source": [
    "!wget https://duckdb.org/data/iceberg_data.zip\n",
    "!unzip iceberg_data.zip\n",
    "!rm -f iceberg_data.zip\n",
    "!cp -r iceberg_data data/aula4/iceberg_data"
   ]
  },
  {
   "cell_type": "code",
   "execution_count": null,
   "metadata": {},
   "outputs": [],
   "source": [
    "import duckdb\n",
    "con = duckdb.connect()\n",
    "con.execute(\"INSTALL iceberg;\")\n",
    "con.execute(\"LOAD iceberg;\")\n",
    "%load_ext sql\n",
    "conn = duckdb.connect()\n",
    "%sql conn --alias duckdb"
   ]
  },
  {
   "cell_type": "code",
   "execution_count": null,
   "metadata": {},
   "outputs": [],
   "source": [
    "%%sql \n",
    "install iceberg;\n",
    "load iceberg;\n",
    "SELECT * FROM iceberg_scan('data/aula4/iceberg/lineitem_iceberg', allow_moved_paths = true);"
   ]
  },
  {
   "cell_type": "markdown",
   "metadata": {},
   "source": [
    "## Postgres"
   ]
  },
  {
   "cell_type": "code",
   "execution_count": 1,
   "metadata": {},
   "outputs": [],
   "source": [
    "import duckdb\n",
    "con = duckdb.connect() \n",
    "%load_ext sql\n",
    "conn = duckdb.connect()\n",
    "%sql conn --alias duckdb"
   ]
  },
  {
   "cell_type": "code",
   "execution_count": 3,
   "metadata": {},
   "outputs": [
    {
     "data": {
      "text/html": [
       "<span style=\"None\">Running query in &#x27;duckdb&#x27;</span>"
      ],
      "text/plain": [
       "Running query in 'duckdb'"
      ]
     },
     "metadata": {},
     "output_type": "display_data"
    },
    {
     "ename": "IOException",
     "evalue": "IO Error: Unable to connect to Postgres at dbname=postgres user=lord password=postgres123 host=127.0.0.1: connection to server at \"127.0.0.1\", port 5432 failed: Connection refused\n\tIs the server running on that host and accepting TCP/IP connections?\n",
     "output_type": "error",
     "traceback": [
      "\u001b[0;31m---------------------------------------------------------------------------\u001b[0m",
      "\u001b[0;31mIOException\u001b[0m                               Traceback (most recent call last)",
      "Cell \u001b[0;32mIn[3], line 1\u001b[0m\n\u001b[0;32m----> 1\u001b[0m \u001b[43mget_ipython\u001b[49m\u001b[43m(\u001b[49m\u001b[43m)\u001b[49m\u001b[38;5;241;43m.\u001b[39;49m\u001b[43mrun_cell_magic\u001b[49m\u001b[43m(\u001b[49m\u001b[38;5;124;43m'\u001b[39;49m\u001b[38;5;124;43msql\u001b[39;49m\u001b[38;5;124;43m'\u001b[39;49m\u001b[43m,\u001b[49m\u001b[43m \u001b[49m\u001b[38;5;124;43m'\u001b[39;49m\u001b[38;5;124;43m'\u001b[39;49m\u001b[43m,\u001b[49m\u001b[43m \u001b[49m\u001b[38;5;124;43m\"\u001b[39;49m\u001b[38;5;130;43;01m\\n\u001b[39;49;00m\u001b[38;5;124;43mINSTALL postgres;\u001b[39;49m\u001b[38;5;130;43;01m\\n\u001b[39;49;00m\u001b[38;5;124;43mLOAD postgres;\u001b[39;49m\u001b[38;5;130;43;01m\\n\u001b[39;49;00m\u001b[38;5;130;43;01m\\n\u001b[39;49;00m\u001b[38;5;130;43;01m\\n\u001b[39;49;00m\u001b[38;5;124;43mATTACH \u001b[39;49m\u001b[38;5;124;43m'\u001b[39;49m\u001b[38;5;124;43mdbname=postgres user=lord password=postgres123 host=127.0.0.1\u001b[39;49m\u001b[38;5;124;43m'\u001b[39;49m\u001b[38;5;124;43m AS db (TYPE POSTGRES, READ_ONLY);\u001b[39;49m\u001b[38;5;130;43;01m\\n\u001b[39;49;00m\u001b[38;5;130;43;01m\\n\u001b[39;49;00m\u001b[38;5;124;43m\"\u001b[39;49m\u001b[43m)\u001b[49m\n",
      "File \u001b[0;32m~/.local/lib/python3.10/site-packages/IPython/core/interactiveshell.py:2541\u001b[0m, in \u001b[0;36mInteractiveShell.run_cell_magic\u001b[0;34m(self, magic_name, line, cell)\u001b[0m\n\u001b[1;32m   2539\u001b[0m \u001b[38;5;28;01mwith\u001b[39;00m \u001b[38;5;28mself\u001b[39m\u001b[38;5;241m.\u001b[39mbuiltin_trap:\n\u001b[1;32m   2540\u001b[0m     args \u001b[38;5;241m=\u001b[39m (magic_arg_s, cell)\n\u001b[0;32m-> 2541\u001b[0m     result \u001b[38;5;241m=\u001b[39m \u001b[43mfn\u001b[49m\u001b[43m(\u001b[49m\u001b[38;5;241;43m*\u001b[39;49m\u001b[43margs\u001b[49m\u001b[43m,\u001b[49m\u001b[43m \u001b[49m\u001b[38;5;241;43m*\u001b[39;49m\u001b[38;5;241;43m*\u001b[39;49m\u001b[43mkwargs\u001b[49m\u001b[43m)\u001b[49m\n\u001b[1;32m   2543\u001b[0m \u001b[38;5;66;03m# The code below prevents the output from being displayed\u001b[39;00m\n\u001b[1;32m   2544\u001b[0m \u001b[38;5;66;03m# when using magics with decorator @output_can_be_silenced\u001b[39;00m\n\u001b[1;32m   2545\u001b[0m \u001b[38;5;66;03m# when the last Python token in the expression is a ';'.\u001b[39;00m\n\u001b[1;32m   2546\u001b[0m \u001b[38;5;28;01mif\u001b[39;00m \u001b[38;5;28mgetattr\u001b[39m(fn, magic\u001b[38;5;241m.\u001b[39mMAGIC_OUTPUT_CAN_BE_SILENCED, \u001b[38;5;28;01mFalse\u001b[39;00m):\n",
      "File \u001b[0;32m~/.python/current/lib/python3.10/site-packages/sql/magic.py:369\u001b[0m, in \u001b[0;36mSqlMagic.execute\u001b[0;34m(self, line, cell, local_ns)\u001b[0m\n\u001b[1;32m    261\u001b[0m \u001b[38;5;129m@no_var_expand\u001b[39m\n\u001b[1;32m    262\u001b[0m \u001b[38;5;129m@needs_local_scope\u001b[39m\n\u001b[1;32m    263\u001b[0m \u001b[38;5;129m@line_magic\u001b[39m(\u001b[38;5;124m\"\u001b[39m\u001b[38;5;124msql\u001b[39m\u001b[38;5;124m\"\u001b[39m)\n\u001b[0;32m   (...)\u001b[0m\n\u001b[1;32m    341\u001b[0m )\n\u001b[1;32m    342\u001b[0m \u001b[38;5;28;01mdef\u001b[39;00m \u001b[38;5;21mexecute\u001b[39m(\u001b[38;5;28mself\u001b[39m, line\u001b[38;5;241m=\u001b[39m\u001b[38;5;124m\"\u001b[39m\u001b[38;5;124m\"\u001b[39m, cell\u001b[38;5;241m=\u001b[39m\u001b[38;5;124m\"\u001b[39m\u001b[38;5;124m\"\u001b[39m, local_ns\u001b[38;5;241m=\u001b[39m\u001b[38;5;28;01mNone\u001b[39;00m):\n\u001b[1;32m    343\u001b[0m \u001b[38;5;250m    \u001b[39m\u001b[38;5;124;03m\"\"\"\u001b[39;00m\n\u001b[1;32m    344\u001b[0m \u001b[38;5;124;03m    Runs SQL statement against a database, specified by\u001b[39;00m\n\u001b[1;32m    345\u001b[0m \u001b[38;5;124;03m    SQLAlchemy connect string.\u001b[39;00m\n\u001b[0;32m   (...)\u001b[0m\n\u001b[1;32m    367\u001b[0m \n\u001b[1;32m    368\u001b[0m \u001b[38;5;124;03m    \"\"\"\u001b[39;00m\n\u001b[0;32m--> 369\u001b[0m     \u001b[38;5;28;01mreturn\u001b[39;00m \u001b[38;5;28;43mself\u001b[39;49m\u001b[38;5;241;43m.\u001b[39;49m\u001b[43m_execute\u001b[49m\u001b[43m(\u001b[49m\n\u001b[1;32m    370\u001b[0m \u001b[43m        \u001b[49m\u001b[43mline\u001b[49m\u001b[38;5;241;43m=\u001b[39;49m\u001b[43mline\u001b[49m\u001b[43m,\u001b[49m\u001b[43m \u001b[49m\u001b[43mcell\u001b[49m\u001b[38;5;241;43m=\u001b[39;49m\u001b[43mcell\u001b[49m\u001b[43m,\u001b[49m\u001b[43m \u001b[49m\u001b[43mlocal_ns\u001b[49m\u001b[38;5;241;43m=\u001b[39;49m\u001b[43mlocal_ns\u001b[49m\u001b[43m,\u001b[49m\u001b[43m \u001b[49m\u001b[43mis_interactive_mode\u001b[49m\u001b[38;5;241;43m=\u001b[39;49m\u001b[38;5;28;43;01mFalse\u001b[39;49;00m\n\u001b[1;32m    371\u001b[0m \u001b[43m    \u001b[49m\u001b[43m)\u001b[49m\n",
      "File \u001b[0;32m~/.python/current/lib/python3.10/site-packages/ploomber_core/telemetry/telemetry.py:696\u001b[0m, in \u001b[0;36mTelemetry.log_call.<locals>._log_call.<locals>.wrapper\u001b[0;34m(*args, **kwargs)\u001b[0m\n\u001b[1;32m    694\u001b[0m     injected_args \u001b[38;5;241m=\u001b[39m \u001b[38;5;28mlist\u001b[39m(args)\n\u001b[1;32m    695\u001b[0m     injected_args\u001b[38;5;241m.\u001b[39minsert(\u001b[38;5;241m1\u001b[39m, _payload)\n\u001b[0;32m--> 696\u001b[0m     result \u001b[38;5;241m=\u001b[39m \u001b[43mfunc\u001b[49m\u001b[43m(\u001b[49m\u001b[38;5;241;43m*\u001b[39;49m\u001b[43minjected_args\u001b[49m\u001b[43m,\u001b[49m\u001b[43m \u001b[49m\u001b[38;5;241;43m*\u001b[39;49m\u001b[38;5;241;43m*\u001b[39;49m\u001b[43mkwargs\u001b[49m\u001b[43m)\u001b[49m\n\u001b[1;32m    697\u001b[0m \u001b[38;5;28;01melse\u001b[39;00m:\n\u001b[1;32m    698\u001b[0m     result \u001b[38;5;241m=\u001b[39m func(_payload, \u001b[38;5;241m*\u001b[39margs, \u001b[38;5;241m*\u001b[39m\u001b[38;5;241m*\u001b[39mkwargs)\n",
      "File \u001b[0;32m~/.python/current/lib/python3.10/site-packages/ploomber_core/exceptions.py:128\u001b[0m, in \u001b[0;36mmodify_exceptions.<locals>.wrapper\u001b[0;34m(*args, **kwargs)\u001b[0m\n\u001b[1;32m    125\u001b[0m \u001b[38;5;129m@wraps\u001b[39m(fn)\n\u001b[1;32m    126\u001b[0m \u001b[38;5;28;01mdef\u001b[39;00m \u001b[38;5;21mwrapper\u001b[39m(\u001b[38;5;241m*\u001b[39margs, \u001b[38;5;241m*\u001b[39m\u001b[38;5;241m*\u001b[39mkwargs):\n\u001b[1;32m    127\u001b[0m     \u001b[38;5;28;01mtry\u001b[39;00m:\n\u001b[0;32m--> 128\u001b[0m         \u001b[38;5;28;01mreturn\u001b[39;00m \u001b[43mfn\u001b[49m\u001b[43m(\u001b[49m\u001b[38;5;241;43m*\u001b[39;49m\u001b[43margs\u001b[49m\u001b[43m,\u001b[49m\u001b[43m \u001b[49m\u001b[38;5;241;43m*\u001b[39;49m\u001b[38;5;241;43m*\u001b[39;49m\u001b[43mkwargs\u001b[49m\u001b[43m)\u001b[49m\n\u001b[1;32m    129\u001b[0m     \u001b[38;5;28;01mexcept\u001b[39;00m (\u001b[38;5;167;01mValueError\u001b[39;00m, \u001b[38;5;167;01mTypeError\u001b[39;00m) \u001b[38;5;28;01mas\u001b[39;00m e:\n\u001b[1;32m    130\u001b[0m         _add_community_link(e)\n",
      "File \u001b[0;32m~/.python/current/lib/python3.10/site-packages/sql/magic.py:628\u001b[0m, in \u001b[0;36mSqlMagic._execute\u001b[0;34m(self, payload, line, cell, local_ns, is_interactive_mode)\u001b[0m\n\u001b[1;32m    625\u001b[0m     handle_exception(e, command\u001b[38;5;241m.\u001b[39msql, \u001b[38;5;28mself\u001b[39m\u001b[38;5;241m.\u001b[39mshort_errors)\n\u001b[1;32m    626\u001b[0m \u001b[38;5;28;01mexcept\u001b[39;00m \u001b[38;5;167;01mException\u001b[39;00m \u001b[38;5;28;01mas\u001b[39;00m e:\n\u001b[1;32m    627\u001b[0m     \u001b[38;5;66;03m# Handle non SQLAlchemy errors\u001b[39;00m\n\u001b[0;32m--> 628\u001b[0m     \u001b[43mhandle_exception\u001b[49m\u001b[43m(\u001b[49m\u001b[43me\u001b[49m\u001b[43m,\u001b[49m\u001b[43m \u001b[49m\u001b[43mcommand\u001b[49m\u001b[38;5;241;43m.\u001b[39;49m\u001b[43msql\u001b[49m\u001b[43m,\u001b[49m\u001b[43m \u001b[49m\u001b[38;5;28;43mself\u001b[39;49m\u001b[38;5;241;43m.\u001b[39;49m\u001b[43mshort_errors\u001b[49m\u001b[43m)\u001b[49m\n",
      "File \u001b[0;32m~/.python/current/lib/python3.10/site-packages/sql/error_handler.py:115\u001b[0m, in \u001b[0;36mhandle_exception\u001b[0;34m(error, query, short_error)\u001b[0m\n\u001b[1;32m    113\u001b[0m         _display_error_msg_with_trace(error, detailed_message)\n\u001b[1;32m    114\u001b[0m \u001b[38;5;28;01melse\u001b[39;00m:\n\u001b[0;32m--> 115\u001b[0m     \u001b[38;5;28;01mraise\u001b[39;00m error\n",
      "File \u001b[0;32m~/.python/current/lib/python3.10/site-packages/sql/magic.py:582\u001b[0m, in \u001b[0;36mSqlMagic._execute\u001b[0;34m(self, payload, line, cell, local_ns, is_interactive_mode)\u001b[0m\n\u001b[1;32m    579\u001b[0m     parameters \u001b[38;5;241m=\u001b[39m user_ns\n\u001b[1;32m    581\u001b[0m \u001b[38;5;28;01mtry\u001b[39;00m:\n\u001b[0;32m--> 582\u001b[0m     result \u001b[38;5;241m=\u001b[39m \u001b[43mrun_statements\u001b[49m\u001b[43m(\u001b[49m\u001b[43mconn\u001b[49m\u001b[43m,\u001b[49m\u001b[43m \u001b[49m\u001b[43mcommand\u001b[49m\u001b[38;5;241;43m.\u001b[39;49m\u001b[43msql\u001b[49m\u001b[43m,\u001b[49m\u001b[43m \u001b[49m\u001b[38;5;28;43mself\u001b[39;49m\u001b[43m,\u001b[49m\u001b[43m \u001b[49m\u001b[43mparameters\u001b[49m\u001b[38;5;241;43m=\u001b[39;49m\u001b[43mparameters\u001b[49m\u001b[43m)\u001b[49m\n\u001b[1;32m    584\u001b[0m     \u001b[38;5;28;01mif\u001b[39;00m (\n\u001b[1;32m    585\u001b[0m         result \u001b[38;5;129;01mis\u001b[39;00m \u001b[38;5;129;01mnot\u001b[39;00m \u001b[38;5;28;01mNone\u001b[39;00m\n\u001b[1;32m    586\u001b[0m         \u001b[38;5;129;01mand\u001b[39;00m \u001b[38;5;129;01mnot\u001b[39;00m \u001b[38;5;28misinstance\u001b[39m(result, \u001b[38;5;28mstr\u001b[39m)\n\u001b[0;32m   (...)\u001b[0m\n\u001b[1;32m    589\u001b[0m         \u001b[38;5;66;03m# Instead of returning values, set variables directly in the\u001b[39;00m\n\u001b[1;32m    590\u001b[0m         \u001b[38;5;66;03m# users namespace. Variable names given by column names\u001b[39;00m\n\u001b[1;32m    592\u001b[0m         \u001b[38;5;28;01mif\u001b[39;00m \u001b[38;5;28mself\u001b[39m\u001b[38;5;241m.\u001b[39mautopandas \u001b[38;5;129;01mor\u001b[39;00m \u001b[38;5;28mself\u001b[39m\u001b[38;5;241m.\u001b[39mautopolars:\n",
      "File \u001b[0;32m~/.python/current/lib/python3.10/site-packages/sql/run/run.py:54\u001b[0m, in \u001b[0;36mrun_statements\u001b[0;34m(conn, sql, config, parameters)\u001b[0m\n\u001b[1;32m     50\u001b[0m     result \u001b[38;5;241m=\u001b[39m handle_postgres_special(conn, statement)\n\u001b[1;32m     52\u001b[0m \u001b[38;5;66;03m# regular query\u001b[39;00m\n\u001b[1;32m     53\u001b[0m \u001b[38;5;28;01melse\u001b[39;00m:\n\u001b[0;32m---> 54\u001b[0m     result \u001b[38;5;241m=\u001b[39m \u001b[43mconn\u001b[49m\u001b[38;5;241;43m.\u001b[39;49m\u001b[43mraw_execute\u001b[49m\u001b[43m(\u001b[49m\u001b[43mstatement\u001b[49m\u001b[43m,\u001b[49m\u001b[43m \u001b[49m\u001b[43mparameters\u001b[49m\u001b[38;5;241;43m=\u001b[39;49m\u001b[43mparameters\u001b[49m\u001b[43m)\u001b[49m\n\u001b[1;32m     55\u001b[0m     \u001b[38;5;28;01mif\u001b[39;00m is_spark(conn\u001b[38;5;241m.\u001b[39mdialect) \u001b[38;5;129;01mand\u001b[39;00m config\u001b[38;5;241m.\u001b[39mlazy_execution:\n\u001b[1;32m     56\u001b[0m         \u001b[38;5;28;01mreturn\u001b[39;00m result\u001b[38;5;241m.\u001b[39mdataframe\n",
      "File \u001b[0;32m~/.python/current/lib/python3.10/site-packages/sql/connection/connection.py:1048\u001b[0m, in \u001b[0;36mDBAPIConnection.raw_execute\u001b[0;34m(self, query, parameters, with_)\u001b[0m\n\u001b[1;32m   1045\u001b[0m     query \u001b[38;5;241m=\u001b[39m \u001b[38;5;28mself\u001b[39m\u001b[38;5;241m.\u001b[39m_resolve_cte(query, with_)\n\u001b[1;32m   1047\u001b[0m cur \u001b[38;5;241m=\u001b[39m \u001b[38;5;28mself\u001b[39m\u001b[38;5;241m.\u001b[39m_connection\u001b[38;5;241m.\u001b[39mcursor()\n\u001b[0;32m-> 1048\u001b[0m \u001b[43mcur\u001b[49m\u001b[38;5;241;43m.\u001b[39;49m\u001b[43mexecute\u001b[49m\u001b[43m(\u001b[49m\u001b[43mquery\u001b[49m\u001b[43m)\u001b[49m\n\u001b[1;32m   1050\u001b[0m \u001b[38;5;28;01mif\u001b[39;00m \u001b[38;5;28mself\u001b[39m\u001b[38;5;241m.\u001b[39m_requires_manual_commit:\n\u001b[1;32m   1051\u001b[0m     \u001b[38;5;28mself\u001b[39m\u001b[38;5;241m.\u001b[39m_connection\u001b[38;5;241m.\u001b[39mcommit()\n",
      "\u001b[0;31mIOException\u001b[0m: IO Error: Unable to connect to Postgres at dbname=postgres user=lord password=postgres123 host=127.0.0.1: connection to server at \"127.0.0.1\", port 5432 failed: Connection refused\n\tIs the server running on that host and accepting TCP/IP connections?\n"
     ]
    }
   ],
   "source": [
    "%%sql \n",
    "\n",
    "INSTALL postgres;\n",
    "LOAD postgres;\n",
    "\n",
    "\n",
    "ATTACH 'dbname=postgres user=lord password=postgres123 host=127.0.0.1' AS db (TYPE POSTGRES, READ_ONLY);\n",
    "\n"
   ]
  },
  {
   "cell_type": "code",
   "execution_count": null,
   "metadata": {},
   "outputs": [],
   "source": [
    "#mysql"
   ]
  }
 ],
 "metadata": {
  "kernelspec": {
   "display_name": "Python 3",
   "language": "python",
   "name": "python3"
  },
  "language_info": {
   "codemirror_mode": {
    "name": "ipython",
    "version": 3
   },
   "file_extension": ".py",
   "mimetype": "text/x-python",
   "name": "python",
   "nbconvert_exporter": "python",
   "pygments_lexer": "ipython3",
   "version": "3.10.13"
  }
 },
 "nbformat": 4,
 "nbformat_minor": 2
}
